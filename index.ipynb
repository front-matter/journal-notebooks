{
 "cells": [
  {
   "cell_type": "markdown",
   "metadata": {},
   "source": [
    "## Citation and Crossref Event Data Activity for JOSS Articles\n",
    "\n",
    "Find and display events from the Journal of Open Source Software (JOSS) prefix 10.21105."
   ]
  },
  {
   "cell_type": "code",
   "execution_count": 75,
   "metadata": {},
   "outputs": [],
   "source": [
    "import sys\n",
    "sys.path.append('../')\n",
    "sys.path.insert(0, '..')\n",
    "\n",
    "import pandas as pd # data analysis library\n",
    "import numpy as np\n",
    "import json\n",
    "import mrced2 # module to run event data queries\n",
    "import os # some file manipulations\n",
    "import math # some number manipulations\n",
    "import copy # to avoid copying references\n",
    "import requests\n",
    "import altair.vegalite.v3 as alt # some data visualizations\n",
    "from IPython.display import Markdown as md # some markdown manipulations\n",
    "from datetime import datetime, date, timedelta # some date manipulations"
   ]
  },
  {
   "cell_type": "code",
   "execution_count": 82,
   "metadata": {},
   "outputs": [
    {
     "name": "stdout",
     "output_type": "stream",
     "text": [
      "Added 500 rows.\n",
      "Added 500 rows.\n",
      "Added 500 rows.\n",
      "Added 31 rows.\n",
      "Added 0 rows.\n"
     ]
    },
    {
     "data": {
      "text/plain": [
       "DOI                               object\n",
       "published.date-parts      datetime64[ns]\n",
       "is-referenced-by-count            object\n",
       "title                             object\n",
       "dtype: object"
      ]
     },
     "execution_count": 82,
     "metadata": {},
     "output_type": "execute_result"
    }
   ],
   "source": [
    "email = \"info@front-matter.io\"\n",
    "prefix = \"10.21105\"\n",
    "\n",
    "fname = 'works_' + prefix + '_' + str(date.today().strftime('%Y-%m-%d')) + '.csv'\n",
    "url = f'https://api.crossref.org/prefixes/{prefix}/works'\n",
    "cursor = '*'\n",
    "counter = 0\n",
    "items = [1]\n",
    "df = pd.DataFrame(columns=['DOI','published.date-parts','is-referenced-by-count','title'])\n",
    "\n",
    "while len(items) > 0:\n",
    "    params = {'rows': '500', 'sort': 'is-referenced-by-count', 'order': 'desc', 'cursor': cursor, 'mailto': 'info@front-matter.io'}\n",
    "    response = requests.get(url, params)\n",
    "    \n",
    "    counter += 1\n",
    "    cursor = response.json().get('message', {}).get('next-cursor', '*')\n",
    "    items = response.json().get('message', {}).get('items', [])\n",
    "    data = pd.json_normalize(items)\n",
    "    df2 = pd.DataFrame(data, columns=['DOI','published.date-parts','is-referenced-by-count','title'])\n",
    "    \n",
    "    # extract publication date from date-parts\n",
    "    def get_publication_date(x):\n",
    "        try:\n",
    "            date_as_string = str(x)\n",
    "            date = datetime.strptime(date_as_string[2:-2], \"%Y, %m, %d\")\n",
    "            return date.strftime(\"%Y-%m-%d\")\n",
    "        except:\n",
    "            return None\n",
    "\n",
    "    # clean up title        \n",
    "    def get_title(x):\n",
    "        str = x[0]\n",
    "        return str.strip()\n",
    "\n",
    "    df2['published.date-parts'] = df2['published.date-parts'].apply(get_publication_date)\n",
    "    df2['published.date-parts'] = df2['published.date-parts'].astype('datetime64[ns]')\n",
    "    df2['is-referenced-by-count'] = df2['is-referenced-by-count'].astype('int')\n",
    "    df2['title'] = df2['title'].apply(get_title)\n",
    "    \n",
    "    df = pd.concat([df, df2], axis=0)\n",
    "    print('Added ' + str(len(items)) + ' rows.')\n",
    "\n",
    "df.to_csv(fname, index=False)"
   ]
  },
  {
   "cell_type": "code",
   "execution_count": 80,
   "metadata": {
    "tags": []
   },
   "outputs": [
    {
     "data": {
      "application/vnd.vegalite.v3+json": {
       "$schema": "https://vega.github.io/schema/vega-lite/v3.4.0.json",
       "config": {
        "axis": {
         "grid": false,
         "labelFontSize": 18,
         "titleFontSize": 18
        },
        "mark": {
         "tooltip": null
        },
        "title": {
         "fontSize": 18
        },
        "view": {
         "height": 300,
         "width": 400
        }
       },
       "data": {
        "name": "data-5e6c08df9b0760e83817b1ee1150f0cb"
       },
       "datasets": {
        "data-5e6c08df9b0760e83817b1ee1150f0cb": [
         {
          "DOI": "10.21105/joss.01686",
          "is-referenced-by-count": 2078,
          "published.date-parts": "2019-11-21T00:00:00",
          "title": "Welcome to the Tidyverse"
         },
         {
          "DOI": "10.21105/joss.00861",
          "is-referenced-by-count": 1502,
          "published.date-parts": "2018-09-02T00:00:00",
          "title": "UMAP: Uniform Manifold Approximation and Projection"
         },
         {
          "DOI": "10.21105/joss.00024",
          "is-referenced-by-count": 619,
          "published.date-parts": "2016-06-08T00:00:00",
          "title": "corner.py: Scatterplot matrices in Python"
         },
         {
          "DOI": "10.21105/joss.00205",
          "is-referenced-by-count": 346,
          "published.date-parts": "2017-03-21T00:00:00",
          "title": "hdbscan: Hierarchical density based clustering"
         },
         {
          "DOI": "10.21105/joss.00097",
          "is-referenced-by-count": 273,
          "published.date-parts": "2017-01-10T00:00:00",
          "title": "SALib: An open-source Python library for Sensitivity Analysis"
         },
         {
          "DOI": "10.21105/joss.00772",
          "is-referenced-by-count": 269,
          "published.date-parts": "2018-06-29T00:00:00",
          "title": "ggeffects: Tidy Data Frames of Marginal Effects from Regression Models"
         },
         {
          "DOI": "10.21105/joss.00026",
          "is-referenced-by-count": 242,
          "published.date-parts": "2016-06-10T00:00:00",
          "title": "Armadillo: a template-based C++ library for linear algebra"
         },
         {
          "DOI": "10.21105/joss.00774",
          "is-referenced-by-count": 192,
          "published.date-parts": "2018-10-06T00:00:00",
          "title": "quanteda: An R package for the quantitative analysis of textual data"
         },
         {
          "DOI": "10.21105/joss.00731",
          "is-referenced-by-count": 191,
          "published.date-parts": "2018-05-19T00:00:00",
          "title": "qqman: an R package for visualizing GWAS results using Q-Q and manhattan plots"
         },
         {
          "DOI": "10.21105/joss.00037",
          "is-referenced-by-count": 181,
          "published.date-parts": "2016-07-11T00:00:00",
          "title": "tidytext: Text Mining and Analysis Using Tidy Data Principles in R"
         },
         {
          "DOI": "10.21105/joss.01026",
          "is-referenced-by-count": 180,
          "published.date-parts": "2018-11-19T00:00:00",
          "title": "Pingouin: statistics in Python"
         },
         {
          "DOI": "10.21105/joss.03021",
          "is-referenced-by-count": 178,
          "published.date-parts": "2021-04-06T00:00:00",
          "title": "seaborn: statistical data visualization"
         },
         {
          "DOI": "10.21105/joss.00884",
          "is-referenced-by-count": 170,
          "published.date-parts": "2018-09-07T00:00:00",
          "title": "pvlib python: a python package for modeling solar energy systems"
         },
         {
          "DOI": "10.21105/joss.01541",
          "is-referenced-by-count": 162,
          "published.date-parts": "2019-08-13T00:00:00",
          "title": "bayestestR: Describing Effects and their Uncertainty, Existence and Significance within the Bayesian Framework"
         },
         {
          "DOI": "10.21105/joss.00638",
          "is-referenced-by-count": 138,
          "published.date-parts": "2018-04-22T00:00:00",
          "title": "MLxtend: Providing machine learning and data science utilities and extensions to Python’s scientific computing stack"
         },
         {
          "DOI": "10.21105/joss.01298",
          "is-referenced-by-count": 137,
          "published.date-parts": "2019-03-27T00:00:00",
          "title": "healpy: equal area pixelization and spherical harmonics transforms for data on the sphere in Python"
         },
         {
          "DOI": "10.21105/astro.1306.2144",
          "is-referenced-by-count": 131,
          "published.date-parts": "2019-11-27T00:00:00",
          "title": "Importance Nested Sampling and the MultiNest Algorithm"
         },
         {
          "DOI": "10.21105/joss.00265",
          "is-referenced-by-count": 127,
          "published.date-parts": "2017-05-26T00:00:00",
          "title": "Mosquitto: server and client implementation of the MQTT protocol"
         },
         {
          "DOI": "10.21105/joss.00045",
          "is-referenced-by-count": 103,
          "published.date-parts": "2016-08-30T00:00:00",
          "title": "ChainConsumer"
         },
         {
          "DOI": "10.21105/joss.00786",
          "is-referenced-by-count": 99,
          "published.date-parts": "2018-06-27T00:00:00",
          "title": "iml: An R package for Interpretable Machine Learning"
         },
         {
          "DOI": "10.21105/joss.01237",
          "is-referenced-by-count": 99,
          "published.date-parts": "2019-04-12T00:00:00",
          "title": "PyWavelets: A Python package for wavelet analysis"
         },
         {
          "DOI": "10.21105/joss.00027",
          "is-referenced-by-count": 94,
          "published.date-parts": "2016-09-14T00:00:00",
          "title": "sourmash: a library for MinHash sketching of DNA"
         },
         {
          "DOI": "10.21105/joss.00058",
          "is-referenced-by-count": 91,
          "published.date-parts": "2016-10-05T00:00:00",
          "title": "SEP: Source Extractor as a library"
         },
         {
          "DOI": "10.21105/joss.00717",
          "is-referenced-by-count": 90,
          "published.date-parts": "2018-08-07T00:00:00",
          "title": "sumo: Command-line tools for plotting and analysis of periodic ab initio calculations"
         },
         {
          "DOI": "10.21105/joss.00470",
          "is-referenced-by-count": 89,
          "published.date-parts": "2018-02-05T00:00:00",
          "title": "The psycho Package: an Efficient and Publishing-Oriented Workflow for Psychological Science"
         },
         {
          "DOI": "10.21105/joss.00568",
          "is-referenced-by-count": 84,
          "published.date-parts": "2018-03-06T00:00:00",
          "title": "Gramm: grammar of graphics plotting in Matlab"
         },
         {
          "DOI": "10.21105/joss.00615",
          "is-referenced-by-count": 82,
          "published.date-parts": "2018-04-04T00:00:00",
          "title": "Optim: A mathematical optimization package for Julia"
         },
         {
          "DOI": "10.21105/joss.00236",
          "is-referenced-by-count": 75,
          "published.date-parts": "2017-04-19T00:00:00",
          "title": "Brightway: An open source framework for Life Cycle Assessment"
         },
         {
          "DOI": "10.21105/joss.00388",
          "is-referenced-by-count": 71,
          "published.date-parts": "2017-10-08T00:00:00",
          "title": "Gala: A Python package for galactic dynamics"
         },
         {
          "DOI": "10.21105/joss.00695",
          "is-referenced-by-count": 67,
          "published.date-parts": "2018-06-27T00:00:00",
          "title": "dustmaps: A Python interface for maps of interstellar dust"
         },
         {
          "DOI": "10.21105/joss.01370",
          "is-referenced-by-count": 67,
          "published.date-parts": "2019-05-12T00:00:00",
          "title": "AMReX: a framework for block-structured adaptive mesh refinement"
         },
         {
          "DOI": "10.21105/joss.00978",
          "is-referenced-by-count": 67,
          "published.date-parts": "2018-10-10T00:00:00",
          "title": "tidyLPA: An R Package to Easily Carry Out Latent Profile Analysis (LPA) Using Open-Source or Commercial Software"
         },
         {
          "DOI": "10.21105/joss.00747",
          "is-referenced-by-count": 64,
          "published.date-parts": "2019-01-15T00:00:00",
          "title": "NN-SVG: Publication-Ready Neural Network Architecture Schematics"
         },
         {
          "DOI": "10.21105/joss.00432",
          "is-referenced-by-count": 58,
          "published.date-parts": "2017-11-04T00:00:00",
          "title": "Augmentor: An Image Augmentation Library for Machine Learning"
         },
         {
          "DOI": "10.21105/joss.00765",
          "is-referenced-by-count": 56,
          "published.date-parts": "2018-06-11T00:00:00",
          "title": "Philentropy: Information Theory and Distance Quantification with R"
         },
         {
          "DOI": "10.21105/joss.01143",
          "is-referenced-by-count": 56,
          "published.date-parts": "2019-01-15T00:00:00",
          "title": "ArviZ a unified library for exploratory analysis of Bayesian models in Python"
         },
         {
          "DOI": "10.21105/joss.00602",
          "is-referenced-by-count": 55,
          "published.date-parts": "2018-05-03T00:00:00",
          "title": "Flux: Elegant machine learning with Julia"
         },
         {
          "DOI": "10.21105/joss.00500",
          "is-referenced-by-count": 53,
          "published.date-parts": "2018-02-05T00:00:00",
          "title": "DART: Dynamic Animation and Robotics Toolkit"
         },
         {
          "DOI": "10.21105/joss.00456",
          "is-referenced-by-count": 53,
          "published.date-parts": "2017-12-04T00:00:00",
          "title": "ros_control: A generic and simple control framework for ROS"
         },
         {
          "DOI": "10.21105/joss.02815",
          "is-referenced-by-count": 53,
          "published.date-parts": "2020-12-23T00:00:00",
          "title": "effectsize: Estimation of Effect Size Indices and Standardized Parameters"
         },
         {
          "DOI": "10.21105/joss.01057",
          "is-referenced-by-count": 53,
          "published.date-parts": "2018-12-10T00:00:00",
          "title": "Altair: Interactive Statistical Visualizations for Python"
         },
         {
          "DOI": "10.21105/joss.00934",
          "is-referenced-by-count": 49,
          "published.date-parts": "2018-10-23T00:00:00",
          "title": "q2-sample-classifier: machine-learning tools for microbiome classification and regression"
         },
         {
          "DOI": "10.21105/joss.01864",
          "is-referenced-by-count": 48,
          "published.date-parts": "2019-11-17T00:00:00",
          "title": "emcee v3: A Python ensemble sampling toolkit for affine-invariant MCMC"
         },
         {
          "DOI": "10.21105/joss.01829",
          "is-referenced-by-count": 48,
          "published.date-parts": "2019-10-24T00:00:00",
          "title": "rtweet: Collecting and analyzing Twitter data"
         },
         {
          "DOI": "10.21105/joss.01169",
          "is-referenced-by-count": 47,
          "published.date-parts": "2019-04-14T00:00:00",
          "title": "scikit-posthocs: Pairwise multiple comparison tests in Python"
         },
         {
          "DOI": "10.21105/joss.01556",
          "is-referenced-by-count": 46,
          "published.date-parts": "2019-07-25T00:00:00",
          "title": "pyMannKendall: a python package for non parametric Mann Kendall family of trend tests."
         },
         {
          "DOI": "10.21105/joss.00118",
          "is-referenced-by-count": 46,
          "published.date-parts": "2016-12-05T00:00:00",
          "title": "Multilocus sequence typing by blast from de novo assemblies against PubMLST"
         },
         {
          "DOI": "10.21105/astro.1905.06082",
          "is-referenced-by-count": 44,
          "published.date-parts": "2019-06-26T00:00:00",
          "title": "Modelling baryonic feedback for survey cosmology"
         },
         {
          "DOI": "10.21105/joss.00648",
          "is-referenced-by-count": 43,
          "published.date-parts": "2018-03-29T00:00:00",
          "title": "comorbidity: An R package for computing comorbidity scores"
         },
         {
          "DOI": "10.21105/joss.01762",
          "is-referenced-by-count": 41,
          "published.date-parts": "2019-12-10T00:00:00",
          "title": "Mashtree: a rapid comparison of whole genome sequence files"
         },
         {
          "DOI": "10.21105/joss.00825",
          "is-referenced-by-count": 41,
          "published.date-parts": "2018-09-12T00:00:00",
          "title": "Calliope: a multi-scale energy systems modelling framework"
         },
         {
          "DOI": "10.21105/joss.00433",
          "is-referenced-by-count": 39,
          "published.date-parts": "2018-01-10T00:00:00",
          "title": "PySwarms: a research toolkit for Particle Swarm Optimization in Python"
         },
         {
          "DOI": "10.21105/joss.01296",
          "is-referenced-by-count": 39,
          "published.date-parts": "2019-05-01T00:00:00",
          "title": "PoreSpy: A Python Toolkit for Quantitative Analysis of Porous Media Images"
         },
         {
          "DOI": "10.21105/joss.01023",
          "is-referenced-by-count": 37,
          "published.date-parts": "2018-12-05T00:00:00",
          "title": "Overlapping: a R package for Estimating Overlapping in Empirical Distributions"
         },
         {
          "DOI": "10.21105/joss.02017",
          "is-referenced-by-count": 37,
          "published.date-parts": "2020-05-21T00:00:00",
          "title": "ggalluvial: Layered Grammar for Alluvial Plots"
         },
         {
          "DOI": "10.21105/joss.01230",
          "is-referenced-by-count": 37,
          "published.date-parts": "2019-04-14T00:00:00",
          "title": "PyClustering: Data Mining Library"
         },
         {
          "DOI": "10.21105/joss.03139",
          "is-referenced-by-count": 35,
          "published.date-parts": "2021-04-21T00:00:00",
          "title": "performance: An R Package for Assessment, Comparison and Testing of Statistical Models"
         },
         {
          "DOI": "10.21105/joss.02376",
          "is-referenced-by-count": 34,
          "published.date-parts": "2020-07-10T00:00:00",
          "title": "COVID-19 Data Hub"
         },
         {
          "DOI": "10.21105/joss.01028",
          "is-referenced-by-count": 33,
          "published.date-parts": "2018-10-31T00:00:00",
          "title": "rr2: An R package to calculate $R^2$s for regression models"
         },
         {
          "DOI": "10.21105/joss.01450",
          "is-referenced-by-count": 33,
          "published.date-parts": "2019-05-19T00:00:00",
          "title": "PyVista: 3D plotting and mesh analysis through a streamlined interface for the Visualization Toolkit (VTK)"
         },
         {
          "DOI": "10.21105/joss.01667",
          "is-referenced-by-count": 32,
          "published.date-parts": "2019-09-08T00:00:00",
          "title": "Open-Unmix - A Reference Implementation for Music Source Separation"
         },
         {
          "DOI": "10.21105/joss.00729",
          "is-referenced-by-count": 32,
          "published.date-parts": "2018-05-28T00:00:00",
          "title": "PyCM: Multiclass confusion matrix library in Python"
         },
         {
          "DOI": "10.21105/joss.00597",
          "is-referenced-by-count": 31,
          "published.date-parts": "2018-03-31T00:00:00",
          "title": "FNFT: A Software Library for Computing Nonlinear Fourier Transforms"
         },
         {
          "DOI": "10.21105/joss.00352",
          "is-referenced-by-count": 30,
          "published.date-parts": "2017-08-30T00:00:00",
          "title": "'Sequana': a Set of Snakemake NGS pipelines"
         },
         {
          "DOI": "10.21105/joss.02306",
          "is-referenced-by-count": 30,
          "published.date-parts": "2020-07-16T00:00:00",
          "title": "Methods and Algorithms for Correlation Analysis in R"
         },
         {
          "DOI": "10.21105/joss.00046",
          "is-referenced-by-count": 29,
          "published.date-parts": "2016-10-08T00:00:00",
          "title": "pygtc: beautiful parameter covariance plots (aka. Giant Triangle Confusograms)"
         },
         {
          "DOI": "10.21105/joss.00506",
          "is-referenced-by-count": 29,
          "published.date-parts": "2018-02-19T00:00:00",
          "title": "GIBBON: The Geometry and Image-Based Bioengineering add-On"
         },
         {
          "DOI": "10.21105/joss.01236",
          "is-referenced-by-count": 29,
          "published.date-parts": "2019-02-28T00:00:00",
          "title": "pycoQC, interactive quality control for Oxford Nanopore Sequencing"
         },
         {
          "DOI": "10.21105/joss.00034",
          "is-referenced-by-count": 29,
          "published.date-parts": "2016-09-07T00:00:00",
          "title": "Osprey: Hyperparameter Optimization for Machine Learning"
         },
         {
          "DOI": "10.21105/joss.00135",
          "is-referenced-by-count": 28,
          "published.date-parts": "2017-02-22T00:00:00",
          "title": "batchtools: Tools for R to work on batch systems"
         },
         {
          "DOI": "10.21105/joss.00640",
          "is-referenced-by-count": 28,
          "published.date-parts": "2018-04-10T00:00:00",
          "title": "MCMCvis: Tools to Visualize, Manipulate, and Summarize MCMC Output"
         },
         {
          "DOI": "10.21105/joss",
          "is-referenced-by-count": 28,
          "published.date-parts": "",
          "title": "Journal of Open Source Software"
         },
         {
          "DOI": "10.21105/joss.02445",
          "is-referenced-by-count": 27,
          "published.date-parts": "2020-09-09T00:00:00",
          "title": "Extracting, Computing and Exploring the Parameters of Statistical Models using R"
         },
         {
          "DOI": "10.21105/joss.01081",
          "is-referenced-by-count": 27,
          "published.date-parts": "2019-02-19T00:00:00",
          "title": "IDTxl: The Information Dynamics Toolkit xl: a Python package for the efficient analysis of multivariate information dynamics in networks"
         },
         {
          "DOI": "10.21105/joss.02004",
          "is-referenced-by-count": 27,
          "published.date-parts": "2020-02-06T00:00:00",
          "title": "CMasher: Scientific colormaps for making accessible, informative and 'cmashing' plots"
         },
         {
          "DOI": "10.21105/joss.01317",
          "is-referenced-by-count": 27,
          "published.date-parts": "2019-08-04T00:00:00",
          "title": "lifelines: survival analysis in Python"
         },
         {
          "DOI": "10.21105/joss.01412",
          "is-referenced-by-count": 26,
          "published.date-parts": "2019-06-25T00:00:00",
          "title": "insight: A Unified Interface to Access Information from Model Objects in R"
         },
         {
          "DOI": "10.21105/joss.00821",
          "is-referenced-by-count": 26,
          "published.date-parts": "2018-07-31T00:00:00",
          "title": "heatwaveR: A central algorithm for the detection of heatwaves and cold-spells"
         },
         {
          "DOI": "10.21105/joss.00726",
          "is-referenced-by-count": 26,
          "published.date-parts": "2018-06-18T00:00:00",
          "title": "mlpack 3: a fast, flexible machine learning library"
         },
         {
          "DOI": "10.21105/joss.00925",
          "is-referenced-by-count": 25,
          "published.date-parts": "2018-09-13T00:00:00",
          "title": "Ripser.py: A Lean Persistent Homology Library for Python"
         },
         {
          "DOI": "10.21105/joss.00092",
          "is-referenced-by-count": 25,
          "published.date-parts": "2016-10-23T00:00:00",
          "title": "edarf: Exploratory Data Analysis using Random Forests"
         },
         {
          "DOI": "10.21105/joss.01041",
          "is-referenced-by-count": 25,
          "published.date-parts": "2018-11-13T00:00:00",
          "title": "hillR: taxonomic, functional, and phylogenetic diversity and similarity through Hill Numbers"
         },
         {
          "DOI": "10.21105/astro.2006.16182",
          "is-referenced-by-count": 24,
          "published.date-parts": "2021-01-29T00:00:00",
          "title": "The First Three Seconds: a Review of Possible Expansion Histories of the Early Universe"
         },
         {
          "DOI": "10.21105/joss.00754",
          "is-referenced-by-count": 24,
          "published.date-parts": "2018-06-20T00:00:00",
          "title": "sjmisc: Data and Variable Transformation Functions"
         },
         {
          "DOI": "10.21105/joss.00655",
          "is-referenced-by-count": 24,
          "published.date-parts": "2018-03-28T00:00:00",
          "title": "Fast, Consistent Tokenization of Natural Language Text"
         },
         {
          "DOI": "10.21105/joss.01903",
          "is-referenced-by-count": 23,
          "published.date-parts": "2019-12-11T00:00:00",
          "title": "mlr3: A modern object-oriented machine learning framework in R"
         },
         {
          "DOI": "10.21105/joss.00656",
          "is-referenced-by-count": 23,
          "published.date-parts": "2018-06-21T00:00:00",
          "title": "QUIT: QUantitative Imaging Tools"
         },
         {
          "DOI": "10.21105/joss.01316",
          "is-referenced-by-count": 23,
          "published.date-parts": "2019-04-04T00:00:00",
          "title": "Badread: simulation of error-prone long reads"
         },
         {
          "DOI": "10.21105/joss.01292",
          "is-referenced-by-count": 23,
          "published.date-parts": "2019-06-18T00:00:00",
          "title": "dolfin-adjoint 2018.1: automated adjoints for FEniCS and Firedrake"
         },
         {
          "DOI": "10.21105/joss.00848",
          "is-referenced-by-count": 23,
          "published.date-parts": "2018-08-09T00:00:00",
          "title": "countrycode: An R package to convert country names and country codes"
         },
         {
          "DOI": "10.21105/joss.00296",
          "is-referenced-by-count": 23,
          "published.date-parts": "2017-06-22T00:00:00",
          "title": "kerasR: R Interface to the Keras Deep Learning Library"
         },
         {
          "DOI": "10.21105/joss.00139",
          "is-referenced-by-count": 22,
          "published.date-parts": "2017-01-03T00:00:00",
          "title": "Optlang: An algebraic modeling language for mathematical optimization"
         },
         {
          "DOI": "10.21105/joss.02338",
          "is-referenced-by-count": 22,
          "published.date-parts": "2020-09-13T00:00:00",
          "title": "A parallel global multiobjective framework for optimization: pagmo"
         },
         {
          "DOI": "10.21105/joss.02154",
          "is-referenced-by-count": 22,
          "published.date-parts": "2020-06-24T00:00:00",
          "title": "Spleeter: a fast and efficient music source separation tool with pre-trained models"
         },
         {
          "DOI": "10.21105/joss.02353",
          "is-referenced-by-count": 21,
          "published.date-parts": "2020-08-17T00:00:00",
          "title": "dms-view: Interactive visualization tool for deep mutational scanning data"
         },
         {
          "DOI": "10.21105/joss.01277",
          "is-referenced-by-count": 21,
          "published.date-parts": "2019-05-17T00:00:00",
          "title": "tqdm: A Fast, Extensible Progress Meter for Python and CLI"
         },
         {
          "DOI": "10.21105/joss.01035",
          "is-referenced-by-count": 21,
          "published.date-parts": "2018-10-19T00:00:00",
          "title": "nasapower: A NASA POWER Global Meteorology, Surface Solar Energy and Climatology Data Client for R"
         },
         {
          "DOI": "10.21105/joss.00550",
          "is-referenced-by-count": 21,
          "published.date-parts": "2018-01-26T00:00:00",
          "title": "The drake R package: a pipeline toolkit for reproducibility and high-performance computing"
         },
         {
          "DOI": "10.21105/joss.01414",
          "is-referenced-by-count": 21,
          "published.date-parts": "2019-05-12T00:00:00",
          "title": "anesthetic: nested sampling visualisation"
         },
         {
          "DOI": "10.21105/joss.00032",
          "is-referenced-by-count": 21,
          "published.date-parts": "2016-08-09T00:00:00",
          "title": "Advanced viewshed analysis: a Quantum GIS plug-in for the analysis of visual landscapes"
         },
         {
          "DOI": "10.21105/joss.01698",
          "is-referenced-by-count": 20,
          "published.date-parts": "2019-09-19T00:00:00",
          "title": "Computing diffusion coefficients in macromolecular simulations: the Diffusion Coefficient Tool for VMD"
         },
         {
          "DOI": "10.21105/joss.01635",
          "is-referenced-by-count": 20,
          "published.date-parts": "2019-10-08T00:00:00",
          "title": "Spruceup: fast and flexible identification, visualization, and removal of outliers from large multiple sequence alignments"
         },
         {
          "DOI": "10.21105/astro.1811.09514",
          "is-referenced-by-count": 20,
          "published.date-parts": "2019-01-29T00:00:00",
          "title": "Higgs inflation in the Palatini formulation with kinetic terms for the metric"
         },
         {
          "DOI": "10.21105/joss.01636",
          "is-referenced-by-count": 20,
          "published.date-parts": "2019-10-03T00:00:00",
          "title": "ENZO: An Adaptive Mesh Refinement Code for Astrophysics (Version 2.6)"
         },
         {
          "DOI": "10.21105/joss.02286",
          "is-referenced-by-count": 19,
          "published.date-parts": "2020-07-13T00:00:00",
          "title": "spam: Software for Practical Analysis of Materials"
         },
         {
          "DOI": "10.21105/joss.01220",
          "is-referenced-by-count": 19,
          "published.date-parts": "2019-02-26T00:00:00",
          "title": "eddy: Extracting Protoplanetary Disk Dynamics with Python"
         },
         {
          "DOI": "10.21105/joss.03167",
          "is-referenced-by-count": 18,
          "published.date-parts": "2021-05-25T00:00:00",
          "title": "Visualizations with statistical details: The 'ggstatsplot' approach"
         },
         {
          "DOI": "10.21105/joss.01075",
          "is-referenced-by-count": 18,
          "published.date-parts": "2019-03-24T00:00:00",
          "title": "Yellowbrick: Visualizing the Scikit-Learn Model Selection Process"
         },
         {
          "DOI": "10.21105/joss.00305",
          "is-referenced-by-count": 18,
          "published.date-parts": "2017-06-26T00:00:00",
          "title": "osmdata"
         },
         {
          "DOI": "10.21105/joss.02174",
          "is-referenced-by-count": 18,
          "published.date-parts": "2020-08-05T00:00:00",
          "title": "Surprise: A Python library for recommender systems"
         },
         {
          "DOI": "10.21105/joss.00472",
          "is-referenced-by-count": 18,
          "published.date-parts": "2018-01-24T00:00:00",
          "title": "PFEIFER: Preprocessing Framework for Electrograms Intermittently Fiducialized from Experimental Recordings"
         },
         {
          "DOI": "10.21105/joss.00583",
          "is-referenced-by-count": 18,
          "published.date-parts": "2018-08-27T00:00:00",
          "title": "RNAsik: A Pipeline for complete and reproducible RNA-seq analysis that runs anywhere with speed and ease"
         },
         {
          "DOI": "10.21105/joss.00622",
          "is-referenced-by-count": 18,
          "published.date-parts": "2018-05-15T00:00:00",
          "title": "Open OnDemand: A web-based client portal for HPC centers"
         },
         {
          "DOI": "10.21105/joss.00773",
          "is-referenced-by-count": 17,
          "published.date-parts": "2018-06-15T00:00:00",
          "title": "Galore: Broadening and weighting for simulation of photoelectron spectroscopy"
         },
         {
          "DOI": "10.21105/joss.00279",
          "is-referenced-by-count": 17,
          "published.date-parts": "2017-06-07T00:00:00",
          "title": "BioPandas: Working with molecular structures in pandas DataFrames"
         },
         {
          "DOI": "10.21105/joss.00025",
          "is-referenced-by-count": 17,
          "published.date-parts": "2016-06-17T00:00:00",
          "title": "GeneNetwork: framework for web-based genetics"
         },
         {
          "DOI": "10.21105/joss.01885",
          "is-referenced-by-count": 17,
          "published.date-parts": "2019-12-13T00:00:00",
          "title": "SHARPy: A dynamic aeroelastic simulation toolbox for very flexible aircraft and wind turbines"
         },
         {
          "DOI": "10.21105/joss.02305",
          "is-referenced-by-count": 17,
          "published.date-parts": "2020-07-15T00:00:00",
          "title": "geemap: A Python package for interactive mapping with Google Earth Engine"
         },
         {
          "DOI": "10.21105/joss.00613",
          "is-referenced-by-count": 17,
          "published.date-parts": "2018-03-22T00:00:00",
          "title": "NiaPy: Python microframework for building nature-inspired algorithms"
         },
         {
          "DOI": "10.21105/joss.02564",
          "is-referenced-by-count": 17,
          "published.date-parts": "2020-10-24T00:00:00",
          "title": "pyOptSparse: A Python framework for large-scale constrained nonlinear optimization of sparse systems"
         },
         {
          "DOI": "10.21105/joss.01118",
          "is-referenced-by-count": 16,
          "published.date-parts": "2018-12-22T00:00:00",
          "title": "Cadabra2: computer algebra for field theory revisited"
         },
         {
          "DOI": "10.21105/joss.00940",
          "is-referenced-by-count": 16,
          "published.date-parts": "2018-10-23T00:00:00",
          "title": "hIPPYlib: An Extensible Software Framework for Large-Scale Inverse Problems"
         },
         {
          "DOI": "10.21105/joss.00738",
          "is-referenced-by-count": 16,
          "published.date-parts": "2018-05-31T00:00:00",
          "title": "dit: a Python package for discrete information theory"
         },
         {
          "DOI": "10.21105/joss.00116",
          "is-referenced-by-count": 16,
          "published.date-parts": "2016-11-17T00:00:00",
          "title": "RAILS and Cobbler: Scaffolding and automated finishing of draft genomes using long DNA sequences"
         },
         {
          "DOI": "10.21105/joss.01848",
          "is-referenced-by-count": 16,
          "published.date-parts": "2020-03-13T00:00:00",
          "title": "Chaste: Cancer, Heart and Soft Tissue Environment"
         },
         {
          "DOI": "10.21105/joss.00357",
          "is-referenced-by-count": 16,
          "published.date-parts": "2017-09-05T00:00:00",
          "title": "schwimmbad: A uniform interface to parallel processing pools in Python"
         },
         {
          "DOI": "10.21105/joss.00530",
          "is-referenced-by-count": 16,
          "published.date-parts": "2018-02-12T00:00:00",
          "title": "PyDMD: Python Dynamic Mode Decomposition"
         },
         {
          "DOI": "10.21105/joss.02292",
          "is-referenced-by-count": 16,
          "published.date-parts": "2020-08-04T00:00:00",
          "title": "PySWMM: The Python Interface to Stormwater Management Model (SWMM)"
         },
         {
          "DOI": "10.21105/joss.02807",
          "is-referenced-by-count": 16,
          "published.date-parts": "2021-02-21T00:00:00",
          "title": "The Pencil Code, a modular MPI code for partial differential equations and particles: multipurpose and multiuser-maintained"
         },
         {
          "DOI": "10.21105/joss.01421",
          "is-referenced-by-count": 16,
          "published.date-parts": "2019-06-14T00:00:00",
          "title": "SCONE: Open Source Software for Predictive Simulation of Biological Motion"
         },
         {
          "DOI": "10.21105/joss.00849",
          "is-referenced-by-count": 15,
          "published.date-parts": "2018-08-28T00:00:00",
          "title": "fgivenx: A Python package for functional posterior plotting"
         },
         {
          "DOI": "10.21105/joss.01360",
          "is-referenced-by-count": 15,
          "published.date-parts": "2019-04-23T00:00:00",
          "title": "KADE: A desktop application for Q methodology"
         },
         {
          "DOI": "10.21105/joss.01601",
          "is-referenced-by-count": 15,
          "published.date-parts": "2019-08-12T00:00:00",
          "title": "greta: simple and scalable statistical modelling in R"
         },
         {
          "DOI": "10.21105/joss.01272",
          "is-referenced-by-count": 15,
          "published.date-parts": "2019-04-17T00:00:00",
          "title": "NeuroDSP: A package for neural digital signal processing"
         },
         {
          "DOI": "10.21105/joss.00054",
          "is-referenced-by-count": 15,
          "published.date-parts": "2016-08-30T00:00:00",
          "title": "cartography: Create and Integrate Maps in your R Workflow"
         },
         {
          "DOI": "10.21105/joss.00431",
          "is-referenced-by-count": 15,
          "published.date-parts": "2017-11-02T00:00:00",
          "title": "pyGPGO: Bayesian Optimization for Python"
         },
         {
          "DOI": "10.21105/joss.00359",
          "is-referenced-by-count": 15,
          "published.date-parts": "2017-08-14T00:00:00",
          "title": "iheatmapr: Interactive complex heatmaps in R"
         },
         {
          "DOI": "10.21105/astro.1811.11584",
          "is-referenced-by-count": 14,
          "published.date-parts": "2019-03-20T00:00:00",
          "title": "The effect on cosmological parameter estimation of a parameter dependent covariance matrix"
         },
         {
          "DOI": "10.21105/joss.00577",
          "is-referenced-by-count": 14,
          "published.date-parts": "2018-03-12T00:00:00",
          "title": "TSrepr R package: Time Series Representations"
         },
         {
          "DOI": "10.21105/joss.02906",
          "is-referenced-by-count": 14,
          "published.date-parts": "2021-01-07T00:00:00",
          "title": "Augur: a bioinformatics toolkit for phylogenetic analyses of human pathogens"
         },
         {
          "DOI": "10.21105/joss.00862",
          "is-referenced-by-count": 14,
          "published.date-parts": "2018-11-26T00:00:00",
          "title": "Pymer4: Connecting R and Python for Linear Mixed Modeling"
         },
         {
          "DOI": "10.21105/joss.01285",
          "is-referenced-by-count": 14,
          "published.date-parts": "2019-05-23T00:00:00",
          "title": "Detecting Fraud in Online Surveys by Tracing, Scoring, and Visualizing IP Addresses"
         },
         {
          "DOI": "10.21105/joss.00598",
          "is-referenced-by-count": 14,
          "published.date-parts": "2018-03-14T00:00:00",
          "title": "DynamicalSystems.jl: A Julia software library for chaos and nonlinear dynamics"
         },
         {
          "DOI": "10.21105/joss.00927",
          "is-referenced-by-count": 14,
          "published.date-parts": "2019-01-21T00:00:00",
          "title": "CusToM: a Matlab toolbox for musculoskeletal simulation"
         },
         {
          "DOI": "10.21105/joss.02373",
          "is-referenced-by-count": 14,
          "published.date-parts": "2020-09-25T00:00:00",
          "title": "MetalWalls: A classical molecular dynamics software dedicated to the simulation of electrochemical systems"
         },
         {
          "DOI": "10.21105/joss.00671",
          "is-referenced-by-count": 13,
          "published.date-parts": "2018-10-18T00:00:00",
          "title": "BioSigKit: A Matlab Toolbox and Interface for Analysis of BioSignals"
         },
         {
          "DOI": "10.21105/joss.00819",
          "is-referenced-by-count": 13,
          "published.date-parts": "2018-09-04T00:00:00",
          "title": "quimb: A python package for quantum information and many-body calculations"
         },
         {
          "DOI": "10.21105/joss.00538",
          "is-referenced-by-count": 13,
          "published.date-parts": "2018-02-18T00:00:00",
          "title": "psrqpy: a python interface for querying the ATNF pulsar catalogue"
         },
         {
          "DOI": "10.21105/joss.00091",
          "is-referenced-by-count": 13,
          "published.date-parts": "2017-01-20T00:00:00",
          "title": "Mordecai: Full Text Geoparsing and Event Geocoding"
         },
         {
          "DOI": "10.21105/joss.01315",
          "is-referenced-by-count": 13,
          "published.date-parts": "2019-10-17T00:00:00",
          "title": "Kepler Mapper: A flexible Python implementation of the Mapper algorithm."
         },
         {
          "DOI": "10.21105/joss.02272",
          "is-referenced-by-count": 13,
          "published.date-parts": "2020-07-16T00:00:00",
          "title": "rgee: An R package for interacting with Google Earth Engine"
         },
         {
          "DOI": "10.21105/joss.00753",
          "is-referenced-by-count": 13,
          "published.date-parts": "2018-06-29T00:00:00",
          "title": "opt\\_einsum - A Python package for optimizing contraction order for einsum-like expressions"
         },
         {
          "DOI": "10.21105/jose.00021",
          "is-referenced-by-count": 13,
          "published.date-parts": "2018-11-12T00:00:00",
          "title": "CFD Python: the 12 steps to Navier-Stokes equations"
         },
         {
          "DOI": "10.21105/joss.00464",
          "is-referenced-by-count": 13,
          "published.date-parts": "2018-01-16T00:00:00",
          "title": "chloroExtractor: extraction and assembly of the chloroplast genome from whole genome shotgun data"
         },
         {
          "DOI": "10.21105/astro.1607.07881",
          "is-referenced-by-count": 13,
          "published.date-parts": "2019-07-30T00:00:00",
          "title": "Galaxy Quenching from Cosmic Web Detachment"
         },
         {
          "DOI": "10.21105/joss.00140",
          "is-referenced-by-count": 12,
          "published.date-parts": "2017-02-22T00:00:00",
          "title": "pyuvdata: an interface for astronomical interferometeric datasets in python"
         },
         {
          "DOI": "10.21105/joss.01417",
          "is-referenced-by-count": 12,
          "published.date-parts": "2019-06-06T00:00:00",
          "title": "pymcmcstat: A Python Package for Bayesian Inference Using Delayed Rejection Adaptive Metropolis"
         },
         {
          "DOI": "10.21105/joss.02352",
          "is-referenced-by-count": 12,
          "published.date-parts": "2020-09-02T00:00:00",
          "title": "HPX - The C++ Standard Library for Parallelism and Concurrency"
         },
         {
          "DOI": "10.21105/joss.01830",
          "is-referenced-by-count": 12,
          "published.date-parts": "2020-02-13T00:00:00",
          "title": "MatSurv: Survival analysis and visualization in MATLAB"
         },
         {
          "DOI": "10.21105/joss.00177",
          "is-referenced-by-count": 12,
          "published.date-parts": "2017-02-03T00:00:00",
          "title": "GSODR: Global Summary Daily Weather Data in R"
         },
         {
          "DOI": "10.21105/joss.01244",
          "is-referenced-by-count": 11,
          "published.date-parts": "2019-03-10T00:00:00",
          "title": "The SuiteSparse Matrix Collection Website Interface"
         },
         {
          "DOI": "10.21105/joss.00547",
          "is-referenced-by-count": 11,
          "published.date-parts": "2018-02-27T00:00:00",
          "title": "Missingno: a missing data visualization suite"
         },
         {
          "DOI": "10.21105/joss.01408",
          "is-referenced-by-count": 11,
          "published.date-parts": "2019-07-01T00:00:00",
          "title": "xml2jupyter: Mapping parameters between XML and Jupyter widgets"
         },
         {
          "DOI": "10.21105/joss.00916",
          "is-referenced-by-count": 11,
          "published.date-parts": "2018-09-14T00:00:00",
          "title": "nestcheck: error analysis, diagnostic tests and plots for nested sampling calculations"
         },
         {
          "DOI": "10.21105/joss.01831",
          "is-referenced-by-count": 11,
          "published.date-parts": "2019-11-22T00:00:00",
          "title": "BioSimSpace: An interoperable Python framework for biomolecular simulation"
         },
         {
          "DOI": "10.21105/joss.02607",
          "is-referenced-by-count": 11,
          "published.date-parts": "2020-09-27T00:00:00",
          "title": "Foolbox Native: Fast adversarial attacks to benchmark the robustness of machine learning models in PyTorch, TensorFlow, and JAX"
         },
         {
          "DOI": "10.21105/joss.02104",
          "is-referenced-by-count": 11,
          "published.date-parts": "2020-05-18T00:00:00",
          "title": "PySINDy: A Python package for the sparse identification of nonlinear dynamical systems from data"
         },
         {
          "DOI": "10.21105/joss.01627",
          "is-referenced-by-count": 11,
          "published.date-parts": "2019-08-05T00:00:00",
          "title": "The UCSCXenaTools R package: a toolkit for accessing genomics data from UCSC Xena platform, from cancer multi-omics to single-cell RNA-seq"
         },
         {
          "DOI": "10.21105/joss.00659",
          "is-referenced-by-count": 11,
          "published.date-parts": "2018-04-20T00:00:00",
          "title": "CLIMLAB: a Python toolkit for interactive, process-oriented climate modeling"
         },
         {
          "DOI": "10.21105/joss.01807",
          "is-referenced-by-count": 11,
          "published.date-parts": "2019-11-20T00:00:00",
          "title": "momepy: Urban Morphology Measuring Toolkit"
         },
         {
          "DOI": "10.21105/joss.01944",
          "is-referenced-by-count": 11,
          "published.date-parts": "2020-01-07T00:00:00",
          "title": "WulffPack: A Python package for Wulff constructions"
         },
         {
          "DOI": "10.21105/joss.01896",
          "is-referenced-by-count": 10,
          "published.date-parts": "2019-12-18T00:00:00",
          "title": "MNE-BIDS: Organizing electrophysiological data into the BIDS format and facilitating their analysis"
         },
         {
          "DOI": "10.21105/joss.01012",
          "is-referenced-by-count": 10,
          "published.date-parts": "2019-06-11T00:00:00",
          "title": "imager: an R package for image processing based on CImg"
         },
         {
          "DOI": "10.21105/joss.01844",
          "is-referenced-by-count": 10,
          "published.date-parts": "2020-01-14T00:00:00",
          "title": "MyQueue: Task and workflow scheduling system"
         },
         {
          "DOI": "10.21105/joss.01705",
          "is-referenced-by-count": 10,
          "published.date-parts": "2019-12-19T00:00:00",
          "title": "The Walrus: a library for the calculation of hafnians, Hermite polynomials and Gaussian boson sampling"
         },
         {
          "DOI": "10.21105/joss.02308",
          "is-referenced-by-count": 10,
          "published.date-parts": "2020-12-16T00:00:00",
          "title": "PypeIt: The Python Spectroscopic Data Reduction Pipeline"
         },
         {
          "DOI": "10.21105/joss.00571",
          "is-referenced-by-count": 10,
          "published.date-parts": "2018-02-11T00:00:00",
          "title": "weathercan: Download and format weather data from Environment and Climate Change Canada"
         },
         {
          "DOI": "10.21105/joss.00282",
          "is-referenced-by-count": 10,
          "published.date-parts": "2017-07-13T00:00:00",
          "title": "Kindel: indel-aware consensus for nucleotide sequence alignments"
         },
         {
          "DOI": "10.21105/joss.00737",
          "is-referenced-by-count": 10,
          "published.date-parts": "2018-07-22T00:00:00",
          "title": "Cylc: A Workflow Engine for Cycling Systems"
         },
         {
          "DOI": "10.21105/joss.00440",
          "is-referenced-by-count": 10,
          "published.date-parts": "2018-01-29T00:00:00",
          "title": "Multiphonon: Phonon Density of States tools for Inelastic Neutron Scattering Powder Data"
         },
         {
          "DOI": "10.21105/joss.01082",
          "is-referenced-by-count": 10,
          "published.date-parts": "2018-11-29T00:00:00",
          "title": "ssdtools: An R package to fit Species Sensitivity Distributions"
         },
         {
          "DOI": "10.21105/joss.00082",
          "is-referenced-by-count": 10,
          "published.date-parts": "2016-10-27T00:00:00",
          "title": "Habfuzz: A tool to calculate the instream hydraulic habitat suitability using fuzzy logic and fuzzy Bayesian inference"
         },
         {
          "DOI": "10.21105/joss.00617",
          "is-referenced-by-count": 10,
          "published.date-parts": "2018-04-30T00:00:00",
          "title": "The MCAPL Framework including the Agent Infrastructure Layer an Agent Java Pathfinder"
         },
         {
          "DOI": "10.21105/joss.01426",
          "is-referenced-by-count": 10,
          "published.date-parts": "2019-06-22T00:00:00",
          "title": "sbpy: A Python module for small-body planetary astronomy"
         },
         {
          "DOI": "10.21105/joss.00957",
          "is-referenced-by-count": 10,
          "published.date-parts": "2018-10-11T00:00:00",
          "title": "Verde: Processing and gridding spatial data using Green’s functions"
         },
         {
          "DOI": "10.21105/joss.00545",
          "is-referenced-by-count": 10,
          "published.date-parts": "2018-06-26T00:00:00",
          "title": "Limbo: A Flexible High-performance Library for Gaussian Processes modeling and Data-Efficient Optimization"
         },
         {
          "DOI": "10.21105/joss.01632",
          "is-referenced-by-count": 10,
          "published.date-parts": "2019-09-10T00:00:00",
          "title": "GoFish: Fishing for Line Observations in Protoplanetary Disks"
         },
         {
          "DOI": "10.21105/joss.01257",
          "is-referenced-by-count": 10,
          "published.date-parts": "2019-02-24T00:00:00",
          "title": "AtlasReader: A Python package to generate coordinate tables, region labels, and informative figures from statistical MRI images"
         },
         {
          "DOI": "10.21105/joss.02732",
          "is-referenced-by-count": 10,
          "published.date-parts": "2020-10-23T00:00:00",
          "title": "pfsspy: A Python package for potential field source surface modelling"
         },
         {
          "DOI": "10.21105/joss.01132",
          "is-referenced-by-count": 9,
          "published.date-parts": "2019-01-30T00:00:00",
          "title": "GAMA: Genetic Automated Machine learning Assistant"
         },
         {
          "DOI": "10.21105/joss.00473",
          "is-referenced-by-count": 9,
          "published.date-parts": "2017-12-07T00:00:00",
          "title": "Xbim.Essentials: a library for interoperable building information applications"
         },
         {
          "DOI": "10.21105/joss.02349",
          "is-referenced-by-count": 9,
          "published.date-parts": "2020-08-03T00:00:00",
          "title": "impedance.py: A Python package for electrochemical impedance analysis"
         },
         {
          "DOI": "10.21105/joss.00036",
          "is-referenced-by-count": 9,
          "published.date-parts": "2016-07-13T00:00:00",
          "title": "gwdegree: Improving interpretation of geometrically-weighted degree estimates in exponential random graph models"
         },
         {
          "DOI": "10.21105/joss.00511",
          "is-referenced-by-count": 9,
          "published.date-parts": "2017-12-15T00:00:00",
          "title": "tidyhydat: Extract and Tidy Canadian Hydrometric Data"
         },
         {
          "DOI": "10.21105/joss.00565",
          "is-referenced-by-count": 9,
          "published.date-parts": "2018-04-04T00:00:00",
          "title": "ChemPy: A package useful for chemistry written in Python"
         },
         {
          "DOI": "10.21105/joss.02050",
          "is-referenced-by-count": 9,
          "published.date-parts": "2020-02-21T00:00:00",
          "title": "SpiceyPy: a Pythonic Wrapper for the SPICE Toolkit"
         },
         {
          "DOI": "10.21105/joss.01358",
          "is-referenced-by-count": 9,
          "published.date-parts": "2019-05-22T00:00:00",
          "title": "The MTPy software package for magnetotelluric data analysis and visualisation"
         },
         {
          "DOI": "10.21105/joss.00188",
          "is-referenced-by-count": 9,
          "published.date-parts": "2017-04-08T00:00:00",
          "title": "MSMExplorer: Data Visualizations for Biomolecular Dynamics"
         },
         {
          "DOI": "10.21105/joss.00063",
          "is-referenced-by-count": 9,
          "published.date-parts": "2016-10-11T00:00:00",
          "title": "rintrojs: A Wrapper for the Intro.js Library"
         },
         {
          "DOI": "10.21105/jose.00032",
          "is-referenced-by-count": 9,
          "published.date-parts": "2019-01-06T00:00:00",
          "title": "nbgrader: A Tool for Creating and Grading Assignments in the Jupyter Notebook"
         },
         {
          "DOI": "10.21105/joss.01204",
          "is-referenced-by-count": 9,
          "published.date-parts": "2019-06-11T00:00:00",
          "title": "QMRTools: a Mathematica toolbox for quantitative MRI analysis."
         },
         {
          "DOI": "10.21105/joss.01683",
          "is-referenced-by-count": 9,
          "published.date-parts": "2019-10-01T00:00:00",
          "title": "qnm: A Python package for calculating Kerr quasinormal modes, separation constants, and spherical-spheroidal mixing coefficients"
         },
         {
          "DOI": "10.21105/joss.01124",
          "is-referenced-by-count": 9,
          "published.date-parts": "2019-01-21T00:00:00",
          "title": "A MATLAB toolbox to detect and analyze marine heatwaves"
         },
         {
          "DOI": "10.21105/joss.01518",
          "is-referenced-by-count": 9,
          "published.date-parts": "2019-07-05T00:00:00",
          "title": "traffic, a toolbox for processing and analysing air traffic data"
         },
         {
          "DOI": "10.21105/joss.01987",
          "is-referenced-by-count": 9,
          "published.date-parts": "2020-01-29T00:00:00",
          "title": "Hoki: Making BPASS accessible through Python"
         },
         {
          "DOI": "10.21105/joss.00166",
          "is-referenced-by-count": 9,
          "published.date-parts": "2017-03-29T00:00:00",
          "title": "Effective-Quadratures (EQ): Polynomials for Computational Engineering Studies"
         },
         {
          "DOI": "10.21105/joss.00259",
          "is-referenced-by-count": 8,
          "published.date-parts": "2017-11-27T00:00:00",
          "title": "Neuropsydia.py: A Python Module for Creating Experiments, Tasks and Questionnaires"
         },
         {
          "DOI": "10.21105/joss.01294",
          "is-referenced-by-count": 8,
          "published.date-parts": "2019-08-12T00:00:00",
          "title": "PyBIDS: Python tools for BIDS datasets"
         },
         {
          "DOI": "10.21105/jose.00053",
          "is-referenced-by-count": 8,
          "published.date-parts": "2019-09-29T00:00:00",
          "title": "Happy Belly Bioinformatics: an open-source resource dedicated to helping biologists utilize bioinformatics"
         },
         {
          "DOI": "10.21105/joss.01434",
          "is-referenced-by-count": 8,
          "published.date-parts": "2019-08-23T00:00:00",
          "title": "survPen: an R package for hazard and excess hazard modelling with multidimensional penalized splines"
         },
         {
          "DOI": "10.21105/joss.01849",
          "is-referenced-by-count": 8,
          "published.date-parts": "2020-01-07T00:00:00",
          "title": "3D reconstruction toolbox for behavior tracked with multiple cameras"
         },
         {
          "DOI": "10.21105/joss.00667",
          "is-referenced-by-count": 8,
          "published.date-parts": "2018-11-06T00:00:00",
          "title": "ACTIN: A tool to calculate stellar activity indices"
         },
         {
          "DOI": "10.21105/joss.00448",
          "is-referenced-by-count": 8,
          "published.date-parts": "2017-12-07T00:00:00",
          "title": "FullSWOF: Full Shallow-Water equations for Overland Flow"
         },
         {
          "DOI": "10.21105/joss.00745",
          "is-referenced-by-count": 8,
          "published.date-parts": "2018-05-26T00:00:00",
          "title": "The Vascular Modeling Toolkit: A Python Library for the Analysis of Tubular Structures in Medical Images"
         },
         {
          "DOI": "10.21105/joss.00501",
          "is-referenced-by-count": 8,
          "published.date-parts": "2018-01-22T00:00:00",
          "title": "Category Encoders: a scikit-learn-contrib package of transformers for encoding categorical data"
         },
         {
          "DOI": "10.21105/joss.00905",
          "is-referenced-by-count": 8,
          "published.date-parts": "2018-10-03T00:00:00",
          "title": "Python Implementation of Codon Adaptation Index"
         },
         {
          "DOI": "10.21105/joss.00215",
          "is-referenced-by-count": 8,
          "published.date-parts": "2017-04-24T00:00:00",
          "title": "OSMnx: A Python package to work with graph-theoretic OpenStreetMap street networks"
         },
         {
          "DOI": "10.21105/joss.00711",
          "is-referenced-by-count": 8,
          "published.date-parts": "2018-08-28T00:00:00",
          "title": "chronovise: Measurement-Based Probabilistic Timing Analysis framework"
         },
         {
          "DOI": "10.21105/joss.01613",
          "is-referenced-by-count": 8,
          "published.date-parts": "2019-10-24T00:00:00",
          "title": "MOTES: Modeling of Tensegrity Structures"
         },
         {
          "DOI": "10.21105/joss.02173",
          "is-referenced-by-count": 8,
          "published.date-parts": "2020-04-14T00:00:00",
          "title": "Autorank: A Python package for automated ranking of classifiers"
         },
         {
          "DOI": "10.21105/joss.00348",
          "is-referenced-by-count": 8,
          "published.date-parts": "2017-10-27T00:00:00",
          "title": "'Spectrum': Spectral Analysis in Python"
         },
         {
          "DOI": "10.21105/joss.00863",
          "is-referenced-by-count": 8,
          "published.date-parts": "2018-10-06T00:00:00",
          "title": "GrainSizeTools: a Python script for grain size analysis and paleopiezometry based on grain size"
         },
         {
          "DOI": "10.21105/joss.02651",
          "is-referenced-by-count": 8,
          "published.date-parts": "2020-10-09T00:00:00",
          "title": "medrxivr: Accessing and searching medRxiv and bioRxiv preprint data in R"
         },
         {
          "DOI": "10.21105/joss.00767",
          "is-referenced-by-count": 7,
          "published.date-parts": "2018-07-09T00:00:00",
          "title": "salabim: discrete event simulation and animation in Python"
         },
         {
          "DOI": "10.21105/joss.01693",
          "is-referenced-by-count": 7,
          "published.date-parts": "2019-12-19T00:00:00",
          "title": "kramersmoyal: Kramers--Moyal coefficients for stochastic processes"
         },
         {
          "DOI": "10.21105/joss.00224",
          "is-referenced-by-count": 7,
          "published.date-parts": "2017-05-31T00:00:00",
          "title": "cbcbeat: an adjoint-enabled framework for computational cardiac electrophysiology"
         },
         {
          "DOI": "10.21105/joss.01504",
          "is-referenced-by-count": 7,
          "published.date-parts": "2019-07-18T00:00:00",
          "title": "STUMPY: A Powerful and Scalable Python Library for Time Series Data Mining"
         },
         {
          "DOI": "10.21105/joss.00625",
          "is-referenced-by-count": 7,
          "published.date-parts": "2018-03-14T00:00:00",
          "title": "hydroscoper: R interface to the Greek National Data Bank for Hydrological and Meteorological Information"
         },
         {
          "DOI": "10.21105/joss.01775",
          "is-referenced-by-count": 7,
          "published.date-parts": "2019-10-23T00:00:00",
          "title": "Hasasia: A Python package for Pulsar Timing Array Sensitivity Curves"
         },
         {
          "DOI": "10.21105/joss.01136",
          "is-referenced-by-count": 7,
          "published.date-parts": "2019-04-11T00:00:00",
          "title": "UWGeodynamics: A teaching and research tool for numerical geodynamic modelling"
         },
         {
          "DOI": "10.21105/joss.01022",
          "is-referenced-by-count": 7,
          "published.date-parts": "2019-01-30T00:00:00",
          "title": "easyaccess: Enhanced SQL command line interpreter for astronomical surveys"
         },
         {
          "DOI": "10.21105/joss.02117",
          "is-referenced-by-count": 7,
          "published.date-parts": "2020-07-01T00:00:00",
          "title": "Chemiscope: interactive structure-property explorer for materials and molecules"
         },
         {
          "DOI": "10.21105/joss.01361",
          "is-referenced-by-count": 7,
          "published.date-parts": "2019-06-10T00:00:00",
          "title": "SMACT: Semiconducting Materials by Analogy and Chemical Theory"
         },
         {
          "DOI": "10.21105/joss.01095",
          "is-referenced-by-count": 7,
          "published.date-parts": "2019-01-07T00:00:00",
          "title": "pyam: a Python Package for the Analysis and Visualization of Models of the Interaction of Climate, Human, and Environmental Systems"
         },
         {
          "DOI": "10.21105/joss.01904",
          "is-referenced-by-count": 7,
          "published.date-parts": "2020-05-19T00:00:00",
          "title": "FAT Forensics: A Python Toolbox for Implementing and\nDeploying Fairness, Accountability and Transparency\nAlgorithms in Predictive Systems"
         },
         {
          "DOI": "10.21105/joss.01003",
          "is-referenced-by-count": 7,
          "published.date-parts": "2018-11-01T00:00:00",
          "title": "FixedPointFinder: A Tensorflow toolbox for identifying and characterizing fixed points in recurrent neural networks"
         },
         {
          "DOI": "10.21105/joss.00755",
          "is-referenced-by-count": 7,
          "published.date-parts": "2018-08-15T00:00:00",
          "title": "PyBox: An automated box-model generator for atmospheric chemistry and aerosol simulations."
         },
         {
          "DOI": "10.21105/joss.00103",
          "is-referenced-by-count": 7,
          "published.date-parts": "2016-12-01T00:00:00",
          "title": "popeye: a population receptive field estimation tool"
         },
         {
          "DOI": "10.21105/joss.00018",
          "is-referenced-by-count": 7,
          "published.date-parts": "2016-05-22T00:00:00",
          "title": "Xenomapper: Mapping reads in a mixed species context"
         },
         {
          "DOI": "10.21105/jose.00027",
          "is-referenced-by-count": 7,
          "published.date-parts": "2018-10-02T00:00:00",
          "title": "An Introduction to Applied Bioinformatics: a free, open, and interactive text."
         },
         {
          "DOI": "10.21105/joss.01108",
          "is-referenced-by-count": 7,
          "published.date-parts": "2019-01-07T00:00:00",
          "title": "AnyPyTools: A Python package for reproducible research with the AnyBody Modeling System"
         },
         {
          "DOI": "10.21105/joss.02176",
          "is-referenced-by-count": 7,
          "published.date-parts": "2020-11-29T00:00:00",
          "title": "PorousFlow: a multiphysics simulation code for coupled problems in porous media"
         },
         {
          "DOI": "10.21105/joss.01746",
          "is-referenced-by-count": 7,
          "published.date-parts": "2020-01-16T00:00:00",
          "title": "Larq: An Open-Source Library for Training Binarized Neural Networks"
         },
         {
          "DOI": "10.21105/joss.00133",
          "is-referenced-by-count": 7,
          "published.date-parts": "2017-01-03T00:00:00",
          "title": "PETRARCH2: Another Event Coding Program"
         },
         {
          "DOI": "10.21105/joss.01731",
          "is-referenced-by-count": 7,
          "published.date-parts": "2019-12-20T00:00:00",
          "title": "EoN (Epidemics on Networks): a fast, flexible Python package for simulation, analytic approximation, and analysis of epidemics on networks"
         },
         {
          "DOI": "10.21105/joss.00707",
          "is-referenced-by-count": 7,
          "published.date-parts": "2018-06-06T00:00:00",
          "title": "OctApps: a library of Octave functions for continuous gravitational-wave data analysis"
         },
         {
          "DOI": "10.21105/joss.00661",
          "is-referenced-by-count": 7,
          "published.date-parts": "2018-04-11T00:00:00",
          "title": "EZyRB: Easy Reduced Basis method"
         },
         {
          "DOI": "10.21105/joss.01825",
          "is-referenced-by-count": 7,
          "published.date-parts": "2020-01-16T00:00:00",
          "title": "MorphoMetriX: a photogrammetric measurement GUI for morphometric analysis of megafauna"
         },
         {
          "DOI": "10.21105/joss.01425",
          "is-referenced-by-count": 7,
          "published.date-parts": "2019-10-01T00:00:00",
          "title": "Netwulf: Interactive visualization of networks in Python"
         },
         {
          "DOI": "10.21105/joss.02959",
          "is-referenced-by-count": 7,
          "published.date-parts": "2021-01-15T00:00:00",
          "title": "The targets R package: a dynamic Make-like function-oriented pipeline toolkit for reproducibility and high-performance computing"
         },
         {
          "DOI": "10.21105/joss.00427",
          "is-referenced-by-count": 7,
          "published.date-parts": "2017-11-15T00:00:00",
          "title": "MDEntropy: Information-Theoretic Analyses for Molecular Dynamics"
         },
         {
          "DOI": "10.21105/joss.01867",
          "is-referenced-by-count": 7,
          "published.date-parts": "2020-07-25T00:00:00",
          "title": "HRV: a Pythonic package for Heart Rate Variability Analysis"
         },
         {
          "DOI": "10.21105/joss.01469",
          "is-referenced-by-count": 7,
          "published.date-parts": "2019-09-18T00:00:00",
          "title": "stardate:  Combining dating methods for better stellar ages"
         },
         {
          "DOI": "10.21105/joss.03001",
          "is-referenced-by-count": 7,
          "published.date-parts": "2021-04-02T00:00:00",
          "title": "UltraNest - a robust, general purpose Bayesian inference engine"
         },
         {
          "DOI": "10.21105/joss.02260",
          "is-referenced-by-count": 7,
          "published.date-parts": "2020-08-31T00:00:00",
          "title": "Ginkgo: A high performance numerical linear algebra library"
         },
         {
          "DOI": "10.21105/joss.01832",
          "is-referenced-by-count": 7,
          "published.date-parts": "2020-02-14T00:00:00",
          "title": "SunPy: A Python package for Solar Physics"
         },
         {
          "DOI": "10.21105/joss.01356",
          "is-referenced-by-count": 7,
          "published.date-parts": "2019-06-03T00:00:00",
          "title": "scikit-finite-diff, a new tool for PDE solving"
         },
         {
          "DOI": "10.21105/joss.00231",
          "is-referenced-by-count": 6,
          "published.date-parts": "2017-05-10T00:00:00",
          "title": "flusight: interactive visualizations for infectious disease forecasts"
         },
         {
          "DOI": "10.21105/joss.00505",
          "is-referenced-by-count": 6,
          "published.date-parts": "2018-02-01T00:00:00",
          "title": "Finch: a tool adding dynamic abundance filtering to genomic MinHashing"
         },
         {
          "DOI": "10.21105/joss.00257",
          "is-referenced-by-count": 6,
          "published.date-parts": "2017-08-27T00:00:00",
          "title": "Varistran: Anscombe's variance stabilizing transformation for RNA-seq gene expression data"
         },
         {
          "DOI": "10.21105/joss.00106",
          "is-referenced-by-count": 6,
          "published.date-parts": "2016-11-08T00:00:00",
          "title": "plater: Read, Tidy, and Display Data from Microtiter Plates"
         },
         {
          "DOI": "10.21105/joss.00320",
          "is-referenced-by-count": 6,
          "published.date-parts": "2017-08-15T00:00:00",
          "title": "genomepy: download genomes the easy way"
         },
         {
          "DOI": "10.21105/jcon.00058",
          "is-referenced-by-count": 6,
          "published.date-parts": "2020-07-27T00:00:00",
          "title": "Circuitscape in Julia: High Performance Connectivity Modelling to Support Conservation Decisions"
         },
         {
          "DOI": "10.21105/joss.02018",
          "is-referenced-by-count": 6,
          "published.date-parts": "2020-09-22T00:00:00",
          "title": "Oceananigans.jl: Fast and friendly geophysical fluid dynamics on GPUs"
         },
         {
          "DOI": "10.21105/joss.01868",
          "is-referenced-by-count": 6,
          "published.date-parts": "2019-12-03T00:00:00",
          "title": "libRL: A Python library for the characterization of microwave absorption"
         },
         {
          "DOI": "10.21105/joss.01778",
          "is-referenced-by-count": 6,
          "published.date-parts": "2019-11-04T00:00:00",
          "title": "GaitPy: An Open-Source Python Package for Gait Analysis Using an Accelerometer on the Lower Back"
         },
         {
          "DOI": "10.21105/joss.00493",
          "is-referenced-by-count": 6,
          "published.date-parts": "2018-01-31T00:00:00",
          "title": "BATMAN: Statistical analysis for expensive computer codes made easy"
         },
         {
          "DOI": "10.21105/joss.02668",
          "is-referenced-by-count": 6,
          "published.date-parts": "2020-10-05T00:00:00",
          "title": "BrainGlobe Atlas API: a common interface for neuroanatomical atlases"
         },
         {
          "DOI": "10.21105/joss.01073",
          "is-referenced-by-count": 6,
          "published.date-parts": "2018-12-16T00:00:00",
          "title": "Rule-based integration: An extensive system of symbolic integration rules"
         },
         {
          "DOI": "10.21105/joss.00494",
          "is-referenced-by-count": 6,
          "published.date-parts": "2018-03-28T00:00:00",
          "title": "PyTransport: A Python package for the calculation of inflationary correlation functions"
         },
         {
          "DOI": "10.21105/joss.02977",
          "is-referenced-by-count": 6,
          "published.date-parts": "2021-03-31T00:00:00",
          "title": "EMD: Empirical Mode Decomposition and Hilbert-Huang Spectral Analyses in Python"
         },
         {
          "DOI": "10.21105/joss.00487",
          "is-referenced-by-count": 6,
          "published.date-parts": "2018-06-19T00:00:00",
          "title": "kima: Exoplanet detection in radial velocities"
         },
         {
          "DOI": "10.21105/joss.00043",
          "is-referenced-by-count": 6,
          "published.date-parts": "2016-08-18T00:00:00",
          "title": "PyGBe: Python, GPUs and Boundary elements for biomolecular electrostatics"
         },
         {
          "DOI": "10.21105/joss.00514",
          "is-referenced-by-count": 6,
          "published.date-parts": "2018-01-17T00:00:00",
          "title": "phyphy: Python package for facilitating the execution and parsing of HyPhy standard analyses"
         },
         {
          "DOI": "10.21105/joss.00989",
          "is-referenced-by-count": 6,
          "published.date-parts": "2019-04-10T00:00:00",
          "title": "diff_classifier: Parallelization of multi-particle tracking video analyses"
         },
         {
          "DOI": "10.21105/joss.02705",
          "is-referenced-by-count": 6,
          "published.date-parts": "2020-11-04T00:00:00",
          "title": "DeepReg: a deep learning toolkit for medical image registration"
         },
         {
          "DOI": "10.21105/joss.02579",
          "is-referenced-by-count": 6,
          "published.date-parts": "2020-10-15T00:00:00",
          "title": "Minerva: a light-weight, narrative image browser for multiplexed tissue images"
         },
         {
          "DOI": "10.21105/joss.00355",
          "is-referenced-by-count": 6,
          "published.date-parts": "2017-08-22T00:00:00",
          "title": "visdat: Visualising Whole Data Frames"
         },
         {
          "DOI": "10.21105/joss.00653",
          "is-referenced-by-count": 6,
          "published.date-parts": "2018-04-04T00:00:00",
          "title": "Spiral: splitters for identifiers in source code files"
         },
         {
          "DOI": "10.21105/joss.02314",
          "is-referenced-by-count": 6,
          "published.date-parts": "2020-06-09T00:00:00",
          "title": "pyrolite: Python for geochemistry"
         },
         {
          "DOI": "10.21105/joss.00064",
          "is-referenced-by-count": 6,
          "published.date-parts": "2017-01-12T00:00:00",
          "title": "ecopath_matlab: A Matlab-based implementation of the Ecopath food web algorithm"
         },
         {
          "DOI": "10.21105/joss.01399",
          "is-referenced-by-count": 6,
          "published.date-parts": "2019-05-09T00:00:00",
          "title": "Fruitbat: A Python Package for Estimating Redshifts of Fast Radio Bursts"
         },
         {
          "DOI": "10.21105/joss.02363",
          "is-referenced-by-count": 6,
          "published.date-parts": "2020-08-10T00:00:00",
          "title": "Tools21cm: A python package to analyse the large-scale 21-cm signal from the Epoch of Reionization and Cosmic Dawn"
         },
         {
          "DOI": "10.21105/astro.1907.07199",
          "is-referenced-by-count": 6,
          "published.date-parts": "2019-12-11T00:00:00",
          "title": "An independent assessment of significance of annual modulation in COSINE-100 data"
         },
         {
          "DOI": "10.21105/joss.02102",
          "is-referenced-by-count": 6,
          "published.date-parts": "2020-03-12T00:00:00",
          "title": "CarrierCapture.jl: Anharmonic Carrier Capture"
         },
         {
          "DOI": "10.21105/joss.00011",
          "is-referenced-by-count": 6,
          "published.date-parts": "2016-05-11T00:00:00",
          "title": "carl: a likelihood-free inference toolbox"
         },
         {
          "DOI": "10.21105/joss.00699",
          "is-referenced-by-count": 6,
          "published.date-parts": "2018-05-17T00:00:00",
          "title": "qicharts2: Quality Improvement Charts for R"
         },
         {
          "DOI": "10.21105/joss.00739",
          "is-referenced-by-count": 6,
          "published.date-parts": "2018-06-20T00:00:00",
          "title": "rsimsum: Summarise results from Monte Carlo simulation studies"
         },
         {
          "DOI": "10.21105/joss.01221",
          "is-referenced-by-count": 6,
          "published.date-parts": "2019-05-19T00:00:00",
          "title": "areal: An R package for areal weighted interpolation"
         },
         {
          "DOI": "10.21105/joss.00107",
          "is-referenced-by-count": 6,
          "published.date-parts": "2016-12-01T00:00:00",
          "title": "ReproZip: The Reproducibility Packer"
         },
         {
          "DOI": "10.21105/joss.00670",
          "is-referenced-by-count": 6,
          "published.date-parts": "2018-06-21T00:00:00",
          "title": "MatchPy: Pattern Matching in Python"
         },
         {
          "DOI": "10.21105/joss.01441",
          "is-referenced-by-count": 6,
          "published.date-parts": "2020-01-25T00:00:00",
          "title": "MoFEM: An open source, parallel finite element library"
         },
         {
          "DOI": "10.21105/joss.00451",
          "is-referenced-by-count": 6,
          "published.date-parts": "2017-11-15T00:00:00",
          "title": "Retriever: Data Retrieval Tool"
         },
         {
          "DOI": "10.21105/joss.00314",
          "is-referenced-by-count": 6,
          "published.date-parts": "2018-03-28T00:00:00",
          "title": "USAboundaries: Historical and Contemporary Boundaries of the United States of America"
         },
         {
          "DOI": "10.21105/joss.00079",
          "is-referenced-by-count": 6,
          "published.date-parts": "2016-09-29T00:00:00",
          "title": "Python Active-subspaces Utility Library"
         },
         {
          "DOI": "10.21105/joss.01400",
          "is-referenced-by-count": 6,
          "published.date-parts": "2019-05-04T00:00:00",
          "title": "ppiclF: A Parallel Particle-In-Cell Library in Fortran"
         },
         {
          "DOI": "10.21105/joss.02178",
          "is-referenced-by-count": 6,
          "published.date-parts": "2020-05-21T00:00:00",
          "title": "TESPy: Thermal Engineering Systems in Python"
         },
         {
          "DOI": "10.21105/joss.01234",
          "is-referenced-by-count": 6,
          "published.date-parts": "2019-05-15T00:00:00",
          "title": "pyuvsim: A comprehensive simulation package for radio interferometers in python."
         },
         {
          "DOI": "10.21105/joss.01603",
          "is-referenced-by-count": 6,
          "published.date-parts": "2019-08-21T00:00:00",
          "title": "containerit: Generating Dockerfiles for reproducible research with R"
         },
         {
          "DOI": "10.21105/joss.00333",
          "is-referenced-by-count": 5,
          "published.date-parts": "2017-08-02T00:00:00",
          "title": "rtimicropem: an R package supporting the analysis of RTI MicroPEM output files"
         },
         {
          "DOI": "10.21105/joss.01182",
          "is-referenced-by-count": 5,
          "published.date-parts": "2019-07-26T00:00:00",
          "title": "VIVO: a system for research discovery"
         },
         {
          "DOI": "10.21105/joss.00809",
          "is-referenced-by-count": 5,
          "published.date-parts": "2018-08-14T00:00:00",
          "title": "unyt: Handle, manipulate, and convert data with units in Python"
         },
         {
          "DOI": "10.21105/joss.02071",
          "is-referenced-by-count": 5,
          "published.date-parts": "2020-02-06T00:00:00",
          "title": "osfr: An R Interface to the Open Science Framework"
         },
         {
          "DOI": "10.21105/joss.00569",
          "is-referenced-by-count": 5,
          "published.date-parts": "2018-02-12T00:00:00",
          "title": "ChebTools: C++11 (and Python) tools for working with Chebyshev expansions"
         },
         {
          "DOI": "10.21105/joss.00790",
          "is-referenced-by-count": 5,
          "published.date-parts": "2018-06-22T00:00:00",
          "title": "phylogram: an R package for phylogenetic analysis with nested lists"
         },
         {
          "DOI": "10.21105/joss.02066",
          "is-referenced-by-count": 5,
          "published.date-parts": "2020-02-18T00:00:00",
          "title": "SpeciesEvolver: A Landlab component to evolve life in simulated landscapes"
         },
         {
          "DOI": "10.21105/joss.02582",
          "is-referenced-by-count": 5,
          "published.date-parts": "2020-10-22T00:00:00",
          "title": "21cmFAST v3: A Python-integrated C code for generating 3D realizations of the cosmic 21cm signal."
         },
         {
          "DOI": "10.21105/joss.02006",
          "is-referenced-by-count": 5,
          "published.date-parts": "2020-06-20T00:00:00",
          "title": "LiberTEM: Software platform for scalable multidimensional data processing in transmission electron microscopy"
         },
         {
          "DOI": "10.21105/joss.01458",
          "is-referenced-by-count": 5,
          "published.date-parts": "2019-08-12T00:00:00",
          "title": "webweb: a tool for creating, displaying, and sharing interactive network visualizations on the web"
         },
         {
          "DOI": "10.21105/joss.00189",
          "is-referenced-by-count": 5,
          "published.date-parts": "2017-03-07T00:00:00",
          "title": "spatial-efd: A spatial-aware implementation of elliptical Fourier analysis"
         },
         {
          "DOI": "10.21105/joss.01543",
          "is-referenced-by-count": 5,
          "published.date-parts": "2019-09-08T00:00:00",
          "title": "pyMARS: automatically reducing chemical kinetic models in Python"
         },
         {
          "DOI": "10.21105/joss.03262",
          "is-referenced-by-count": 5,
          "published.date-parts": "2021-07-01T00:00:00",
          "title": "DataLad: distributed system for joint management of code, data, and their relationship"
         },
         {
          "DOI": "10.21105/joss.00465",
          "is-referenced-by-count": 5,
          "published.date-parts": "2017-12-15T00:00:00",
          "title": "mpnum: A matrix product representation library for Python"
         },
         {
          "DOI": "10.21105/joss.02823",
          "is-referenced-by-count": 5,
          "published.date-parts": "2021-02-04T00:00:00",
          "title": "pyhf: pure-Python implementation of HistFactory statistical models"
         },
         {
          "DOI": "10.21105/joss.00979",
          "is-referenced-by-count": 5,
          "published.date-parts": "2018-10-17T00:00:00",
          "title": "Lithology: A Landlab submodule for spatially variable rock properties"
         },
         {
          "DOI": "10.21105/joss.02784",
          "is-referenced-by-count": 5,
          "published.date-parts": "2021-01-22T00:00:00",
          "title": "kalepy: a Python package for kernel density estimation, sampling and plotting"
         },
         {
          "DOI": "10.21105/astro.2008.08090",
          "is-referenced-by-count": 5,
          "published.date-parts": "2020-12-21T00:00:00",
          "title": "The Formation of Very Massive Stars in Early Galaxies and Implications for Intermediate Mass Black Holes"
         },
         {
          "DOI": "10.21105/joss.01721",
          "is-referenced-by-count": 5,
          "published.date-parts": "2019-10-17T00:00:00",
          "title": "MiSTree: a Python package for constructing and analysing Minimum Spanning Trees"
         },
         {
          "DOI": "10.21105/joss.01037",
          "is-referenced-by-count": 5,
          "published.date-parts": "2018-12-11T00:00:00",
          "title": "GPUE: Graphics Processing Unit Gross--Pitaevskii Equation solver"
         },
         {
          "DOI": "10.21105/joss.01959",
          "is-referenced-by-count": 5,
          "published.date-parts": "2020-03-01T00:00:00",
          "title": "Pyglmnet: Python implementation of elastic-net regularized generalized linear models"
         },
         {
          "DOI": "10.21105/joss.00062",
          "is-referenced-by-count": 5,
          "published.date-parts": "2016-11-09T00:00:00",
          "title": "xpecgen: A program to calculate x-ray spectra generated in tungsten anodes"
         },
         {
          "DOI": "10.21105/joss.01614",
          "is-referenced-by-count": 5,
          "published.date-parts": "2019-08-20T00:00:00",
          "title": "drms: A Python package for accessing HMI and AIA data"
         },
         {
          "DOI": "10.21105/joss.02042",
          "is-referenced-by-count": 5,
          "published.date-parts": "2020-03-27T00:00:00",
          "title": "MetSim: A Python package for estimation and disaggregation of meteorological data"
         },
         {
          "DOI": "10.21105/joss.01397",
          "is-referenced-by-count": 5,
          "published.date-parts": "2019-05-31T00:00:00",
          "title": "hankel: A Python library for performing simple and accurate Hankel transformations"
         },
         {
          "DOI": "10.21105/joss.02307",
          "is-referenced-by-count": 5,
          "published.date-parts": "2020-09-04T00:00:00",
          "title": "Excimontec v1.0: An Open-Source Software Tool for Kinetic Monte Carlo Simulations of Organic Electronic Devices"
         },
         {
          "DOI": "10.21105/joss.01247",
          "is-referenced-by-count": 5,
          "published.date-parts": "2019-05-12T00:00:00",
          "title": "SkyPortal: An Astronomical Data Platform"
         },
         {
          "DOI": "10.21105/joss.00812",
          "is-referenced-by-count": 5,
          "published.date-parts": "2018-10-03T00:00:00",
          "title": "DeGAUSS: Decentralized Geomarker Assessment for Multi-Site Studies"
         },
         {
          "DOI": "10.21105/astro.1904.03201",
          "is-referenced-by-count": 5,
          "published.date-parts": "2020-03-13T00:00:00",
          "title": "Halo Spin from Primordial Inner Motions"
         },
         {
          "DOI": "10.21105/joss.01566",
          "is-referenced-by-count": 5,
          "published.date-parts": "2019-10-03T00:00:00",
          "title": "kdensity: An R package for kernel density estimation with parametric starts and asymmetric kernels"
         },
         {
          "DOI": "10.21105/joss.02160",
          "is-referenced-by-count": 5,
          "published.date-parts": "2020-03-30T00:00:00",
          "title": "PyZFS: A Python package for first-principles calculations of zero-field splitting tensors"
         },
         {
          "DOI": "10.21105/joss.02122",
          "is-referenced-by-count": 5,
          "published.date-parts": "2020-03-19T00:00:00",
          "title": "Pippin: A pipeline for supernova cosmology"
         },
         {
          "DOI": "10.21105/joss.00781",
          "is-referenced-by-count": 5,
          "published.date-parts": "2018-09-04T00:00:00",
          "title": "approxposterior: Approximate Posterior Distributions in Python"
         },
         {
          "DOI": "10.21105/joss.00171",
          "is-referenced-by-count": 5,
          "published.date-parts": "2017-02-03T00:00:00",
          "title": "RiskPortfolios: Computation of Risk-Based Portfolios in R"
         },
         {
          "DOI": "10.21105/joss.01931",
          "is-referenced-by-count": 5,
          "published.date-parts": "2020-02-19T00:00:00",
          "title": "NeuroDiffEq: A Python package for solving differential equations with neural networks"
         },
         {
          "DOI": "10.21105/joss.00521",
          "is-referenced-by-count": 5,
          "published.date-parts": "2018-02-04T00:00:00",
          "title": "The Experiment Factory: Reproducible Experiment Containers"
         },
         {
          "DOI": "10.21105/joss.01171",
          "is-referenced-by-count": 5,
          "published.date-parts": "2019-07-16T00:00:00",
          "title": "COSplay: Contrast Optimized Stimulation Player"
         },
         {
          "DOI": "10.21105/joss.01700",
          "is-referenced-by-count": 5,
          "published.date-parts": "2019-09-24T00:00:00",
          "title": "RHEOS.jl -- A Julia Package for Rheology Data Analysis"
         },
         {
          "DOI": "10.21105/joss.00876",
          "is-referenced-by-count": 5,
          "published.date-parts": "2018-09-01T00:00:00",
          "title": "GEM: A Python package for graph embedding methods"
         },
         {
          "DOI": "10.21105/joss.00124",
          "is-referenced-by-count": 5,
          "published.date-parts": "2017-11-09T00:00:00",
          "title": "Confidence Intervals for Random Forests in Python"
         },
         {
          "DOI": "10.21105/joss.02347",
          "is-referenced-by-count": 5,
          "published.date-parts": "2020-08-06T00:00:00",
          "title": "\\texttt{stella}: Convolutional Neural Networks for Flare Identification in \\textit{TESS}"
         },
         {
          "DOI": "10.21105/joss.00860",
          "is-referenced-by-count": 5,
          "published.date-parts": "2018-08-08T00:00:00",
          "title": "TDAstats: R pipeline for computing persistent homology in topological data analysis"
         },
         {
          "DOI": "10.21105/joss.03073",
          "is-referenced-by-count": 5,
          "published.date-parts": "2021-05-14T00:00:00",
          "title": "mikropml: User-Friendly R Package for Supervised Machine Learning Pipelines"
         },
         {
          "DOI": "10.21105/joss.00870",
          "is-referenced-by-count": 5,
          "published.date-parts": "2018-08-06T00:00:00",
          "title": "logKDE: log-transformed kernel density estimation"
         },
         {
          "DOI": "10.21105/joss.00354",
          "is-referenced-by-count": 5,
          "published.date-parts": "2017-08-27T00:00:00",
          "title": "Bruker2nifti: Magnetic Resonance Images converter from Bruker ParaVision to Nifti format"
         },
         {
          "DOI": "10.21105/joss.01190",
          "is-referenced-by-count": 5,
          "published.date-parts": "2019-02-10T00:00:00",
          "title": "Multiblock PLS: Block dependent prediction modeling for Python"
         },
         {
          "DOI": "10.21105/joss.00146",
          "is-referenced-by-count": 5,
          "published.date-parts": "2017-04-14T00:00:00",
          "title": "eLabFTW: An open source laboratory notebook for research labs"
         },
         {
          "DOI": "10.21105/joss.00924",
          "is-referenced-by-count": 5,
          "published.date-parts": "2018-10-02T00:00:00",
          "title": "graynet: single-subject morphometric networks for neuroscience connectivity applications"
         },
         {
          "DOI": "10.21105/joss.01336",
          "is-referenced-by-count": 5,
          "published.date-parts": "2019-03-29T00:00:00",
          "title": "rrcf: Implementation of the Robust Random Cut Forest algorithm for anomaly detection on streams"
         },
         {
          "DOI": "10.21105/joss.00396",
          "is-referenced-by-count": 5,
          "published.date-parts": "2017-09-20T00:00:00",
          "title": "SimuPy: A Python framework for modeling and simulating dynamical systems"
         },
         {
          "DOI": "10.21105/joss.01179",
          "is-referenced-by-count": 5,
          "published.date-parts": "2019-02-12T00:00:00",
          "title": "CITapp - a response time-based Concealed Information Test lie detector web application"
         },
         {
          "DOI": "10.21105/joss.00339",
          "is-referenced-by-count": 5,
          "published.date-parts": "2017-08-27T00:00:00",
          "title": "Lcopt - An interactive tool for creating fully parameterised Life Cycle Assessment (LCA) foreground models"
         },
         {
          "DOI": "10.21105/joss.00268",
          "is-referenced-by-count": 5,
          "published.date-parts": "2018-09-04T00:00:00",
          "title": "Windrose: A Python Matplotlib, Numpy library to manage wind and pollution data, draw windrose"
         },
         {
          "DOI": "10.21105/joss.01573",
          "is-referenced-by-count": 5,
          "published.date-parts": "2019-09-08T00:00:00",
          "title": "TimeSeriesClustering: An extensible framework in Julia"
         },
         {
          "DOI": "10.21105/joss.01442",
          "is-referenced-by-count": 5,
          "published.date-parts": "2019-06-20T00:00:00",
          "title": "phylosmith: an R-package for reproducible and efficient microbiome analysis with phyloseq-objects"
         },
         {
          "DOI": "10.21105/joss.01463",
          "is-referenced-by-count": 5,
          "published.date-parts": "2019-07-22T00:00:00",
          "title": "emg3d: A multigrid solver for 3D electromagnetic diffusion"
         },
         {
          "DOI": "10.21105/joss.02285",
          "is-referenced-by-count": 5,
          "published.date-parts": "2020-06-20T00:00:00",
          "title": "PupillometryR: An R package for preparing and analysing pupillometry data"
         },
         {
          "DOI": "10.21105/joss.01656",
          "is-referenced-by-count": 5,
          "published.date-parts": "2020-02-06T00:00:00",
          "title": "ASCENDS: Advanced data SCiENce toolkit for Non-Data Scientists"
         },
         {
          "DOI": "10.21105/joss.01096",
          "is-referenced-by-count": 4,
          "published.date-parts": "2018-12-05T00:00:00",
          "title": "ggvoronoi: Voronoi Diagrams and Heatmaps with ggplot2"
         },
         {
          "DOI": "10.21105/joss.00878",
          "is-referenced-by-count": 4,
          "published.date-parts": "2018-08-07T00:00:00",
          "title": "Containershare: Open Source Registry to build, test, deploy with CircleCI"
         },
         {
          "DOI": "10.21105/astro.1904.07173",
          "is-referenced-by-count": 4,
          "published.date-parts": "2019-07-18T00:00:00",
          "title": "Propagating Residual Biases in Cosmic Shear Power Spectra"
         },
         {
          "DOI": "10.21105/joss.00338",
          "is-referenced-by-count": 4,
          "published.date-parts": "2017-08-15T00:00:00",
          "title": "RefManageR: Import and Manage BibTeX and BibLaTeX References in R"
         },
         {
          "DOI": "10.21105/joss.00012",
          "is-referenced-by-count": 4,
          "published.date-parts": "2016-05-16T00:00:00",
          "title": "mst_clustering: Clustering via Euclidean Minimum Spanning Trees"
         },
         {
          "DOI": "10.21105/joss.02179",
          "is-referenced-by-count": 4,
          "published.date-parts": "2020-05-06T00:00:00",
          "title": "MPA: a novel cross-language API for time series analysis"
         },
         {
          "DOI": "10.21105/joss.01797",
          "is-referenced-by-count": 4,
          "published.date-parts": "2020-03-06T00:00:00",
          "title": "Underworld2: Python Geodynamics Modelling for Desktop, HPC and Cloud"
         },
         {
          "DOI": "10.21105/joss.02106",
          "is-referenced-by-count": 4,
          "published.date-parts": "2020-03-30T00:00:00",
          "title": "mhealthtools: A Modular R Package for Extracting Features from Mobile and Wearable Sensor Data"
         },
         {
          "DOI": "10.21105/joss.01284",
          "is-referenced-by-count": 4,
          "published.date-parts": "2019-03-13T00:00:00",
          "title": "JuliaCall: an R package for seamless integration between R and Julia"
         },
         {
          "DOI": "10.21105/joss.02411",
          "is-referenced-by-count": 4,
          "published.date-parts": "2020-08-31T00:00:00",
          "title": "matchms - processing and similarity evaluation of mass spectrometry data."
         },
         {
          "DOI": "10.21105/joss.00950",
          "is-referenced-by-count": 4,
          "published.date-parts": "2018-11-06T00:00:00",
          "title": "JavaPermutationTools: A Java Library of Permutation Distance Metrics"
         },
         {
          "DOI": "10.21105/joss.00688",
          "is-referenced-by-count": 4,
          "published.date-parts": "2018-07-08T00:00:00",
          "title": "qualtRics: retrieve survey data using the Qualtrics API"
         },
         {
          "DOI": "10.21105/joss.01910",
          "is-referenced-by-count": 4,
          "published.date-parts": "2019-12-06T00:00:00",
          "title": "Dryft: A Python and MATLAB package to correct drifting ground reaction force signals during treadmill running"
         },
         {
          "DOI": "10.21105/joss.02029",
          "is-referenced-by-count": 4,
          "published.date-parts": "2020-05-11T00:00:00",
          "title": "WEPPCLIFF: A command-line tool to process climate inputs for soil loss models"
         },
         {
          "DOI": "10.21105/joss.00179",
          "is-referenced-by-count": 4,
          "published.date-parts": "2017-03-08T00:00:00",
          "title": "AncesTrim - a tool for trimming complex pedigrees"
         },
         {
          "DOI": "10.21105/joss.02348",
          "is-referenced-by-count": 4,
          "published.date-parts": "2020-07-02T00:00:00",
          "title": "pypillometry: A Python package for pupillometric analyses"
         },
         {
          "DOI": "10.21105/joss.00593",
          "is-referenced-by-count": 4,
          "published.date-parts": "2018-05-04T00:00:00",
          "title": "Phylen: automatic phylogenetic reconstruction using the EggNOG database"
         },
         {
          "DOI": "10.21105/joss.01890",
          "is-referenced-by-count": 4,
          "published.date-parts": "2019-12-20T00:00:00",
          "title": "pybeach: A Python package for extracting the location of dune toes on beach profile transects"
         },
         {
          "DOI": "10.21105/joss.02060",
          "is-referenced-by-count": 4,
          "published.date-parts": "2020-04-13T00:00:00",
          "title": "ampscan: A lightweight Python package for shape analysis of prosthetics and orthotics"
         },
         {
          "DOI": "10.21105/joss.02507",
          "is-referenced-by-count": 4,
          "published.date-parts": "2020-10-26T00:00:00",
          "title": "TTLocVis: A Twitter Topic Location Visualization Package"
         },
         {
          "DOI": "10.21105/joss.00424",
          "is-referenced-by-count": 4,
          "published.date-parts": "2017-10-06T00:00:00",
          "title": "Quail: A Python toolbox for analyzing and plotting free recall data"
         },
         {
          "DOI": "10.21105/joss.00441",
          "is-referenced-by-count": 4,
          "published.date-parts": "2017-11-12T00:00:00",
          "title": "Hytool: an open source matlab toolbox for the interpretation of hydraulic tests using analytical solutions"
         },
         {
          "DOI": "10.21105/joss.02170",
          "is-referenced-by-count": 4,
          "published.date-parts": "2020-06-19T00:00:00",
          "title": "LTRpred: de novo annotation of intact retrotransposons"
         },
         {
          "DOI": "10.21105/joss.02111",
          "is-referenced-by-count": 4,
          "published.date-parts": "2020-07-21T00:00:00",
          "title": "BGGM: Bayesian Gaussian Graphical Models in R"
         },
         {
          "DOI": "10.21105/joss.01982",
          "is-referenced-by-count": 4,
          "published.date-parts": "2020-03-06T00:00:00",
          "title": "SAILS: Spectral Analysis In Linear Systems"
         },
         {
          "DOI": "10.21105/joss.00168",
          "is-referenced-by-count": 4,
          "published.date-parts": "2017-02-04T00:00:00",
          "title": "bíogo/hts: high throughput sequence handling for the Go language"
         },
         {
          "DOI": "10.21105/joss.01611",
          "is-referenced-by-count": 4,
          "published.date-parts": "2019-10-08T00:00:00",
          "title": "Agents.jl: agent-based modeling framework in Julia"
         },
         {
          "DOI": "10.21105/joss.03041",
          "is-referenced-by-count": 4,
          "published.date-parts": "2021-04-23T00:00:00",
          "title": "splithalf: robust estimates of split half reliability"
         },
         {
          "DOI": "10.21105/joss.00606",
          "is-referenced-by-count": 4,
          "published.date-parts": "2018-03-11T00:00:00",
          "title": "coalitions: Coalition probabilities in multi-party democracies"
         },
         {
          "DOI": "10.21105/joss.00735",
          "is-referenced-by-count": 4,
          "published.date-parts": "2018-06-17T00:00:00",
          "title": "egtplot: A Python Package for Three-Strategy Evolutionary Games"
         },
         {
          "DOI": "10.21105/joss.01884",
          "is-referenced-by-count": 4,
          "published.date-parts": "2019-12-01T00:00:00",
          "title": "Plonk: Smoothed particle hydrodynamics analysis and visualization with Python"
         },
         {
          "DOI": "10.21105/joss.02505",
          "is-referenced-by-count": 4,
          "published.date-parts": "2020-08-21T00:00:00",
          "title": "sbi: A toolkit for simulation-based inference"
         },
         {
          "DOI": "10.21105/joss.00965",
          "is-referenced-by-count": 4,
          "published.date-parts": "2018-09-30T00:00:00",
          "title": "dyPolyChord: dynamic nested sampling with PolyChord"
         },
         {
          "DOI": "10.21105/joss.01776",
          "is-referenced-by-count": 4,
          "published.date-parts": "2019-10-29T00:00:00",
          "title": "umami: A Python package for Earth surface dynamics objective function construction"
         },
         {
          "DOI": "10.21105/joss.01327",
          "is-referenced-by-count": 4,
          "published.date-parts": "2019-07-08T00:00:00",
          "title": "Basicsums: A Python package for computing structural sums and the effective conductivity of random composites"
         },
         {
          "DOI": "10.21105/joss.01606",
          "is-referenced-by-count": 4,
          "published.date-parts": "2019-08-12T00:00:00",
          "title": "X.509-Compliant Hybrid Certificates for the Post-Quantum Transition"
         },
         {
          "DOI": "10.21105/joss.01071",
          "is-referenced-by-count": 4,
          "published.date-parts": "2018-11-19T00:00:00",
          "title": "Shenfun: High performance spectral Galerkin computing platform"
         },
         {
          "DOI": "10.21105/joss.00401",
          "is-referenced-by-count": 4,
          "published.date-parts": "2017-09-21T00:00:00",
          "title": "ECNet: Large scale machine learning projects for fuel property prediction"
         },
         {
          "DOI": "10.21105/joss.00167",
          "is-referenced-by-count": 4,
          "published.date-parts": "2017-02-18T00:00:00",
          "title": "bíogo: a simple high-performance bioinformatics toolkit for the Go language"
         },
         {
          "DOI": "10.21105/joss.02704",
          "is-referenced-by-count": 4,
          "published.date-parts": "2020-11-07T00:00:00",
          "title": "MLJ: A Julia package for composable machine learning"
         },
         {
          "DOI": "10.21105/joss.00031",
          "is-referenced-by-count": 4,
          "published.date-parts": "2016-07-01T00:00:00",
          "title": "Prism: Multiple spline regression with regularization, dimensionality reduction, and feature selection"
         },
         {
          "DOI": "10.21105/joss.00458",
          "is-referenced-by-count": 4,
          "published.date-parts": "2017-11-19T00:00:00",
          "title": "DynamicalBilliards.jl: An easy-to-use, modular and extendable Julia package for Dynamical Billiard systems in two dimensions."
         },
         {
          "DOI": "10.21105/joss.01517",
          "is-referenced-by-count": 4,
          "published.date-parts": "2019-10-25T00:00:00",
          "title": "DEEPaaS API: a REST API for Machine Learning and Deep Learning models"
         },
         {
          "DOI": "10.21105/joss.01185",
          "is-referenced-by-count": 4,
          "published.date-parts": "2019-03-21T00:00:00",
          "title": "open_iA: A tool for processing and visual analysis of industrial computed tomography datasets"
         },
         {
          "DOI": "10.21105/joss.00232",
          "is-referenced-by-count": 4,
          "published.date-parts": "2017-05-26T00:00:00",
          "title": "libqcpp: A C++14 sequence quality control library"
         },
         {
          "DOI": "10.21105/joss.00877",
          "is-referenced-by-count": 4,
          "published.date-parts": "2018-08-27T00:00:00",
          "title": "tidynamics: A tiny package to compute the dynamics of stochastic and molecular simulations"
         },
         {
          "DOI": "10.21105/joss.01824",
          "is-referenced-by-count": 4,
          "published.date-parts": "2019-11-01T00:00:00",
          "title": "pyscal: A python module for structural analysis of atomic environments"
         },
         {
          "DOI": "10.21105/joss.01148",
          "is-referenced-by-count": 4,
          "published.date-parts": "2019-01-02T00:00:00",
          "title": "tissueloc: Whole slide digital pathology image tissue localization"
         },
         {
          "DOI": "10.21105/joss.01002",
          "is-referenced-by-count": 4,
          "published.date-parts": "2018-11-01T00:00:00",
          "title": "TensorFlow.jl: An Idiomatic Julia Front End for TensorFlow"
         },
         {
          "DOI": "10.21105/joss.03285",
          "is-referenced-by-count": 4,
          "published.date-parts": "2021-06-22T00:00:00",
          "title": "exoplanet: Gradient-based probabilistic inference for exoplanet data  other astronomical time series"
         },
         {
          "DOI": "10.21105/joss.01555",
          "is-referenced-by-count": 4,
          "published.date-parts": "2020-02-10T00:00:00",
          "title": "FEST-3D: Finite-volume Explicit STructured 3-Dimensional solver"
         },
         {
          "DOI": "10.21105/joss.02027",
          "is-referenced-by-count": 4,
          "published.date-parts": "2019-02-05T00:00:00",
          "title": "shapr: An R-package for explaining machine learning models with dependence-aware Shapley values"
         },
         {
          "DOI": "10.21105/jose.00042",
          "is-referenced-by-count": 4,
          "published.date-parts": "2019-04-26T00:00:00",
          "title": "A course on Geographic Data Science"
         },
         {
          "DOI": "10.21105/joss.01264",
          "is-referenced-by-count": 4,
          "published.date-parts": "2019-03-21T00:00:00",
          "title": "CluSim: a python package for calculating clustering similarity"
         },
         {
          "DOI": "10.21105/joss.00280",
          "is-referenced-by-count": 4,
          "published.date-parts": "2017-08-29T00:00:00",
          "title": "AmgXWrapper: An interface between PETSc and the NVIDIA AmgX library"
         },
         {
          "DOI": "10.21105/joss.01808",
          "is-referenced-by-count": 4,
          "published.date-parts": "2020-04-06T00:00:00",
          "title": "rf: Receiver function calculation in seismology"
         },
         {
          "DOI": "10.21105/joss.01979",
          "is-referenced-by-count": 4,
          "published.date-parts": "2020-02-08T00:00:00",
          "title": "Pubmed Parser: A Python Parser for PubMed Open-Access XML Subset and MEDLINE XML Dataset XML Dataset"
         },
         {
          "DOI": "10.21105/joss.02521",
          "is-referenced-by-count": 4,
          "published.date-parts": "2020-09-16T00:00:00",
          "title": "EFAtools: An R package with fast and flexible implementations of exploratory factor analysis tools"
         },
         {
          "DOI": "10.21105/joss.00176",
          "is-referenced-by-count": 4,
          "published.date-parts": "2017-02-28T00:00:00",
          "title": "remBoot: An R package for Random Encounter Modelling"
         },
         {
          "DOI": "10.21105/joss.02343",
          "is-referenced-by-count": 4,
          "published.date-parts": "2020-09-03T00:00:00",
          "title": "qMRLab: Quantitative MRI analysis, under one umbrella"
         },
         {
          "DOI": "10.21105/astro.2007.07253",
          "is-referenced-by-count": 4,
          "published.date-parts": "2020-09-29T00:00:00",
          "title": "The impact of signal-to-noise, redshift, and angular range on the bias of weak lensing 2-point functions"
         },
         {
          "DOI": "10.21105/joss.00035",
          "is-referenced-by-count": 4,
          "published.date-parts": "2016-10-12T00:00:00",
          "title": "LAS: an integrated language analysis tool for multiple languages"
         },
         {
          "DOI": "10.21105/joss.00829",
          "is-referenced-by-count": 4,
          "published.date-parts": "2018-08-02T00:00:00",
          "title": "pysrim: Automation, Analysis, and Plotting of SRIM Calculations"
         },
         {
          "DOI": "10.21105/joss.00515",
          "is-referenced-by-count": 4,
          "published.date-parts": "2018-05-09T00:00:00",
          "title": "scanstatistics: space-time anomaly detection using scan statistics"
         },
         {
          "DOI": "10.21105/joss.00490",
          "is-referenced-by-count": 4,
          "published.date-parts": "2018-01-03T00:00:00",
          "title": "pyodesys: Straightforward numerical integration of ODE systems from Python"
         },
         {
          "DOI": "10.21105/joss.01208",
          "is-referenced-by-count": 4,
          "published.date-parts": "2019-03-09T00:00:00",
          "title": "A News Verification Browser for the Detection of Clickbait, Satire, and Falsified News"
         },
         {
          "DOI": "10.21105/joss.02317",
          "is-referenced-by-count": 4,
          "published.date-parts": "2020-07-23T00:00:00",
          "title": "The Basic Model Interface 2.0: A standard interface for coupling numerical models in the geosciences"
         },
         {
          "DOI": "10.21105/joss.00668",
          "is-referenced-by-count": 4,
          "published.date-parts": "2018-07-08T00:00:00",
          "title": "pdfsearch: Search Tools for PDF Files"
         },
         {
          "DOI": "10.21105/joss.02868",
          "is-referenced-by-count": 3,
          "published.date-parts": "2021-02-12T00:00:00",
          "title": "ivadomed: A Medical Imaging Deep Learning Toolbox"
         },
         {
          "DOI": "10.21105/joss.00471",
          "is-referenced-by-count": 3,
          "published.date-parts": "2017-12-05T00:00:00",
          "title": "bikedata"
         },
         {
          "DOI": "10.21105/joss.00272",
          "is-referenced-by-count": 3,
          "published.date-parts": "2017-07-03T00:00:00",
          "title": "khmer release v2.1: software for biological sequence analysis"
         },
         {
          "DOI": "10.21105/joss.00085",
          "is-referenced-by-count": 3,
          "published.date-parts": "2016-10-25T00:00:00",
          "title": "VCFPy: a Python 3 library with good support for both reading and writing VCF"
         },
         {
          "DOI": "10.21105/joss.01935",
          "is-referenced-by-count": 3,
          "published.date-parts": "2020-02-10T00:00:00",
          "title": "GroundwaterDupuitPercolator: A Landlab component for groundwater flow"
         },
         {
          "DOI": "10.21105/joss.01252",
          "is-referenced-by-count": 3,
          "published.date-parts": "2019-03-31T00:00:00",
          "title": "LightTwinSVM: A Simple and Fast Implementation of Standard Twin Support Vector Machine Classifier"
         },
         {
          "DOI": "10.21105/joss.01249",
          "is-referenced-by-count": 3,
          "published.date-parts": "2019-03-14T00:00:00",
          "title": "dfitspy: a dfits|fitsort implementation in python"
         },
         {
          "DOI": "10.21105/joss.01229",
          "is-referenced-by-count": 3,
          "published.date-parts": "2019-06-10T00:00:00",
          "title": "Model dispersion with PRISM; an alternative to MCMC for rapid analysis of models"
         },
         {
          "DOI": "10.21105/joss.01066",
          "is-referenced-by-count": 3,
          "published.date-parts": "2018-11-27T00:00:00",
          "title": "Scarplet: A Python package for topographic template matching and diffusion dating"
         },
         {
          "DOI": "10.21105/joss.01757",
          "is-referenced-by-count": 3,
          "published.date-parts": "2019-11-21T00:00:00",
          "title": "MAESTROeX: A Massively Parallel Low Mach Number Astrophysical Solver"
         },
         {
          "DOI": "10.21105/joss.02727",
          "is-referenced-by-count": 3,
          "published.date-parts": "2020-12-12T00:00:00",
          "title": "PyQMRI: An accelerated Python based Quantitative MRI toolbox"
         },
         {
          "DOI": "10.21105/joss.00850",
          "is-referenced-by-count": 3,
          "published.date-parts": "2018-08-20T00:00:00",
          "title": "powerbox: A Python package for creating structured fields with isotropic power spectra"
         },
         {
          "DOI": "10.21105/joss.02103",
          "is-referenced-by-count": 3,
          "published.date-parts": "2020-03-09T00:00:00",
          "title": "fleck: Fast approximate light curves for starspot rotational modulation"
         },
         {
          "DOI": "10.21105/joss.01525",
          "is-referenced-by-count": 3,
          "published.date-parts": "2019-08-16T00:00:00",
          "title": "multimatch-gaze: The MultiMatch algorithm for gaze path comparison in Python"
         },
         {
          "DOI": "10.21105/joss.00380",
          "is-referenced-by-count": 3,
          "published.date-parts": "2017-11-27T00:00:00",
          "title": "Histogram-weighted Networks for Feature Extraction, Connectivity and Advanced Analysis in Neuroscience"
         },
         {
          "DOI": "10.21105/joss.02472",
          "is-referenced-by-count": 3,
          "published.date-parts": "2020-08-03T00:00:00",
          "title": "tidyHeatmap: an R package for modular heatmap production based on tidy principles"
         },
         {
          "DOI": "10.21105/astro.2006.14625",
          "is-referenced-by-count": 3,
          "published.date-parts": "2020-08-24T00:00:00",
          "title": "Massive Star Formation in Metal-Enriched Haloes at High Redshift"
         },
         {
          "DOI": "10.21105/joss.02339",
          "is-referenced-by-count": 3,
          "published.date-parts": "2020-08-03T00:00:00",
          "title": "MorphoPy: A python package for feature extraction of neural morphologies."
         },
         {
          "DOI": "10.21105/joss.01725",
          "is-referenced-by-count": 3,
          "published.date-parts": "2019-10-12T00:00:00",
          "title": "PyPulseq: A Python Package for MRI Pulse Sequence Design"
         },
         {
          "DOI": "10.21105/joss.00300",
          "is-referenced-by-count": 3,
          "published.date-parts": "2018-01-30T00:00:00",
          "title": "opty: Software for trajectory optimization and parameter identification using direct collocation"
         },
         {
          "DOI": "10.21105/joss.00235",
          "is-referenced-by-count": 3,
          "published.date-parts": "2017-07-04T00:00:00",
          "title": "Text detection in screen images with a Convolutional Neural Network"
         },
         {
          "DOI": "10.21105/astro.1603.07299",
          "is-referenced-by-count": 3,
          "published.date-parts": "2016-10-08T00:00:00",
          "title": "K-CORRECTIONS: AN EXAMINATION OF THEIR CONTRIBUTION TO THE UNCERTAINTY OF LUMINOSITY MEASUREMENTS"
         },
         {
          "DOI": "10.21105/joss.00363",
          "is-referenced-by-count": 3,
          "published.date-parts": "2017-08-22T00:00:00",
          "title": "The psyplot interactive visualization framework"
         },
         {
          "DOI": "10.21105/joss.02369",
          "is-referenced-by-count": 3,
          "published.date-parts": "2020-08-21T00:00:00",
          "title": "scikit-fem: A Python package for finite element assembly"
         },
         {
          "DOI": "10.21105/joss.00052",
          "is-referenced-by-count": 3,
          "published.date-parts": "2016-12-20T00:00:00",
          "title": "fuse: An R package for ensemble Hydrological Modelling"
         },
         {
          "DOI": "10.21105/joss.00281",
          "is-referenced-by-count": 3,
          "published.date-parts": "2017-07-26T00:00:00",
          "title": "OpenSpace: An open-source astrovisualization framework"
         },
         {
          "DOI": "10.21105/joss.01137",
          "is-referenced-by-count": 3,
          "published.date-parts": "2019-01-12T00:00:00",
          "title": "PsychroLib: a library of psychrometric functions to calculate thermodynamic properties of air"
         },
         {
          "DOI": "10.21105/joss.02119",
          "is-referenced-by-count": 3,
          "published.date-parts": "2020-03-06T00:00:00",
          "title": "covtobed: a simple and fast tool to extract coverage tracks from BAM files"
         },
         {
          "DOI": "10.21105/joss.00488",
          "is-referenced-by-count": 3,
          "published.date-parts": "2018-01-22T00:00:00",
          "title": "CheSweet: An application to predict glycan’s chemicals shifts"
         },
         {
          "DOI": "10.21105/joss.00748",
          "is-referenced-by-count": 3,
          "published.date-parts": "2018-06-04T00:00:00",
          "title": "Discrete Laplace mixture model with applications in forensic genetics"
         },
         {
          "DOI": "10.21105/joss.00885",
          "is-referenced-by-count": 3,
          "published.date-parts": "2018-08-15T00:00:00",
          "title": "Genotify: Fast, lightweight gene lookup and summarization"
         },
         {
          "DOI": "10.21105/joss.02134",
          "is-referenced-by-count": 3,
          "published.date-parts": "2020-04-27T00:00:00",
          "title": "hypr: An R package for hypothesis-driven contrast coding"
         },
         {
          "DOI": "10.21105/joss.02513",
          "is-referenced-by-count": 3,
          "published.date-parts": "2020-10-23T00:00:00",
          "title": "CASTRO: A Massively Parallel Compressible Astrophysics Simulation Code"
         },
         {
          "DOI": "10.21105/joss.01915",
          "is-referenced-by-count": 3,
          "published.date-parts": "2019-12-11T00:00:00",
          "title": "alignparse: A Python package for parsing complex features from high-throughput long-read sequencing"
         },
         {
          "DOI": "10.21105/joss.01881",
          "is-referenced-by-count": 3,
          "published.date-parts": "2019-12-18T00:00:00",
          "title": "ytree: A Python package for analyzing merger trees"
         },
         {
          "DOI": "10.21105/joss.00684",
          "is-referenced-by-count": 3,
          "published.date-parts": "2018-05-07T00:00:00",
          "title": "malan: MAle Lineage ANalysis"
         },
         {
          "DOI": "10.21105/joss.01540",
          "is-referenced-by-count": 3,
          "published.date-parts": "2019-09-04T00:00:00",
          "title": "Sourcepredict: Prediction of metagenomic sample sources using dimension reduction followed by machine learning classification"
         },
         {
          "DOI": "10.21105/joss.00056",
          "is-referenced-by-count": 3,
          "published.date-parts": "2017-01-20T00:00:00",
          "title": "hddtools: Hydrological Data Discovery Tools"
         },
         {
          "DOI": "10.21105/joss.02520",
          "is-referenced-by-count": 3,
          "published.date-parts": "2020-08-26T00:00:00",
          "title": "Gridap: An extensible Finite Element toolbox in Julia"
         },
         {
          "DOI": "10.21105/joss.01554",
          "is-referenced-by-count": 3,
          "published.date-parts": "2019-10-21T00:00:00",
          "title": "Blimpy: Breakthrough Listen I/O Methods for Python"
         },
         {
          "DOI": "10.21105/joss.00797",
          "is-referenced-by-count": 3,
          "published.date-parts": "2018-08-07T00:00:00",
          "title": "effmass: An effective mass package"
         },
         {
          "DOI": "10.21105/astro.1903.04957",
          "is-referenced-by-count": 3,
          "published.date-parts": "2019-12-09T00:00:00",
          "title": "Sheer shear: weak lensing with one mode"
         },
         {
          "DOI": "10.21105/joss.00516",
          "is-referenced-by-count": 3,
          "published.date-parts": "2018-02-04T00:00:00",
          "title": "Pymagicc: A Python wrapper for the simple climate model MAGICC"
         },
         {
          "DOI": "10.21105/joss.00964",
          "is-referenced-by-count": 3,
          "published.date-parts": "2018-10-08T00:00:00",
          "title": "eSCAPE: parallel global-scale landscape evolution model"
         },
         {
          "DOI": "10.21105/joss.00350",
          "is-referenced-by-count": 3,
          "published.date-parts": "2017-10-15T00:00:00",
          "title": "UglyMol: a WebGL macromolecular viewer focused on the electron density"
         },
         {
          "DOI": "10.21105/jose.00013",
          "is-referenced-by-count": 3,
          "published.date-parts": "2018-08-30T00:00:00",
          "title": "The Riffomonas Reproducible Research Tutorial Series"
         },
         {
          "DOI": "10.21105/joss.01427",
          "is-referenced-by-count": 3,
          "published.date-parts": "2019-07-09T00:00:00",
          "title": "fmcmc: A friendly MCMC framework"
         },
         {
          "DOI": "10.21105/joss.00055",
          "is-referenced-by-count": 3,
          "published.date-parts": "2016-09-25T00:00:00",
          "title": "RcppCNPy: Read-Write Support for NumPy Files in R"
         },
         {
          "DOI": "10.21105/joss.00787",
          "is-referenced-by-count": 3,
          "published.date-parts": "2018-07-30T00:00:00",
          "title": "rowan: A Python package for working with quaternions"
         },
         {
          "DOI": "10.21105/joss.00365",
          "is-referenced-by-count": 3,
          "published.date-parts": "2017-10-16T00:00:00",
          "title": "gmm_diag and gmm_full: C++ classes for multi-threaded Gaussian mixture models and Expectation-Maximisation"
         },
         {
          "DOI": "10.21105/joss.01911",
          "is-referenced-by-count": 3,
          "published.date-parts": "2020-01-29T00:00:00",
          "title": "cdcam: Cambridge Digital Communications Assessment Model"
         },
         {
          "DOI": "10.21105/joss.00548",
          "is-referenced-by-count": 3,
          "published.date-parts": "2018-02-20T00:00:00",
          "title": "G³M-f a global gradient-based groundwater modelling framwork"
         },
         {
          "DOI": "10.21105/joss.01684",
          "is-referenced-by-count": 3,
          "published.date-parts": "2020-01-14T00:00:00",
          "title": "UPOsHam: A Python package for computing unstable periodic orbits in two-degree-of-freedom Hamiltonian systems"
         },
         {
          "DOI": "10.21105/joss.01732",
          "is-referenced-by-count": 3,
          "published.date-parts": "2019-11-08T00:00:00",
          "title": "Kanapy: A Python package for generating complex synthetic polycrystalline microstructures"
         },
         {
          "DOI": "10.21105/joss.01191",
          "is-referenced-by-count": 3,
          "published.date-parts": "2019-02-16T00:00:00",
          "title": "AxoPy: A Python Library for Implementing Human-Computer Interface Experiments"
         },
         {
          "DOI": "10.21105/joss.00827",
          "is-referenced-by-count": 3,
          "published.date-parts": "2018-08-15T00:00:00",
          "title": "pyPhenology: A python framework for plant phenology modelling"
         },
         {
          "DOI": "10.21105/joss.00854",
          "is-referenced-by-count": 3,
          "published.date-parts": "2018-08-15T00:00:00",
          "title": "aesop: ARC Echelle Spectroscopic Observation Pipeline"
         },
         {
          "DOI": "10.21105/joss.01663",
          "is-referenced-by-count": 3,
          "published.date-parts": "2019-12-18T00:00:00",
          "title": "SleepPy: A python package for sleep analysis from accelerometer data"
         },
         {
          "DOI": "10.21105/joss.01798",
          "is-referenced-by-count": 3,
          "published.date-parts": "2019-11-05T00:00:00",
          "title": "modelStudio: Interactive Studio with Explanations for ML Predictive Models"
         },
         {
          "DOI": "10.21105/joss.01722",
          "is-referenced-by-count": 3,
          "published.date-parts": "2019-10-01T00:00:00",
          "title": "BayesPostEst: An R Package to Generate Postestimation Quantities for Bayesian MCMC Estimation"
         },
         {
          "DOI": "10.21105/joss.03236",
          "is-referenced-by-count": 3,
          "published.date-parts": "2021-05-20T00:00:00",
          "title": "statsExpressions: R Package for Tidy Dataframes and Expressions with Statistical Details"
         },
         {
          "DOI": "10.21105/joss.02535",
          "is-referenced-by-count": 3,
          "published.date-parts": "2020-08-21T00:00:00",
          "title": "TEfits: Nonlinear regression for time-evolving indices"
         },
         {
          "DOI": "10.21105/astro.1708.00605",
          "is-referenced-by-count": 3,
          "published.date-parts": "2018-08-05T00:00:00",
          "title": "Classifying Exoplanets with Gaussian Mixture Model"
         },
         {
          "DOI": "10.21105/joss.00990",
          "is-referenced-by-count": 3,
          "published.date-parts": "2019-04-03T00:00:00",
          "title": "Pyoints: A Python package for point cloud, voxel and raster processing."
         },
         {
          "DOI": "10.21105/joss.02410",
          "is-referenced-by-count": 3,
          "published.date-parts": "2020-10-18T00:00:00",
          "title": "Viime: Visualization and Integration of Metabolomics Experiments"
         },
         {
          "DOI": "10.21105/joss.02063",
          "is-referenced-by-count": 3,
          "published.date-parts": "2020-04-07T00:00:00",
          "title": "A Framework to Quality Control Oceanographic Data"
         },
         {
          "DOI": "10.21105/joss.00222",
          "is-referenced-by-count": 3,
          "published.date-parts": "2017-05-02T00:00:00",
          "title": "filltex: Automatic queries to ADS and INSPIRE databases to fill LaTex bibliography"
         },
         {
          "DOI": "10.21105/joss.00374",
          "is-referenced-by-count": 3,
          "published.date-parts": "2017-09-20T00:00:00",
          "title": "mcMST: A Toolbox for the Multi-Criteria Minimum Spanning Tree Problem"
         },
         {
          "DOI": "10.21105/joss.00692",
          "is-referenced-by-count": 3,
          "published.date-parts": "2018-04-25T00:00:00",
          "title": "GeoStats.jl – High-performance geostatistics in Julia"
         },
         {
          "DOI": "10.21105/joss.00721",
          "is-referenced-by-count": 3,
          "published.date-parts": "2018-05-03T00:00:00",
          "title": "Suppdata: Downloading Supplementary Data from Published Manuscripts"
         },
         {
          "DOI": "10.21105/joss.00899",
          "is-referenced-by-count": 3,
          "published.date-parts": "2018-12-04T00:00:00",
          "title": "proEQUIB: IDL Library for Plasma Diagnostics and Abundance Analysis"
         },
         {
          "DOI": "10.21105/joss.00426",
          "is-referenced-by-count": 3,
          "published.date-parts": "2017-10-16T00:00:00",
          "title": "Singularity Registry: Open Source Registry for Singularity Images"
         },
         {
          "DOI": "10.21105/joss.00306",
          "is-referenced-by-count": 3,
          "published.date-parts": "2017-11-30T00:00:00",
          "title": "PyGBe-LSPR: Python and GPU Boundary-integral solver for electrostatics"
         },
         {
          "DOI": "10.21105/joss.01511",
          "is-referenced-by-count": 3,
          "published.date-parts": "2019-09-15T00:00:00",
          "title": "swisslandstats-geopy: Python tools for the land statistics datasets from the Swiss Federal Statistical Office"
         },
         {
          "DOI": "10.21105/joss.01651",
          "is-referenced-by-count": 3,
          "published.date-parts": "2019-09-02T00:00:00",
          "title": "deepCR: Cosmic Ray Rejection with Deep Learning"
         },
         {
          "DOI": "10.21105/joss.01468",
          "is-referenced-by-count": 3,
          "published.date-parts": "2019-09-09T00:00:00",
          "title": "WRF-CMake: integrating CMake support into the Advanced Research WRF (ARW) modelling system"
         },
         {
          "DOI": "10.21105/joss.00980",
          "is-referenced-by-count": 3,
          "published.date-parts": "2019-07-11T00:00:00",
          "title": "hoggorm: a python library for explorative multivariate statistics"
         },
         {
          "DOI": "10.21105/joss.02817",
          "is-referenced-by-count": 3,
          "published.date-parts": "2021-01-08T00:00:00",
          "title": "EUKulele: Taxonomic annotation of the unsung eukaryotic microbes"
         },
         {
          "DOI": "10.21105/astro.2008.08404",
          "is-referenced-by-count": 3,
          "published.date-parts": "2020-12-09T00:00:00",
          "title": "Full-sky photon simulation of clusters and active galactic nuclei in the soft X-rays for eROSITA"
         },
         {
          "DOI": "10.21105/joss.01172",
          "is-referenced-by-count": 3,
          "published.date-parts": "2019-04-15T00:00:00",
          "title": "Instrbuilder: A Python package for electrical instrument control"
         },
         {
          "DOI": "10.21105/joss.00557",
          "is-referenced-by-count": 3,
          "published.date-parts": "2018-02-17T00:00:00",
          "title": "register: Registration for Exponential Family Functional Data"
         },
         {
          "DOI": "10.21105/joss.00407",
          "is-referenced-by-count": 3,
          "published.date-parts": "2017-11-17T00:00:00",
          "title": "ImagingReso: A Tool for Neutron Resonance Imaging"
         },
         {
          "DOI": "10.21105/joss.00411",
          "is-referenced-by-count": 3,
          "published.date-parts": "2017-09-21T00:00:00",
          "title": "bomrang: Fetch Australian Government Bureau of Meteorology Data in R"
         },
         {
          "DOI": "10.21105/joss.02101",
          "is-referenced-by-count": 3,
          "published.date-parts": "2020-05-18T00:00:00",
          "title": "LATTE: Lightcurve Analysis Tool for Transiting Exoplanets"
         },
         {
          "DOI": "10.21105/joss.00430",
          "is-referenced-by-count": 3,
          "published.date-parts": "2018-03-29T00:00:00",
          "title": "micompm: A MATLAB/Octave toolbox for multivariate independent comparison of observations"
         },
         {
          "DOI": "10.21105/joss.01210",
          "is-referenced-by-count": 3,
          "published.date-parts": "2019-02-20T00:00:00",
          "title": "surfinpy: A Surface Phase Diagram Generator"
         },
         {
          "DOI": "10.21105/joss.01706",
          "is-referenced-by-count": 3,
          "published.date-parts": "2019-10-18T00:00:00",
          "title": "BotSlayer: real-time detection of bot amplification on Twitter"
         },
         {
          "DOI": "10.21105/joss.02232",
          "is-referenced-by-count": 3,
          "published.date-parts": "2020-06-22T00:00:00",
          "title": "policytree: Policy learning via doubly robust empirical welfare maximization over trees"
         },
         {
          "DOI": "10.21105/astro.1904.11448",
          "is-referenced-by-count": 3,
          "published.date-parts": "2019-11-19T00:00:00",
          "title": "Assessing non-linear models for galaxy clustering I: unbiased growth\n                        forecasts from multipole expansion"
         },
         {
          "DOI": "10.21105/joss.01891",
          "is-referenced-by-count": 3,
          "published.date-parts": "2019-11-21T00:00:00",
          "title": "Hypothesis: A new approach to property-based testing"
         },
         {
          "DOI": "10.21105/joss.00087",
          "is-referenced-by-count": 3,
          "published.date-parts": "2016-10-30T00:00:00",
          "title": "Correlation Trait Loci (CTL) mapping: phenotype network inference subject to genotype"
         },
         {
          "DOI": "10.21105/joss.00051",
          "is-referenced-by-count": 3,
          "published.date-parts": "2016-08-28T00:00:00",
          "title": "rdefra: Interact with the UK AIR Pollution Database from DEFRA"
         },
         {
          "DOI": "10.21105/joss.01461",
          "is-referenced-by-count": 3,
          "published.date-parts": "2019-09-19T00:00:00",
          "title": "CSaransh : Software Suite to Study Molecular Dynamics Simulations of Collision Cascades"
         },
         {
          "DOI": "10.21105/joss.02829",
          "is-referenced-by-count": 3,
          "published.date-parts": "2021-01-29T00:00:00",
          "title": "Omniscape.jl: Software to compute omnidirectional landscape connectivity"
         },
         {
          "DOI": "10.21105/joss.01097",
          "is-referenced-by-count": 3,
          "published.date-parts": "2019-02-27T00:00:00",
          "title": "OApackage: A Python package for generation and analysis of orthogonal arrays, optimal designs and conference designs"
         },
         {
          "DOI": "10.21105/jose.00037",
          "is-referenced-by-count": 3,
          "published.date-parts": "2019-01-21T00:00:00",
          "title": "Python for Atmosphere and Ocean Scientists"
         },
         {
          "DOI": "10.21105/joss.01168",
          "is-referenced-by-count": 3,
          "published.date-parts": "2019-01-29T00:00:00",
          "title": "KMC\\_Lattice v2.0: An Object-Oriented C\\texttt{++} Library for Custom Kinetic Monte Carlo Simulations"
         },
         {
          "DOI": "10.21105/joss.01167",
          "is-referenced-by-count": 3,
          "published.date-parts": "2019-02-13T00:00:00",
          "title": "HODLRlib: A Library for Hierarchical Matrices"
         },
         {
          "DOI": "10.21105/joss.01506",
          "is-referenced-by-count": 3,
          "published.date-parts": "2019-07-07T00:00:00",
          "title": "OceanSpy: A Python package to facilitate ocean model data analysis and visualization"
         },
         {
          "DOI": "10.21105/joss.01834",
          "is-referenced-by-count": 3,
          "published.date-parts": "2020-02-11T00:00:00",
          "title": "ExoTETHyS: Tools for Exoplanetary Transits around host stars"
         },
         {
          "DOI": "10.21105/joss.03283",
          "is-referenced-by-count": 3,
          "published.date-parts": "2021-06-08T00:00:00",
          "title": "lenstronomy II: A gravitational lensing software ecosystem"
         },
         {
          "DOI": "10.21105/joss.03060",
          "is-referenced-by-count": 3,
          "published.date-parts": "2021-06-15T00:00:00",
          "title": "Kinetic.jl: A portable finite volume toolbox for scientific and neural computing"
         },
         {
          "DOI": "10.21105/joss.02689",
          "is-referenced-by-count": 3,
          "published.date-parts": "2020-12-14T00:00:00",
          "title": "SIAL: A simple image analysis library for wet-lab scientists"
         },
         {
          "DOI": "10.21105/joss.02003",
          "is-referenced-by-count": 3,
          "published.date-parts": "2020-04-23T00:00:00",
          "title": "The MFrontGenericInterfaceSupport project"
         },
         {
          "DOI": "10.21105/joss.02088",
          "is-referenced-by-count": 3,
          "published.date-parts": "2020-05-05T00:00:00",
          "title": "psychTestR: An R package for designing and conducting behavioural psychological experiments"
         },
         {
          "DOI": "10.21105/joss.02121",
          "is-referenced-by-count": 3,
          "published.date-parts": "2020-07-28T00:00:00",
          "title": "Tamaas: a library for elastic-plastic contact of periodic rough surfaces"
         },
         {
          "DOI": "10.21105/joss.02341",
          "is-referenced-by-count": 3,
          "published.date-parts": "2020-09-24T00:00:00",
          "title": "NetworkSedimentTransporter: A Landlab component for bed material transport through river networks"
         },
         {
          "DOI": "10.21105/joss.01799",
          "is-referenced-by-count": 2,
          "published.date-parts": "2019-12-06T00:00:00",
          "title": "PyUoI: The Union of Intersections Framework in Python"
         },
         {
          "DOI": "10.21105/joss.02125",
          "is-referenced-by-count": 2,
          "published.date-parts": "2020-07-10T00:00:00",
          "title": "Maelstrom: A Python package for identifying companions to pulsating stars from their light travel time variations"
         },
         {
          "DOI": "10.21105/joss.01857",
          "is-referenced-by-count": 2,
          "published.date-parts": "2019-11-01T00:00:00",
          "title": "lightr: import spectral data and metadata in R"
         },
         {
          "DOI": "10.21105/joss.00050",
          "is-referenced-by-count": 2,
          "published.date-parts": "2016-12-06T00:00:00",
          "title": "MassMine: Your Access To Data"
         },
         {
          "DOI": "10.21105/joss.00151",
          "is-referenced-by-count": 2,
          "published.date-parts": "2017-05-02T00:00:00",
          "title": "Kactus2: A graphical EDA tool built on the IP-XACT standard"
         },
         {
          "DOI": "10.21105/joss.02844",
          "is-referenced-by-count": 2,
          "published.date-parts": "2021-01-17T00:00:00",
          "title": "c-lasso - a Python package for constrained sparse and robust regression and classification"
         },
         {
          "DOI": "10.21105/joss.02287",
          "is-referenced-by-count": 2,
          "published.date-parts": "2021-01-30T00:00:00",
          "title": "Exonoodle: Synthetic time-series spectra generator for transiting exoplanets"
         },
         {
          "DOI": "10.21105/joss.00436",
          "is-referenced-by-count": 2,
          "published.date-parts": "2018-02-12T00:00:00",
          "title": "Masks2Metrics (M2M): A Matlab Toolbox for Gold Standard Morphometrics"
         },
         {
          "DOI": "10.21105/joss.00698",
          "is-referenced-by-count": 2,
          "published.date-parts": "2018-07-22T00:00:00",
          "title": "A reusable tree-based web-visualization to browse EDAM ontology, and contribute to it."
         },
         {
          "DOI": "10.21105/jose.00034",
          "is-referenced-by-count": 2,
          "published.date-parts": "2019-01-15T00:00:00",
          "title": "Org-Coursepack: A Modular and Reusable Teaching Materials Template in Org-mode"
         },
         {
          "DOI": "10.21105/joss.01341",
          "is-referenced-by-count": 2,
          "published.date-parts": "2019-04-10T00:00:00",
          "title": "Capytaine: a Python-based linear potential flow solver"
         },
         {
          "DOI": "10.21105/joss.00847",
          "is-referenced-by-count": 2,
          "published.date-parts": "2018-09-28T00:00:00",
          "title": "sdmbench: R package for benchmarking species distribution models"
         },
         {
          "DOI": "10.21105/joss.01591",
          "is-referenced-by-count": 2,
          "published.date-parts": "2020-02-12T00:00:00",
          "title": "PyMarket - A simple library for simulating markets in Python"
         },
         {
          "DOI": "10.21105/joss.02328",
          "is-referenced-by-count": 2,
          "published.date-parts": "2020-07-09T00:00:00",
          "title": "CollatriX: A GUI to collate MorphoMetriX outputs"
         },
         {
          "DOI": "10.21105/joss.00596",
          "is-referenced-by-count": 2,
          "published.date-parts": "2018-05-11T00:00:00",
          "title": "Nostril: A nonsense string evaluator written in Python"
         },
         {
          "DOI": "10.21105/astro.1811.05786",
          "is-referenced-by-count": 2,
          "published.date-parts": "2019-02-27T00:00:00",
          "title": "The X-ray Variability of AGN and its Implications for Observations of Galaxy Clusters"
         },
         {
          "DOI": "10.21105/joss.00060",
          "is-referenced-by-count": 2,
          "published.date-parts": "2016-09-23T00:00:00",
          "title": "hebbRNN: A Reward-Modulated Hebbian Learning Rule for Recurrent Neural Networks"
         },
         {
          "DOI": "10.21105/joss.00746",
          "is-referenced-by-count": 2,
          "published.date-parts": "2019-01-22T00:00:00",
          "title": "mbir: Magnitude-Based Inferences"
         },
         {
          "DOI": "10.21105/joss.01708",
          "is-referenced-by-count": 2,
          "published.date-parts": "2020-01-16T00:00:00",
          "title": "Adeft: Acromine-based Disambiguation of Entities from Text with applications to the biomedical literature"
         },
         {
          "DOI": "10.21105/joss.01420",
          "is-referenced-by-count": 2,
          "published.date-parts": "2019-07-11T00:00:00",
          "title": "ECabc: A feature tuning program focused on Artificial Neural Network hyperparameters"
         },
         {
          "DOI": "10.21105/joss.01509",
          "is-referenced-by-count": 2,
          "published.date-parts": "2019-09-04T00:00:00",
          "title": "SmartEDA: An R Package for Automated Exploratory Data Analysis"
         },
         {
          "DOI": "10.21105/joss.01837",
          "is-referenced-by-count": 2,
          "published.date-parts": "2019-12-03T00:00:00",
          "title": "CoralP: Flexible visualization of the human phosphatome"
         },
         {
          "DOI": "10.21105/joss.00718",
          "is-referenced-by-count": 2,
          "published.date-parts": "2018-07-03T00:00:00",
          "title": "BeeNestABM: An open-source agent-based model of spatiotemporal distribution of bumblebees in nests"
         },
         {
          "DOI": "10.21105/joss.01141",
          "is-referenced-by-count": 2,
          "published.date-parts": "2019-01-17T00:00:00",
          "title": "WrightTools: a Python package for multidimensional spectroscopy"
         },
         {
          "DOI": "10.21105/joss.02597",
          "is-referenced-by-count": 2,
          "published.date-parts": "2020-12-24T00:00:00",
          "title": "qgs: A flexible Python framework of reduced-order multiscale climate models"
         },
         {
          "DOI": "10.21105/joss.02430",
          "is-referenced-by-count": 2,
          "published.date-parts": "2020-08-01T00:00:00",
          "title": "swiftsimio: A Python library for reading SWIFT data"
         },
         {
          "DOI": "10.21105/joss.02048",
          "is-referenced-by-count": 2,
          "published.date-parts": "2020-06-08T00:00:00",
          "title": "FASMA 2.0: A Python package for stellar parameters and chemical abundances"
         },
         {
          "DOI": "10.21105/joss.01466",
          "is-referenced-by-count": 2,
          "published.date-parts": "2019-09-29T00:00:00",
          "title": "DynaMo: Dynamic Body Shape and Motion Capture with Intel RealSense Cameras"
         },
         {
          "DOI": "10.21105/joss.02481",
          "is-referenced-by-count": 2,
          "published.date-parts": "2020-10-13T00:00:00",
          "title": "PyMatting: A Python Library for Alpha Matting"
         },
         {
          "DOI": "10.21105/joss.00301",
          "is-referenced-by-count": 2,
          "published.date-parts": "2017-07-21T00:00:00",
          "title": "cuIBM: a GPU-based immersed boundary method code"
         },
         {
          "DOI": "10.21105/joss.00528",
          "is-referenced-by-count": 2,
          "published.date-parts": "2018-02-19T00:00:00",
          "title": "grapherator: A Modular Multi-Step Graph Generator"
         },
         {
          "DOI": "10.21105/joss.02318",
          "is-referenced-by-count": 2,
          "published.date-parts": "2020-06-30T00:00:00",
          "title": "PyStokes: phoresis and Stokesian hydrodynamics in Python"
         },
         {
          "DOI": "10.21105/joss.00425",
          "is-referenced-by-count": 2,
          "published.date-parts": "2018-01-04T00:00:00",
          "title": "BayesianNetwork: Interactive Bayesian Network Modeling and Analysis"
         },
         {
          "DOI": "10.21105/joss.01157",
          "is-referenced-by-count": 2,
          "published.date-parts": "2019-05-03T00:00:00",
          "title": "dlmmc: Dynamical linear model regression for atmospheric time-series analysis"
         },
         {
          "DOI": "10.21105/joss.00782",
          "is-referenced-by-count": 2,
          "published.date-parts": "2018-06-29T00:00:00",
          "title": "py-opc: operate the Alphasense OPC-N2 from a raspberry pi or other popular microcontrollers/microcomputers"
         },
         {
          "DOI": "10.21105/astro.1912.12269",
          "is-referenced-by-count": 2,
          "published.date-parts": "2020-01-07T00:00:00",
          "title": "Calculation of distances in cosmological models with small-scale inhomogeneities and their use in observational cosmology: a review"
         },
         {
          "DOI": "10.21105/joss.01410",
          "is-referenced-by-count": 2,
          "published.date-parts": "2019-06-13T00:00:00",
          "title": "Stripy: A Python module for (constrained) triangulation in Cartesian coordinates and on a sphere."
         },
         {
          "DOI": "10.21105/joss.01387",
          "is-referenced-by-count": 2,
          "published.date-parts": "2019-08-23T00:00:00",
          "title": "coronagraph: Telescope Noise Modeling for Exoplanets in Python"
         },
         {
          "DOI": "10.21105/joss.01545",
          "is-referenced-by-count": 2,
          "published.date-parts": "2019-07-18T00:00:00",
          "title": "SeleDiff: A fast and scalable tool for estimating and testing selection differences between populations"
         },
         {
          "DOI": "10.21105/joss.01675",
          "is-referenced-by-count": 2,
          "published.date-parts": "2019-09-20T00:00:00",
          "title": "pySRURGS - a python package for symbolic regression by uniform random global search"
         },
         {
          "DOI": "10.21105/joss.01771",
          "is-referenced-by-count": 2,
          "published.date-parts": "2020-01-16T00:00:00",
          "title": "AliasFinder: A Python script to search for the true planetary frequency within radial velocity data"
         },
         {
          "DOI": "10.21105/joss.02514",
          "is-referenced-by-count": 2,
          "published.date-parts": "2020-10-30T00:00:00",
          "title": "RK-Opt: A package for the design of numerical ODE solvers"
         },
         {
          "DOI": "10.21105/joss.01882",
          "is-referenced-by-count": 2,
          "published.date-parts": "2020-03-23T00:00:00",
          "title": "splot - visual analytics for spatial statistics"
         },
         {
          "DOI": "10.21105/joss.01345",
          "is-referenced-by-count": 2,
          "published.date-parts": "2019-05-09T00:00:00",
          "title": "UralicNLP: An NLP Library for Uralic Languages"
         },
         {
          "DOI": "10.21105/joss.01593",
          "is-referenced-by-count": 2,
          "published.date-parts": "2019-09-05T00:00:00",
          "title": "ccostr: An R package for estimating mean costs with censored data"
         },
         {
          "DOI": "10.21105/astro.1812.07963",
          "is-referenced-by-count": 2,
          "published.date-parts": "2019-03-13T00:00:00",
          "title": "Astronomical observations: a guide for allied researchers"
         },
         {
          "DOI": "10.21105/joss.01612",
          "is-referenced-by-count": 2,
          "published.date-parts": "2019-09-04T00:00:00",
          "title": "AutoGAMESS: A Python package for automation of GAMESS(US) Raman calculations"
         },
         {
          "DOI": "10.21105/joss.02563",
          "is-referenced-by-count": 2,
          "published.date-parts": "2020-10-27T00:00:00",
          "title": "matador: a Python library for analysing, curating and performing high-throughput density-functional theory calculations"
         },
         {
          "DOI": "10.21105/joss.00828",
          "is-referenced-by-count": 2,
          "published.date-parts": "2018-08-06T00:00:00",
          "title": "The hhi Package: Streamlined Calculation and Visualization of Herfindahl-Hirschman Index Scores"
         },
         {
          "DOI": "10.21105/joss.02527",
          "is-referenced-by-count": 2,
          "published.date-parts": "2020-08-26T00:00:00",
          "title": "Disimpy: A massively parallel Monte Carlo simulator for generating diffusion-weighted MRI data in Python"
         },
         {
          "DOI": "10.21105/joss.03194",
          "is-referenced-by-count": 2,
          "published.date-parts": "2021-05-11T00:00:00",
          "title": "FIRESONG: A python package to simulate populations of extragalactic neutrino sources"
         },
         {
          "DOI": "10.21105/joss.02768",
          "is-referenced-by-count": 2,
          "published.date-parts": "2021-01-20T00:00:00",
          "title": "nap: A molecular dynamics package with parameter-optimization programs for classical and machine-learning potentials"
         },
         {
          "DOI": "10.21105/joss.02818",
          "is-referenced-by-count": 2,
          "published.date-parts": "2021-01-28T00:00:00",
          "title": "Cellocity: A Python package for analysis of confluent cell layer dynamics"
         },
         {
          "DOI": "10.21105/joss.01742",
          "is-referenced-by-count": 2,
          "published.date-parts": "2019-12-06T00:00:00",
          "title": "Bedtoolsr: An R package for genomic data analysis and manipulation"
         },
         {
          "DOI": "10.21105/joss.02158",
          "is-referenced-by-count": 2,
          "published.date-parts": "2020-04-03T00:00:00",
          "title": "py-pde: A Python package for solving partial differential equations"
         },
         {
          "DOI": "10.21105/joss.02153",
          "is-referenced-by-count": 2,
          "published.date-parts": "2021-01-03T00:00:00",
          "title": "EvoMaster: A Search-Based System Test Generation Tool"
         },
         {
          "DOI": "10.21105/joss.01738",
          "is-referenced-by-count": 2,
          "published.date-parts": "2019-09-30T00:00:00",
          "title": "Pybotics: Python Toolbox for Robotics"
         },
         {
          "DOI": "10.21105/joss.00513",
          "is-referenced-by-count": 2,
          "published.date-parts": "2017-12-21T00:00:00",
          "title": "Critical care data processing tools"
         },
         {
          "DOI": "10.21105/joss.01835",
          "is-referenced-by-count": 2,
          "published.date-parts": "2020-06-09T00:00:00",
          "title": "RepnDecomp: A GAP package for decomposing linear representations of finite groups"
         },
         {
          "DOI": "10.21105/joss.03066",
          "is-referenced-by-count": 2,
          "published.date-parts": "2021-05-07T00:00:00",
          "title": "PyPortfolioOpt: portfolio optimization in Python"
         },
         {
          "DOI": "10.21105/joss.02791",
          "is-referenced-by-count": 2,
          "published.date-parts": "2021-02-07T00:00:00",
          "title": "s4rdm3x: A Tool Suite to Explore Code to Architecture Mapping Techniques"
         },
         {
          "DOI": "10.21105/joss.00247",
          "is-referenced-by-count": 2,
          "published.date-parts": "2017-05-26T00:00:00",
          "title": "lattice_mc: A Python Lattice-Gas Monte Carlo Module"
         },
         {
          "DOI": "10.21105/joss.00588",
          "is-referenced-by-count": 2,
          "published.date-parts": "2018-03-18T00:00:00",
          "title": "pynucastro: an interface to nuclear reaction rates and code generator for reaction network equations"
         },
         {
          "DOI": "10.21105/joss.00690",
          "is-referenced-by-count": 2,
          "published.date-parts": "2018-04-21T00:00:00",
          "title": "qualtRics: retrieve survey data using the Qualtrics API"
         },
         {
          "DOI": "10.21105/joss.01228",
          "is-referenced-by-count": 2,
          "published.date-parts": "2019-02-28T00:00:00",
          "title": "Bedparse: feature extraction from BED files"
         },
         {
          "DOI": "10.21105/joss.01576",
          "is-referenced-by-count": 2,
          "published.date-parts": "2019-07-30T00:00:00",
          "title": "MemCNN: A Python/PyTorch package for creating memory-efficient invertible neural networks"
         },
         {
          "DOI": "10.21105/joss.01279",
          "is-referenced-by-count": 2,
          "published.date-parts": "2019-05-31T00:00:00",
          "title": "tsfeaturex: An R Package for Automating Time Series Feature Extraction"
         },
         {
          "DOI": "10.21105/joss.02562",
          "is-referenced-by-count": 2,
          "published.date-parts": "2021-01-19T00:00:00",
          "title": "biorbd: A C++, Python and MATLAB library to analyze and simulate the human body biomechanics"
         },
         {
          "DOI": "10.21105/jose.00019",
          "is-referenced-by-count": 2,
          "published.date-parts": "2018-07-16T00:00:00",
          "title": "pylj: A teaching tool for classical atomistic simulation"
         },
         {
          "DOI": "10.21105/joss.01661",
          "is-referenced-by-count": 2,
          "published.date-parts": "2019-09-25T00:00:00",
          "title": "virtualNicheR: generating virtual fundamental and realised niches for use in virtual ecology experiments"
         },
         {
          "DOI": "10.21105/joss.00904",
          "is-referenced-by-count": 2,
          "published.date-parts": "2018-10-10T00:00:00",
          "title": "Nashpy: A Python library for the computation of Nash equilibria"
         },
         {
          "DOI": "10.21105/joss.01990",
          "is-referenced-by-count": 2,
          "published.date-parts": "2020-02-03T00:00:00",
          "title": "NCBImeta: efficient and comprehensive metadata retrieval from NCBI databases"
         },
         {
          "DOI": "10.21105/joss.02866",
          "is-referenced-by-count": 2,
          "published.date-parts": "2021-01-26T00:00:00",
          "title": "3dfier: automatic reconstruction of 3D city models"
         },
         {
          "DOI": "10.21105/jose.00049",
          "is-referenced-by-count": 2,
          "published.date-parts": "2019-06-06T00:00:00",
          "title": "A graduate student-led participatory live-coding quantitative methods course in R: Experiences on initiating, developing, and teaching"
         },
         {
          "DOI": "10.21105/joss.02604",
          "is-referenced-by-count": 2,
          "published.date-parts": "2021-02-23T00:00:00",
          "title": "OpenDrop: Open-source software for pendant drop tensiometry  contact angle measurements"
         },
         {
          "DOI": "10.21105/joss.01610",
          "is-referenced-by-count": 2,
          "published.date-parts": "2019-08-20T00:00:00",
          "title": "AltamISA: a Python API for ISA-Tab files"
         },
         {
          "DOI": "10.21105/joss.00044",
          "is-referenced-by-count": 2,
          "published.date-parts": "2016-12-14T00:00:00",
          "title": "Elektra: universal framework to access configuration parameters"
         },
         {
          "DOI": "10.21105/joss.01393",
          "is-referenced-by-count": 2,
          "published.date-parts": "2019-06-11T00:00:00",
          "title": "stingray: A modern Python library for spectral timing"
         },
         {
          "DOI": "10.21105/joss.02664",
          "is-referenced-by-count": 2,
          "published.date-parts": "2020-10-17T00:00:00",
          "title": "DARE Platform: a Developer-Friendly and Self-Optimising Workflows-as-a-Service Framework for e-Science on the Cloud"
         },
         {
          "DOI": "10.21105/joss.02259",
          "is-referenced-by-count": 2,
          "published.date-parts": "2020-07-09T00:00:00",
          "title": "BluVision Macro - a software for automated powdery mildew and rust disease quantification on detached leaves."
         },
         {
          "DOI": "10.21105/joss.01340",
          "is-referenced-by-count": 2,
          "published.date-parts": "2019-04-02T00:00:00",
          "title": "mpi4py-fft: Parallel Fast Fourier Transforms with MPI for Python"
         },
         {
          "DOI": "10.21105/joss.00267",
          "is-referenced-by-count": 2,
          "published.date-parts": "2017-08-02T00:00:00",
          "title": "Helper for Bézier Curves, Triangles, and Higher Order Objects"
         },
         {
          "DOI": "10.21105/joss.00142",
          "is-referenced-by-count": 2,
          "published.date-parts": "2017-01-28T00:00:00",
          "title": "shmlast: An improved implementation of Conditional Reciprocal Best Hits with LAST and Python"
         },
         {
          "DOI": "10.21105/joss.00657",
          "is-referenced-by-count": 2,
          "published.date-parts": "2018-04-19T00:00:00",
          "title": "autoplotly: An R package for automatic generation of interactive visualizations for statistical results"
         },
         {
          "DOI": "10.21105/joss.00497",
          "is-referenced-by-count": 2,
          "published.date-parts": "2018-01-19T00:00:00",
          "title": "Visualizing genome synteny with xmatchview"
         },
         {
          "DOI": "10.21105/joss.01008",
          "is-referenced-by-count": 2,
          "published.date-parts": "2018-11-04T00:00:00",
          "title": "Visualizing alpha-helical peptides in R with helixvis"
         },
         {
          "DOI": "10.21105/joss.00985",
          "is-referenced-by-count": 2,
          "published.date-parts": "2018-10-03T00:00:00",
          "title": "perfectns: perfect dynamic and standard nested sampling for spherically symmetric likelihoods and priors"
         },
         {
          "DOI": "10.21105/joss.00785",
          "is-referenced-by-count": 2,
          "published.date-parts": "2019-05-29T00:00:00",
          "title": "shinyssd v1.0: Species Sensitivity Distributions for Ecotoxicological Risk Assessment"
         },
         {
          "DOI": "10.21105/joss.02007",
          "is-referenced-by-count": 2,
          "published.date-parts": "2020-02-21T00:00:00",
          "title": "EspressoDB: A scientific database for managing high-performance computing workflows"
         },
         {
          "DOI": "10.21105/joss.00165",
          "is-referenced-by-count": 2,
          "published.date-parts": "2018-02-23T00:00:00",
          "title": "ODES: a high level interface to ODE and DAE solvers"
         },
         {
          "DOI": "10.21105/joss.01043",
          "is-referenced-by-count": 2,
          "published.date-parts": "2019-04-07T00:00:00",
          "title": "TaylorSeries.jl: Taylor expansions in one and several variables in Julia"
         },
         {
          "DOI": "10.21105/joss.00898",
          "is-referenced-by-count": 2,
          "published.date-parts": "2019-03-06T00:00:00",
          "title": "AtomNeb: IDL Library for Atomic Data of Ionized Nebulae"
         },
         {
          "DOI": "10.21105/joss.02377",
          "is-referenced-by-count": 2,
          "published.date-parts": "2020-09-04T00:00:00",
          "title": "Automated Sleep Stage Scoring Using k-Nearest Neighbors Classifier"
         },
         {
          "DOI": "10.21105/joss.01256",
          "is-referenced-by-count": 2,
          "published.date-parts": "2019-09-08T00:00:00",
          "title": "TextWiller: Collection of functions for text mining, specially devoted to the Italian language"
         },
         {
          "DOI": "10.21105/joss.02289",
          "is-referenced-by-count": 2,
          "published.date-parts": "2020-06-17T00:00:00",
          "title": "Easy SimAuto (ESA): A Python Package that Simplifies Interacting with PowerWorld Simulator"
         },
         {
          "DOI": "10.21105/joss.02706",
          "is-referenced-by-count": 2,
          "published.date-parts": "2020-12-04T00:00:00",
          "title": "c212: An R Package for the Detection of Safety Signals in Clinical Trials Using Body-Systems (System Organ Classes)"
         },
         {
          "DOI": "10.21105/joss.01351",
          "is-referenced-by-count": 2,
          "published.date-parts": "2019-06-24T00:00:00",
          "title": "treex: a Python package for manipulating rooted trees"
         },
         {
          "DOI": "10.21105/joss.01053",
          "is-referenced-by-count": 2,
          "published.date-parts": "2019-05-08T00:00:00",
          "title": "Eniric: Extended NIR Information Content"
         },
         {
          "DOI": "10.21105/joss.01119",
          "is-referenced-by-count": 2,
          "published.date-parts": "2019-06-17T00:00:00",
          "title": "QComms QKD Software Toolkit"
         },
         {
          "DOI": "10.21105/joss.03000",
          "is-referenced-by-count": 2,
          "published.date-parts": "2021-04-06T00:00:00",
          "title": "PyFstat: a Python package for continuous gravitational-wave data analysis"
         },
         {
          "DOI": "10.21105/joss.00075",
          "is-referenced-by-count": 2,
          "published.date-parts": "2016-09-20T00:00:00",
          "title": "ezknitr: Avoid the Typical Working Directory Pain When Using 'knitr'"
         },
         {
          "DOI": "10.21105/joss.00172",
          "is-referenced-by-count": 2,
          "published.date-parts": "2017-02-04T00:00:00",
          "title": "nse: Computation of Numerical Standard Errors in R"
         },
         {
          "DOI": "10.21105/joss.00584",
          "is-referenced-by-count": 2,
          "published.date-parts": "2018-03-12T00:00:00",
          "title": "The vtreat R package: a statistically sound data processor for predictive modeling"
         },
         {
          "DOI": "10.21105/joss.00633",
          "is-referenced-by-count": 2,
          "published.date-parts": "2018-03-16T00:00:00",
          "title": "ijtiff: An R package providing TIFF I/O for ImageJ users"
         },
         {
          "DOI": "10.21105/joss.01065",
          "is-referenced-by-count": 2,
          "published.date-parts": "2019-03-20T00:00:00",
          "title": "morphMan: Automated manipulation of vascular geometries"
         },
         {
          "DOI": "10.21105/joss.01115",
          "is-referenced-by-count": 2,
          "published.date-parts": "2018-12-17T00:00:00",
          "title": "Hickle: A HDF5-based python pickle replacement"
         },
         {
          "DOI": "10.21105/joss.00981",
          "is-referenced-by-count": 2,
          "published.date-parts": "2018-12-02T00:00:00",
          "title": "Opycleid: A Python package for transformational music theory"
         },
         {
          "DOI": "10.21105/joss.01087",
          "is-referenced-by-count": 2,
          "published.date-parts": "2019-06-12T00:00:00",
          "title": "ReinforcementLearning: A Package to Perform Model-Free Reinforcement Learning in R"
         },
         {
          "DOI": "10.21105/joss.01331",
          "is-referenced-by-count": 2,
          "published.date-parts": "2019-06-10T00:00:00",
          "title": "MPIFiles.jl: A Julia Package for Magnetic Particle Imaging Files"
         },
         {
          "DOI": "10.21105/joss.01072",
          "is-referenced-by-count": 2,
          "published.date-parts": "2018-11-30T00:00:00",
          "title": "Ising\\_OPV v4.0: Experimental Tomography Data Import, Interpretation, and Analysis"
         },
         {
          "DOI": "10.21105/joss.00289",
          "is-referenced-by-count": 2,
          "published.date-parts": "2017-08-11T00:00:00",
          "title": "Launcher: A simple tool for executing high throughput computing workloads"
         },
         {
          "DOI": "10.21105/astro.1904.05348",
          "is-referenced-by-count": 2,
          "published.date-parts": "2019-09-23T00:00:00",
          "title": "The search for statistical anisotropy in the gravitational-wave background with pulsar timing arrays"
         },
         {
          "DOI": "10.21105/joss.01451",
          "is-referenced-by-count": 2,
          "published.date-parts": "2019-06-30T00:00:00",
          "title": "PVGeo: an open-source Python package for geoscientific visualization in VTK and ParaView"
         },
         {
          "DOI": "10.21105/joss.01763",
          "is-referenced-by-count": 2,
          "published.date-parts": "2019-10-09T00:00:00",
          "title": "Ryacas: A computer algebra system in R"
         },
         {
          "DOI": "10.21105/joss.00814",
          "is-referenced-by-count": 2,
          "published.date-parts": "2018-08-10T00:00:00",
          "title": "sigmajs: An R htmlwidget interface to the sigma.js visualization library"
         },
         {
          "DOI": "10.21105/joss.02916",
          "is-referenced-by-count": 2,
          "published.date-parts": "2020-12-18T00:00:00",
          "title": "coder: An R package for code-based item classification and categorization"
         },
         {
          "DOI": "10.21105/joss.01239",
          "is-referenced-by-count": 2,
          "published.date-parts": "2019-03-27T00:00:00",
          "title": "Ocellaris: a DG FEM solver for free-surface flows"
         },
         {
          "DOI": "10.21105/joss.00955",
          "is-referenced-by-count": 2,
          "published.date-parts": "2018-11-07T00:00:00",
          "title": "alv: a console-based viewer for molecular sequence alignments"
         },
         {
          "DOI": "10.21105/joss.00331",
          "is-referenced-by-count": 2,
          "published.date-parts": "2017-09-20T00:00:00",
          "title": "Pyrgg: Python Random Graph Generator"
         },
         {
          "DOI": "10.21105/joss.00855",
          "is-referenced-by-count": 2,
          "published.date-parts": "2018-12-02T00:00:00",
          "title": "pfla: A Python Package for Dental Facial Analysis using Computer Vision and Statistical Shape Analysis"
         },
         {
          "DOI": "10.21105/joss.02879",
          "is-referenced-by-count": 2,
          "published.date-parts": "2021-03-19T00:00:00",
          "title": "Bempp-cl: A fast Python based just-in-time compiling boundary element library."
         },
         {
          "DOI": "10.21105/joss.01818",
          "is-referenced-by-count": 2,
          "published.date-parts": "2019-12-02T00:00:00",
          "title": "Telewavesim: Python software for teleseismic body wave modeling"
         },
         {
          "DOI": "10.21105/joss.01286",
          "is-referenced-by-count": 2,
          "published.date-parts": "2019-04-03T00:00:00",
          "title": "iced: fast and memory efficient normalization of contact maps"
         },
         {
          "DOI": "10.21105/joss.01629",
          "is-referenced-by-count": 2,
          "published.date-parts": "2019-08-27T00:00:00",
          "title": "G3F: Global, Multidimensional Spectral Regression Analysis"
         },
         {
          "DOI": "10.21105/joss.02801",
          "is-referenced-by-count": 2,
          "published.date-parts": "2020-11-16T00:00:00",
          "title": "aiapy: A Python Package for Analyzing Solar EUV Image Data from AIA"
         },
         {
          "DOI": "10.21105/joss.01042",
          "is-referenced-by-count": 2,
          "published.date-parts": "2019-01-01T00:00:00",
          "title": "STEDY: Software for TEnsegrity DYnamics"
         },
         {
          "DOI": "10.21105/joss.00897",
          "is-referenced-by-count": 2,
          "published.date-parts": "2018-10-09T00:00:00",
          "title": "mrivis: Medical image visualization library for neuroscience in python"
         },
         {
          "DOI": "10.21105/joss.02526",
          "is-referenced-by-count": 2,
          "published.date-parts": "2020-09-26T00:00:00",
          "title": "hal9001: Scalable highly adaptive lasso regression in R"
         },
         {
          "DOI": "10.21105/joss.01173",
          "is-referenced-by-count": 2,
          "published.date-parts": "2019-08-15T00:00:00",
          "title": "NodeLab: A MATLAB package for meshfree node-generation and adaptive refinement"
         },
         {
          "DOI": "10.21105/joss.02447",
          "is-referenced-by-count": 2,
          "published.date-parts": "2020-10-07T00:00:00",
          "title": "txshift: Efficient estimation of the causal effects of stochastic interventions in R"
         },
         {
          "DOI": "10.21105/joss.00803",
          "is-referenced-by-count": 2,
          "published.date-parts": "2018-08-04T00:00:00",
          "title": "ukpopulation: unified national and subnational population estimates and projections, including variants"
         },
         {
          "DOI": "10.21105/joss.02028",
          "is-referenced-by-count": 2,
          "published.date-parts": "2020-01-22T00:00:00",
          "title": "refsplitr: Author name disambiguation, author georeferencing, and mapping of coauthorship networks with Web of Science data"
         },
         {
          "DOI": "10.21105/joss.03201",
          "is-referenced-by-count": 2,
          "published.date-parts": "2021-07-10T00:00:00",
          "title": "microViz: an R package for microbiome data visualization and statistics"
         },
         {
          "DOI": "10.21105/joss.00607",
          "is-referenced-by-count": 2,
          "published.date-parts": "2018-04-25T00:00:00",
          "title": "eixport: An R package to export emissions to atmospheric models"
         },
         {
          "DOI": "10.21105/joss.00454",
          "is-referenced-by-count": 2,
          "published.date-parts": "2017-11-13T00:00:00",
          "title": "Generating CodeMeta Metadata for R Packages"
         },
         {
          "DOI": "10.21105/joss.03290",
          "is-referenced-by-count": 2,
          "published.date-parts": "2021-07-05T00:00:00",
          "title": "covidregionaldata: Subnational data for COVID-19 epidemiology"
         },
         {
          "DOI": "10.21105/joss.00111",
          "is-referenced-by-count": 2,
          "published.date-parts": "2016-12-14T00:00:00",
          "title": "SurvivalVolume: interactive volume threshold survival graphs"
         },
         {
          "DOI": "10.21105/joss.00080",
          "is-referenced-by-count": 2,
          "published.date-parts": "2016-10-06T00:00:00",
          "title": "GFF3toEMBL: Preparing annotated assemblies for submission to EMBL"
         },
         {
          "DOI": "10.21105/astro.1602.02113",
          "is-referenced-by-count": 2,
          "published.date-parts": "2016-06-29T00:00:00",
          "title": "w=−1 as an Attractor"
         },
         {
          "DOI": "10.21105/joss.00480",
          "is-referenced-by-count": 2,
          "published.date-parts": "2018-02-14T00:00:00",
          "title": "Phonetic Algorithms in R"
         },
         {
          "DOI": "10.21105/joss.00542",
          "is-referenced-by-count": 2,
          "published.date-parts": "2018-01-30T00:00:00",
          "title": "IDESolver: a general purpose integro-differential equation solver"
         },
         {
          "DOI": "10.21105/joss.00845",
          "is-referenced-by-count": 2,
          "published.date-parts": "2018-10-27T00:00:00",
          "title": "PyNomaly: Anomaly detection using Local Outlier Probabilities (LoOP)."
         },
         {
          "DOI": "10.21105/joss.02172",
          "is-referenced-by-count": 2,
          "published.date-parts": "2020-06-25T00:00:00",
          "title": "DetecTree: Tree detection from aerial imagery in Python"
         },
         {
          "DOI": "10.21105/joss.01385",
          "is-referenced-by-count": 2,
          "published.date-parts": "2019-07-02T00:00:00",
          "title": "RAFF.jl: Robust Algebraic Fitting Function in Julia"
         },
         {
          "DOI": "10.21105/joss.02030",
          "is-referenced-by-count": 2,
          "published.date-parts": "2020-02-06T00:00:00",
          "title": "FGTpartitioner: A rapid method for parsimonious delimitation of ancestry breakpoints in large genome-wide SNP datasets"
         },
         {
          "DOI": "10.21105/joss.00791",
          "is-referenced-by-count": 2,
          "published.date-parts": "2019-08-19T00:00:00",
          "title": "stacomiR : a common tool for monitoring fish migration"
         },
         {
          "DOI": "10.21105/joss.02214",
          "is-referenced-by-count": 2,
          "published.date-parts": "2020-06-05T00:00:00",
          "title": "uravu: Making Bayesian modelling easy(er)"
         },
         {
          "DOI": "10.21105/joss.01940",
          "is-referenced-by-count": 2,
          "published.date-parts": "2019-12-24T00:00:00",
          "title": "whampy: Python Package to Interact with, Visualize, and Analyze the Wisconsin H-Alpha Mapper - Sky Survey"
         },
         {
          "DOI": "10.21105/astro.2003.05757",
          "is-referenced-by-count": 2,
          "published.date-parts": "2020-06-23T00:00:00",
          "title": "A Bayesian Approach to the Vertical Structure of the Disk of the Milky Way"
         },
         {
          "DOI": "10.21105/joss.01918",
          "is-referenced-by-count": 2,
          "published.date-parts": "2020-04-15T00:00:00",
          "title": "PyCHAM: CHemistry with Aerosol Microphysics in Python"
         },
         {
          "DOI": "10.21105/joss.00566",
          "is-referenced-by-count": 2,
          "published.date-parts": "2018-08-05T00:00:00",
          "title": "PolaronMobility.jl: Implementation of the Feynman variational polaron model"
         },
         {
          "DOI": "10.21105/joss.01631",
          "is-referenced-by-count": 2,
          "published.date-parts": "2019-10-23T00:00:00",
          "title": "openEyeTrack - A high speed multi-threaded eye tracker for head-fixed applications"
         },
         {
          "DOI": "10.21105/joss.02011",
          "is-referenced-by-count": 2,
          "published.date-parts": "2020-01-26T00:00:00",
          "title": "CaPS: Casimir Effect in the Plane-Sphere Geometry"
         },
         {
          "DOI": "10.21105/joss.00362",
          "is-referenced-by-count": 2,
          "published.date-parts": "2017-12-07T00:00:00",
          "title": "dms2dfe: Comprehensive Workflow for Analysis of Deep Mutational Scanning Data"
         },
         {
          "DOI": "10.21105/joss.02072",
          "is-referenced-by-count": 2,
          "published.date-parts": "2020-03-31T00:00:00",
          "title": "PyEscape: A narrow escape problem simulator package for Python"
         },
         {
          "DOI": "10.21105/joss.03525",
          "is-referenced-by-count": 2,
          "published.date-parts": "2021-09-10T00:00:00",
          "title": "SIMSOPT: A flexible framework for stellarator optimization"
         },
         {
          "DOI": "10.21105/joss.02969",
          "is-referenced-by-count": 1,
          "published.date-parts": "2021-04-16T00:00:00",
          "title": "Visualization of Multi-Dimensional Data -- The data-slicer Package"
         },
         {
          "DOI": "10.21105/joss.00242",
          "is-referenced-by-count": 1,
          "published.date-parts": "2017-06-07T00:00:00",
          "title": "SHGYield"
         },
         {
          "DOI": "10.21105/joss.00029",
          "is-referenced-by-count": 1,
          "published.date-parts": "2016-06-19T00:00:00",
          "title": "Git-RDM: A research data management plugin for the Git version control system"
         },
         {
          "DOI": "10.21105/joss.03122",
          "is-referenced-by-count": 1,
          "published.date-parts": "2021-05-18T00:00:00",
          "title": "FielDHub: A Shiny App for Design of Experiments in Life Sciences"
         },
         {
          "DOI": "10.21105/joss.00865",
          "is-referenced-by-count": 1,
          "published.date-parts": "2018-12-12T00:00:00",
          "title": "The Glasgow Fortran Source-to-Source Compiler"
         },
         {
          "DOI": "10.21105/joss.00102",
          "is-referenced-by-count": 1,
          "published.date-parts": "2017-05-02T00:00:00",
          "title": "acronym: An Automatic Reduction Pipeline for Astronomical Images"
         },
         {
          "DOI": "10.21105/joss.02629",
          "is-referenced-by-count": 1,
          "published.date-parts": "2020-11-25T00:00:00",
          "title": "EMBERS: Experimental Measurement of BEam Responses with Satellites"
         },
         {
          "DOI": "10.21105/joss.02621",
          "is-referenced-by-count": 1,
          "published.date-parts": "2020-10-27T00:00:00",
          "title": "biopeaks: a graphical user interface for feature extraction from heart- and breathing biosignals"
         },
         {
          "DOI": "10.21105/joss.02449",
          "is-referenced-by-count": 1,
          "published.date-parts": "2020-08-21T00:00:00",
          "title": "Sit2StandPy: An Open-Source Python Package for Detecting and Quantifying Sit-to-Stand Transitions Using an Accelerometer on the Lower Back"
         },
         {
          "DOI": "10.21105/joss.02536",
          "is-referenced-by-count": 1,
          "published.date-parts": "2020-09-20T00:00:00",
          "title": "PyGRB: A pure Python gamma-ray burst analysis package."
         },
         {
          "DOI": "10.21105/joss.02798",
          "is-referenced-by-count": 1,
          "published.date-parts": "2020-11-24T00:00:00",
          "title": "pyEQUIB Python Package, an addendum to proEQUIB: IDL Library for Plasma Diagnostics and Abundance Analysis"
         },
         {
          "DOI": "10.21105/joss.02425",
          "is-referenced-by-count": 1,
          "published.date-parts": "2020-09-01T00:00:00",
          "title": "argopy: A Python library for Argo ocean data analysis"
         },
         {
          "DOI": "10.21105/joss.02830",
          "is-referenced-by-count": 1,
          "published.date-parts": "2020-12-15T00:00:00",
          "title": "(py)oscode: fast solutions of oscillatory ODEs"
         },
         {
          "DOI": "10.21105/joss.03040",
          "is-referenced-by-count": 1,
          "published.date-parts": "2021-04-10T00:00:00",
          "title": "LibSWIFFT - A fast C/C++ Library for the SWIFFT Secure Homomorphic Hash Function"
         },
         {
          "DOI": "10.21105/joss.02014",
          "is-referenced-by-count": 1,
          "published.date-parts": "2020-05-12T00:00:00",
          "title": "Recan: Python tool for analysis of recombination events in viral genomes"
         },
         {
          "DOI": "10.21105/joss.00382",
          "is-referenced-by-count": 1,
          "published.date-parts": "2017-09-11T00:00:00",
          "title": "Python class defining a machine learning dataset ensuring key-based correspondence and maintaining integrity"
         },
         {
          "DOI": "10.21105/joss.00400",
          "is-referenced-by-count": 1,
          "published.date-parts": "2017-10-31T00:00:00",
          "title": "ResumableFunctions: C# sharp style generators for Julia."
         },
         {
          "DOI": "10.21105/joss.00033",
          "is-referenced-by-count": 1,
          "published.date-parts": "2016-07-28T00:00:00",
          "title": "RSMTool: collection of tools building and evaluating automated scoring models"
         },
         {
          "DOI": "10.21105/joss.00017",
          "is-referenced-by-count": 1,
          "published.date-parts": "2016-05-11T00:00:00",
          "title": "Application Skeleton: Generating Synthetic Applications for Infrastructure Research"
         },
         {
          "DOI": "10.21105/joss.00170",
          "is-referenced-by-count": 1,
          "published.date-parts": "2017-02-04T00:00:00",
          "title": "KraljicMatrix: An R package for implementing the Kraljic Matrix to strategically analyze a firm’s purchasing portfolio"
         },
         {
          "DOI": "10.21105/joss.01036",
          "is-referenced-by-count": 1,
          "published.date-parts": "2018-10-23T00:00:00",
          "title": "dml: Distance Metric Learning in R"
         },
         {
          "DOI": "10.21105/joss.00992",
          "is-referenced-by-count": 1,
          "published.date-parts": "2018-10-09T00:00:00",
          "title": "PyGeoPressure: Geopressure Prediction in Python"
         },
         {
          "DOI": "10.21105/joss.01231",
          "is-referenced-by-count": 1,
          "published.date-parts": "2019-03-20T00:00:00",
          "title": "QMix: A Python package for simulating the quasiparticle tunneling currents in SIS junctions"
         },
         {
          "DOI": "10.21105/joss.01281",
          "is-referenced-by-count": 1,
          "published.date-parts": "2019-02-27T00:00:00",
          "title": "tacmagic: Positron emission tomography analysis in R"
         },
         {
          "DOI": "10.21105/joss.01483",
          "is-referenced-by-count": 1,
          "published.date-parts": "2019-05-31T00:00:00",
          "title": "citesdb: An R package to support analysis of CITES Trade Database shipment-level data"
         },
         {
          "DOI": "10.21105/joss.01330",
          "is-referenced-by-count": 1,
          "published.date-parts": "2019-06-03T00:00:00",
          "title": "Python Sorted Containers"
         },
         {
          "DOI": "10.21105/joss.01444",
          "is-referenced-by-count": 1,
          "published.date-parts": "2019-06-27T00:00:00",
          "title": "modelDown: automated website generator with interpretable documentation for predictive machine learning models"
         },
         {
          "DOI": "10.21105/joss.02181",
          "is-referenced-by-count": 1,
          "published.date-parts": "2020-07-16T00:00:00",
          "title": "ldaPrototype: A method in R to get a Prototype of multiple Latent Dirichlet Allocations"
         },
         {
          "DOI": "10.21105/joss.03257",
          "is-referenced-by-count": 1,
          "published.date-parts": "2021-07-17T00:00:00",
          "title": "popsynth: A generic astrophysical population synthesis framework"
         },
         {
          "DOI": "10.21105/jose.00075",
          "is-referenced-by-count": 1,
          "published.date-parts": "2020-04-04T00:00:00",
          "title": "EduCortex: browser-based 3D brain visualization of fMRI meta-analysis maps"
         },
         {
          "DOI": "10.21105/joss.02614",
          "is-referenced-by-count": 1,
          "published.date-parts": "2020-10-19T00:00:00",
          "title": "Ripserer.jl: flexible and efficient persistent homology computation in Julia"
         },
         {
          "DOI": "10.21105/joss.01978",
          "is-referenced-by-count": 1,
          "published.date-parts": "2020-04-21T00:00:00",
          "title": "Museo ToolBox: A Python library for remote sensing including a new way to handle rasters."
         },
         {
          "DOI": "10.21105/joss.01994",
          "is-referenced-by-count": 1,
          "published.date-parts": "2020-02-04T00:00:00",
          "title": "ReferenceSeeker: rapid determination of appropriate reference genomes"
         },
         {
          "DOI": "10.21105/joss.02891",
          "is-referenced-by-count": 1,
          "published.date-parts": "2021-02-24T00:00:00",
          "title": "Learning Simulator: A simulation software for animal and human learning"
         },
         {
          "DOI": "10.21105/joss.01326",
          "is-referenced-by-count": 1,
          "published.date-parts": "2020-01-07T00:00:00",
          "title": "Phobos: A tool for creating complex robot models"
         },
         {
          "DOI": "10.21105/joss.03089",
          "is-referenced-by-count": 1,
          "published.date-parts": "2021-03-17T00:00:00",
          "title": "IFermi: A python library for Fermi surface generation and analysis"
         },
         {
          "DOI": "10.21105/joss.02957",
          "is-referenced-by-count": 1,
          "published.date-parts": "2021-03-02T00:00:00",
          "title": "nf-gwas-pipeline: A Nextflow Genome-Wide Association Study Pipeline"
         },
         {
          "DOI": "10.21105/joss.01007",
          "is-referenced-by-count": 1,
          "published.date-parts": "2018-12-11T00:00:00",
          "title": "idpflex: Analysis of Intrinsically Disordered Proteins by Comparing Simulations to Small Angle Scattering Experiments"
         },
         {
          "DOI": "10.21105/joss.02809",
          "is-referenced-by-count": 1,
          "published.date-parts": "2021-03-31T00:00:00",
          "title": "dymos: A Python package for optimal control of multidisciplinary systems"
         },
         {
          "DOI": "10.21105/joss.03172",
          "is-referenced-by-count": 1,
          "published.date-parts": "2021-08-27T00:00:00",
          "title": "Semi-Automatic Classification Plugin: A Python tool for the download and processing of remote sensing images in QGIS"
         },
         {
          "DOI": "10.21105/joss.02439",
          "is-referenced-by-count": 1,
          "published.date-parts": "2020-07-30T00:00:00",
          "title": "htmldate: A Python package to extract publication dates from web pages"
         },
         {
          "DOI": "10.21105/joss.02013",
          "is-referenced-by-count": 1,
          "published.date-parts": "2020-02-10T00:00:00",
          "title": "thresholdmodeling: A Python package for modeling excesses over a threshold using the Peak-Over-Threshold Method and the Generalized Pareto Distribution"
         },
         {
          "DOI": "10.21105/joss.03094",
          "is-referenced-by-count": 1,
          "published.date-parts": "2021-06-09T00:00:00",
          "title": "WhaleMap: a tool to collate and display whale survey results in near real-time"
         },
         {
          "DOI": "10.21105/joss.01970",
          "is-referenced-by-count": 1,
          "published.date-parts": "2020-01-23T00:00:00",
          "title": "MOAFS: A Massive Online Analysis library for feature selection in data streams"
         },
         {
          "DOI": "10.21105/joss.02077",
          "is-referenced-by-count": 1,
          "published.date-parts": "2020-05-28T00:00:00",
          "title": "The pdb2sql Python Package: Parsing, Manipulation and Analysis of PDB Files Using SQL Queries"
         },
         {
          "DOI": "10.21105/joss.01865",
          "is-referenced-by-count": 1,
          "published.date-parts": "2020-06-08T00:00:00",
          "title": "bifacial_radiance: a python package for modeling bifacial solar photovoltaic systems"
         },
         {
          "DOI": "10.21105/joss.02316",
          "is-referenced-by-count": 1,
          "published.date-parts": "2020-08-23T00:00:00",
          "title": "dantro: a Python package for handling, transforming, and visualizing hierarchically structured data"
         },
         {
          "DOI": "10.21105/joss.01716",
          "is-referenced-by-count": 1,
          "published.date-parts": "2020-03-07T00:00:00",
          "title": "Pakman: a modular, efficient and portable tool for approximate Bayesian inference"
         },
         {
          "DOI": "10.21105/joss.01621",
          "is-referenced-by-count": 1,
          "published.date-parts": "2019-08-20T00:00:00",
          "title": "rtdpy: A python package for residence time distributions"
         },
         {
          "DOI": "10.21105/joss.00053",
          "is-referenced-by-count": 1,
          "published.date-parts": "2016-12-14T00:00:00",
          "title": "CAZy-parser a way to extract information from the Carbohydrate-Active enZYmes Database"
         },
         {
          "DOI": "10.21105/joss.00616",
          "is-referenced-by-count": 1,
          "published.date-parts": "2018-04-10T00:00:00",
          "title": "microPIECE - microRNA pipeline enhanced by CLIP experiments"
         },
         {
          "DOI": "10.21105/joss.00859",
          "is-referenced-by-count": 1,
          "published.date-parts": "2018-07-28T00:00:00",
          "title": "nomisr: Access Nomis UK Labour Market Data"
         },
         {
          "DOI": "10.21105/joss.00890",
          "is-referenced-by-count": 1,
          "published.date-parts": "2018-08-24T00:00:00",
          "title": "cottoncandy: scientific python package for easy cloud storage"
         },
         {
          "DOI": "10.21105/joss.01584",
          "is-referenced-by-count": 1,
          "published.date-parts": "2020-11-15T00:00:00",
          "title": "SODAR Core: a Django-based framework for scientific data management and analysis web apps"
         },
         {
          "DOI": "10.21105/joss.00612",
          "is-referenced-by-count": 1,
          "published.date-parts": "2018-04-17T00:00:00",
          "title": "Temporalis: an open source software for dynamic LCA"
         },
         {
          "DOI": "10.21105/joss.00368",
          "is-referenced-by-count": 1,
          "published.date-parts": "2017-09-06T00:00:00",
          "title": "ComPlot: Comparison Plotter to visually evaluate ocean model simulations"
         },
         {
          "DOI": "10.21105/joss.00366",
          "is-referenced-by-count": 1,
          "published.date-parts": "2017-08-27T00:00:00",
          "title": "Django Remote Submission"
         },
         {
          "DOI": "10.21105/joss.01147",
          "is-referenced-by-count": 1,
          "published.date-parts": "2019-04-23T00:00:00",
          "title": "CEGO: C++11 Evolutionary Global Optimization"
         },
         {
          "DOI": "10.21105/joss.01287",
          "is-referenced-by-count": 1,
          "published.date-parts": "2019-03-26T00:00:00",
          "title": "ChiRP: Chinese Restaurant Process Mixtures for Regression and Clustering"
         },
         {
          "DOI": "10.21105/joss.00719",
          "is-referenced-by-count": 1,
          "published.date-parts": "2018-06-01T00:00:00",
          "title": "fib-tf: A TensorFlow-based Cardiac Electrophysiology Simulator"
         },
         {
          "DOI": "10.21105/joss.01926",
          "is-referenced-by-count": 1,
          "published.date-parts": "2019-12-02T00:00:00",
          "title": "OpenTripPlanner for R"
         },
         {
          "DOI": "10.21105/joss.01577",
          "is-referenced-by-count": 1,
          "published.date-parts": "2019-07-31T00:00:00",
          "title": "SG-t-SNE-Π: Swift Neighbor Embedding of Sparse Stochastic Graphs"
         },
         {
          "DOI": "10.21105/joss.01699",
          "is-referenced-by-count": 1,
          "published.date-parts": "2019-10-24T00:00:00",
          "title": "Rescal-snow: Simulating snow dunes with cellular automata"
         },
         {
          "DOI": "10.21105/joss.02892",
          "is-referenced-by-count": 1,
          "published.date-parts": "2021-01-05T00:00:00",
          "title": "LinRegOutliers: A Julia package for detecting outliers in linear regression"
         },
         {
          "DOI": "10.21105/joss.03099",
          "is-referenced-by-count": 1,
          "published.date-parts": "2021-04-13T00:00:00",
          "title": "kuibit: Analyzing Einstein Toolkit simulations with Python"
         },
         {
          "DOI": "10.21105/joss.00251",
          "is-referenced-by-count": 1,
          "published.date-parts": "2017-10-28T00:00:00",
          "title": "Grafoscopio: A moldable tool for literate computing and reproducible research"
         },
         {
          "DOI": "10.21105/joss.01800",
          "is-referenced-by-count": 1,
          "published.date-parts": "2020-01-20T00:00:00",
          "title": "Distant Viewing Toolkit: A Python Package for the Analysis of Visual Culture"
         },
         {
          "DOI": "10.21105/joss.03024",
          "is-referenced-by-count": 1,
          "published.date-parts": "2021-02-24T00:00:00",
          "title": "Groupyr: Sparse Group Lasso in Python"
         },
         {
          "DOI": "10.21105/joss.02116",
          "is-referenced-by-count": 1,
          "published.date-parts": "2020-05-01T00:00:00",
          "title": "mimosa: A Modern Graphical User Interface for 2-level Mixed Models"
         },
         {
          "DOI": "10.21105/joss.02164",
          "is-referenced-by-count": 1,
          "published.date-parts": "2020-04-24T00:00:00",
          "title": "BayesMFSurv: An R Package to Estimate Bayesian Split-Population Survival Models With (and Without) Misclassified Failure Events"
         },
         {
          "DOI": "10.21105/joss.02838",
          "is-referenced-by-count": 1,
          "published.date-parts": "2021-07-20T00:00:00",
          "title": "J2suscep: Calculation of magnetic exchange coupling and temperature dependence of magnetic susceptibility"
         },
         {
          "DOI": "10.21105/joss.02949",
          "is-referenced-by-count": 1,
          "published.date-parts": "2021-05-23T00:00:00",
          "title": "NiaAML: AutoML framework based on stochastic population-based nature-inspired algorithms"
         },
         {
          "DOI": "10.21105/joss.02161",
          "is-referenced-by-count": 1,
          "published.date-parts": "2020-07-09T00:00:00",
          "title": "graphsim: An R package for simulating gene expression data from graph structures of biological pathways"
         },
         {
          "DOI": "10.21105/joss.02854",
          "is-referenced-by-count": 1,
          "published.date-parts": "2021-02-04T00:00:00",
          "title": "deeplenstronomy: A dataset simulation package for strong gravitational lensing"
         },
         {
          "DOI": "10.21105/joss.01833",
          "is-referenced-by-count": 1,
          "published.date-parts": "2020-06-08T00:00:00",
          "title": "archetypal: A Python package for collecting, simulating, converting and analyzing building archetypes"
         },
         {
          "DOI": "10.21105/joss.02594",
          "is-referenced-by-count": 1,
          "published.date-parts": "2020-10-15T00:00:00",
          "title": "textnets: A Python package for text analysis with networks"
         },
         {
          "DOI": "10.21105/joss.00792",
          "is-referenced-by-count": 1,
          "published.date-parts": "2018-09-23T00:00:00",
          "title": "SeqPeelSort: a spike sorting algorithm for single sensillum recordings"
         },
         {
          "DOI": "10.21105/joss.02845",
          "is-referenced-by-count": 1,
          "published.date-parts": "2021-06-30T00:00:00",
          "title": "AltaiPony - Flare science in Kepler, K2 and TESS light curves"
         },
         {
          "DOI": "10.21105/joss.01532",
          "is-referenced-by-count": 1,
          "published.date-parts": "2019-08-23T00:00:00",
          "title": "KinESim: Pre-equilibrium kinetic simulation of electrochemical reactions"
         },
         {
          "DOI": "10.21105/joss.02814",
          "is-referenced-by-count": 1,
          "published.date-parts": "2020-12-02T00:00:00",
          "title": "Thermosteam: BioSTEAM's Premier Thermodynamic Engine"
         },
         {
          "DOI": "10.21105/joss.01291",
          "is-referenced-by-count": 1,
          "published.date-parts": "2019-06-12T00:00:00",
          "title": "HCP: A Matlab package to create beautiful heatmaps with richly annotated covariates"
         },
         {
          "DOI": "10.21105/joss.01912",
          "is-referenced-by-count": 1,
          "published.date-parts": "2020-02-19T00:00:00",
          "title": "ScenTrees.jl: A Julia Package for Generating Scenario Trees and Scenario Lattices for Multistage Stochastic Programming"
         },
         {
          "DOI": "10.21105/joss.02671",
          "is-referenced-by-count": 1,
          "published.date-parts": "2020-12-02T00:00:00",
          "title": "FHI-vibes: Ab Initio Vibrational Simulations"
         },
         {
          "DOI": "10.21105/joss.00023",
          "is-referenced-by-count": 1,
          "published.date-parts": "2016-05-31T00:00:00",
          "title": "Scowl: a Scala DSL for programming with the OWL API"
         },
         {
          "DOI": "10.21105/joss.00255",
          "is-referenced-by-count": 1,
          "published.date-parts": "2017-06-18T00:00:00",
          "title": "xphyle: Extraordinarily simple file handling"
         },
         {
          "DOI": "10.21105/joss.00527",
          "is-referenced-by-count": 1,
          "published.date-parts": "2018-02-08T00:00:00",
          "title": "reper: Genome-wide identification, classification and quantification of repetitive elements without an assembled genome"
         },
         {
          "DOI": "10.21105/joss.00437",
          "is-referenced-by-count": 1,
          "published.date-parts": "2017-12-15T00:00:00",
          "title": "High-Dimensional Integrator"
         },
         {
          "DOI": "10.21105/joss.00900",
          "is-referenced-by-count": 1,
          "published.date-parts": "2018-09-23T00:00:00",
          "title": "GB code: A grain boundary generation code"
         },
         {
          "DOI": "10.21105/joss.01193",
          "is-referenced-by-count": 1,
          "published.date-parts": "2019-02-15T00:00:00",
          "title": "BoltzMM: an R package for maximum pseudolikelihood estimation of fully-visible Boltzmann machines"
         },
         {
          "DOI": "10.21105/joss.00531",
          "is-referenced-by-count": 1,
          "published.date-parts": "2018-01-22T00:00:00",
          "title": "pyneqsys: Solve symbolically defined systems of non-linear equations numerically"
         },
         {
          "DOI": "10.21105/joss.00216",
          "is-referenced-by-count": 1,
          "published.date-parts": "2018-01-19T00:00:00",
          "title": "Fitting a Gamma-Gompertz survival model to capture-recapture data collected on free-ranging animal populations"
         },
         {
          "DOI": "10.21105/joss.00418",
          "is-referenced-by-count": 1,
          "published.date-parts": "2017-10-25T00:00:00",
          "title": "ENASearch: A Python library for interacting with ENA's API"
         },
         {
          "DOI": "10.21105/joss.01166",
          "is-referenced-by-count": 1,
          "published.date-parts": "2019-03-14T00:00:00",
          "title": "MIDI.jl: Simple and intuitive handling of MIDI data."
         },
         {
          "DOI": "10.21105/joss.00691",
          "is-referenced-by-count": 1,
          "published.date-parts": "2018-05-14T00:00:00",
          "title": "ParticleScattering: Solving and optimizing multiple-scattering problems in Julia"
         },
         {
          "DOI": "10.21105/joss.00892",
          "is-referenced-by-count": 1,
          "published.date-parts": "2018-10-18T00:00:00",
          "title": "YAD: A Learning-based Inductive Logic Programming Tool"
         },
         {
          "DOI": "10.21105/joss.00948",
          "is-referenced-by-count": 1,
          "published.date-parts": "2018-10-16T00:00:00",
          "title": "PyTeNet: A concise Python implementation of quantum tensor network algorithms"
         },
         {
          "DOI": "10.21105/joss.01342",
          "is-referenced-by-count": 1,
          "published.date-parts": "2019-06-13T00:00:00",
          "title": "corporaexplorer: An R package for dynamic exploration of text collections"
         },
         {
          "DOI": "10.21105/jose.00045",
          "is-referenced-by-count": 1,
          "published.date-parts": "2019-05-17T00:00:00",
          "title": "Aero Python: classical aerodynamics of potential flow using Python"
         },
         {
          "DOI": "10.21105/joss.01480",
          "is-referenced-by-count": 1,
          "published.date-parts": "2019-07-18T00:00:00",
          "title": "tcherry: Learning the structure of tcherry trees"
         },
         {
          "DOI": "10.21105/joss.02435",
          "is-referenced-by-count": 1,
          "published.date-parts": "2020-10-05T00:00:00",
          "title": "OMG: A Scalable and Flexible Simulation and Testing Environment Toolbox for Intelligent Microgrid Control"
         },
         {
          "DOI": "10.21105/joss.02388",
          "is-referenced-by-count": 1,
          "published.date-parts": "2020-08-21T00:00:00",
          "title": "tidyfst: Tidy Verbs for Fast Data Manipulation"
         },
         {
          "DOI": "10.21105/joss.02687",
          "is-referenced-by-count": 1,
          "published.date-parts": "2021-01-19T00:00:00",
          "title": "SeismicMesh: Triangular meshing for seismology"
         },
         {
          "DOI": "10.21105/joss.02440",
          "is-referenced-by-count": 1,
          "published.date-parts": "2021-05-04T00:00:00",
          "title": "starfish: scalable pipelines for image-based transcriptomics"
         },
         {
          "DOI": "10.21105/joss.03049",
          "is-referenced-by-count": 1,
          "published.date-parts": "2021-03-19T00:00:00",
          "title": "Autosubmit GUI: A Javascript-based Graphical User Interface to Monitor Experiments Workflow Execution"
         },
         {
          "DOI": "10.21105/joss.01828",
          "is-referenced-by-count": 1,
          "published.date-parts": "2020-01-09T00:00:00",
          "title": "fathon: A Python package for a fast computation of detrendend fluctuation analysis and related algorithms"
         },
         {
          "DOI": "10.21105/joss.01040",
          "is-referenced-by-count": 1,
          "published.date-parts": "2018-11-08T00:00:00",
          "title": "treemaker:  A Python tool for constructing a Newick formatted tree from a set of classifications."
         },
         {
          "DOI": "10.21105/joss.02381",
          "is-referenced-by-count": 1,
          "published.date-parts": "2020-08-31T00:00:00",
          "title": "xrdfit: A Python package for fitting synchrotron X-ray diffraction spectra"
         },
         {
          "DOI": "10.21105/joss.01478",
          "is-referenced-by-count": 1,
          "published.date-parts": "2019-07-21T00:00:00",
          "title": "Fireworks: Reproducible Machine Learning and Preprocessing with PyTorch"
         },
         {
          "DOI": "10.21105/joss.02166",
          "is-referenced-by-count": 1,
          "published.date-parts": "2020-10-25T00:00:00",
          "title": "COINSTAC: Collaborative Informatics and Neuroimaging Suite Toolkit for Anonymous Computation"
         },
         {
          "DOI": "10.21105/joss.00408",
          "is-referenced-by-count": 1,
          "published.date-parts": "2017-11-20T00:00:00",
          "title": "UKCensusAPI: python and R interfaces to the nomisweb UK census data API"
         },
         {
          "DOI": "10.21105/joss.02515",
          "is-referenced-by-count": 1,
          "published.date-parts": "2020-11-17T00:00:00",
          "title": "NodePy: A package for the analysis of numerical ODE solvers"
         },
         {
          "DOI": "10.21105/joss.02584",
          "is-referenced-by-count": 1,
          "published.date-parts": "2020-10-09T00:00:00",
          "title": "pirecorder: Controlled and automated image and video recording with the raspberry pi"
         },
         {
          "DOI": "10.21105/joss.03272",
          "is-referenced-by-count": 1,
          "published.date-parts": "2021-06-07T00:00:00",
          "title": "academictwitteR: an R package to access the Twitter Academic Research Product Track v2 API endpoint"
         },
         {
          "DOI": "10.21105/joss.00710",
          "is-referenced-by-count": 1,
          "published.date-parts": "2018-08-02T00:00:00",
          "title": "MCycle: A Python package for 1D sizing and analysis of thermodynamic power cycles"
         },
         {
          "DOI": "10.21105/joss.01494",
          "is-referenced-by-count": 1,
          "published.date-parts": "2019-08-27T00:00:00",
          "title": "mTower: Trusted Execution Environment for MCU-based devices"
         },
         {
          "DOI": "10.21105/joss.01390",
          "is-referenced-by-count": 1,
          "published.date-parts": "2019-07-25T00:00:00",
          "title": "AutoClassWrapper: a Python wrapper for AutoClass C classification"
         },
         {
          "DOI": "10.21105/joss.02094",
          "is-referenced-by-count": 1,
          "published.date-parts": "2020-08-22T00:00:00",
          "title": "MTEX2Gmsh: a tool for generating 2D meshes from EBSD data"
         },
         {
          "DOI": "10.21105/jcon.00051",
          "is-referenced-by-count": 1,
          "published.date-parts": "2020-08-12T00:00:00",
          "title": "TSML (Time Series Machine Learning)"
         },
         {
          "DOI": "10.21105/joss.02970",
          "is-referenced-by-count": 1,
          "published.date-parts": "2021-04-08T00:00:00",
          "title": "PolSAR tools: A QGIS plugin for generating SAR descriptors"
         },
         {
          "DOI": "10.21105/joss.02034",
          "is-referenced-by-count": 1,
          "published.date-parts": "2020-08-31T00:00:00",
          "title": "CapacityExpansion: A capacity expansion modeling framework in Julia"
         },
         {
          "DOI": "10.21105/joss.02075",
          "is-referenced-by-count": 1,
          "published.date-parts": "2020-03-01T00:00:00",
          "title": "psi-collect: A Python module for post-storm image collection and cataloging"
         },
         {
          "DOI": "10.21105/joss.02448",
          "is-referenced-by-count": 1,
          "published.date-parts": "2020-08-17T00:00:00",
          "title": "Chips-n-Salsa: A Java Library of Customizable, Hybridizable, Iterative, Parallel, Stochastic, and Self-Adaptive Local Search Algorithms"
         },
         {
          "DOI": "10.21105/joss.02675",
          "is-referenced-by-count": 1,
          "published.date-parts": "2020-10-26T00:00:00",
          "title": "SLIX: A Python package for fully automated evaluation of Scattered Light Imaging measurements on brain tissue"
         },
         {
          "DOI": "10.21105/joss.02576",
          "is-referenced-by-count": 1,
          "published.date-parts": "2020-10-27T00:00:00",
          "title": "ELECTRIC: Electric fields Leveraged from multipole Expansion Calculations in Tinker Rapid Interface Code"
         },
         {
          "DOI": "10.21105/joss.02871",
          "is-referenced-by-count": 1,
          "published.date-parts": "2021-04-20T00:00:00",
          "title": "UQit: A Python package for uncertainty quantification (UQ) in computational fluid dynamics (CFD)"
         },
         {
          "DOI": "10.21105/joss.00258",
          "is-referenced-by-count": 1,
          "published.date-parts": "2017-05-30T00:00:00",
          "title": "Noisyopt: A Python library for optimizing noisy functions."
         },
         {
          "DOI": "10.21105/joss.00119",
          "is-referenced-by-count": 1,
          "published.date-parts": "2016-12-05T00:00:00",
          "title": "finreportr: Financial Data from U.S. Securities and Exchange Commission"
         },
         {
          "DOI": "10.21105/joss.00204",
          "is-referenced-by-count": 1,
          "published.date-parts": "2017-03-22T00:00:00",
          "title": "Weave.jl: Scientific Reports Using Julia"
         },
         {
          "DOI": "10.21105/joss.00360",
          "is-referenced-by-count": 1,
          "published.date-parts": "2018-02-28T00:00:00",
          "title": "ClimDown: Climate Downscaling in R"
         },
         {
          "DOI": "10.21105/joss.01943",
          "is-referenced-by-count": 1,
          "published.date-parts": "2020-01-17T00:00:00",
          "title": "Pooch: A friend to fetch your data files"
         },
         {
          "DOI": "10.21105/joss.02538",
          "is-referenced-by-count": 1,
          "published.date-parts": "2020-10-12T00:00:00",
          "title": "papaya2: 2D Irreducible Minkowski Tensor computation"
         },
         {
          "DOI": "10.21105/joss.02382",
          "is-referenced-by-count": 1,
          "published.date-parts": "2020-11-17T00:00:00",
          "title": "catwoman: A transit modelling Python package for asymmetric light curves"
         },
         {
          "DOI": "10.21105/joss.00248",
          "is-referenced-by-count": 1,
          "published.date-parts": "2017-04-28T00:00:00",
          "title": "pyhector: A Python interface for the simple climate model Hector"
         },
         {
          "DOI": "10.21105/joss.00341",
          "is-referenced-by-count": 1,
          "published.date-parts": "2017-08-30T00:00:00",
          "title": "Pipengine: an ultra light YAML-based pipeline execution engine"
         },
         {
          "DOI": "10.21105/joss.00417",
          "is-referenced-by-count": 1,
          "published.date-parts": "2017-10-04T00:00:00",
          "title": "hei: Calculate Healthy Eating Index (HEI) Scores"
         },
         {
          "DOI": "10.21105/joss.01265",
          "is-referenced-by-count": 1,
          "published.date-parts": "2019-02-22T00:00:00",
          "title": "pyro: a framework for hydrodynamics explorations and prototyping"
         },
         {
          "DOI": "10.21105/joss.01181",
          "is-referenced-by-count": 1,
          "published.date-parts": "2019-01-16T00:00:00",
          "title": "stats19: A package for working with open road crash data"
         },
         {
          "DOI": "10.21105/joss.00457",
          "is-referenced-by-count": 1,
          "published.date-parts": "2017-12-06T00:00:00",
          "title": "A framework for generating interactive reports for cancer genome analysis"
         },
         {
          "DOI": "10.21105/joss.00592",
          "is-referenced-by-count": 1,
          "published.date-parts": "2018-06-15T00:00:00",
          "title": "Aronnax: An idealised isopycnal ocean model"
         },
         {
          "DOI": "10.21105/joss.00966",
          "is-referenced-by-count": 1,
          "published.date-parts": "2018-10-26T00:00:00",
          "title": "MCSD: A MATLAB Tool for Monte-Carlo Simulations of Diffusion in biological Tissues"
         },
         {
          "DOI": "10.21105/joss.01102",
          "is-referenced-by-count": 1,
          "published.date-parts": "2018-11-27T00:00:00",
          "title": "restez: Create and Query a Local Copy of GenBank in R"
         },
         {
          "DOI": "10.21105/joss.01821",
          "is-referenced-by-count": 1,
          "published.date-parts": "2019-12-02T00:00:00",
          "title": "tabula: An R Package for Analysis, Seriation, and Visualization of Archaeological Count Data"
         },
         {
          "DOI": "10.21105/joss.02185",
          "is-referenced-by-count": 1,
          "published.date-parts": "2021-01-16T00:00:00",
          "title": "fastSF: A parallel code for computing the structure functions of turbulence"
         },
         {
          "DOI": "10.21105/joss.00293",
          "is-referenced-by-count": 1,
          "published.date-parts": "2017-06-25T00:00:00",
          "title": "Web-based text anonymization with Node.js: Introducing NETANOS (Named entity-based Text Anonymization for Open Science)"
         },
         {
          "DOI": "10.21105/joss.01098",
          "is-referenced-by-count": 1,
          "published.date-parts": "2019-01-24T00:00:00",
          "title": "portalr: an R package for summarizing and using the Portal Project Data"
         },
         {
          "DOI": "10.21105/joss.01655",
          "is-referenced-by-count": 1,
          "published.date-parts": "2020-05-21T00:00:00",
          "title": "cspy: A Python package with a collection of algorithms for the (Resource) Constrained Shortest Path problem"
         },
         {
          "DOI": "10.21105/joss.01880",
          "is-referenced-by-count": 1,
          "published.date-parts": "2019-11-17T00:00:00",
          "title": "rnassqs: An R package to access agricultural data via the USDA National Agricultural Statistics Service (USDA-NASS) ‘Quick Stats’ API"
         },
         {
          "DOI": "10.21105/joss.01764",
          "is-referenced-by-count": 1,
          "published.date-parts": "2019-10-30T00:00:00",
          "title": "DscoreApp: An user-friendly web application for computing the Implicit Association Test D-score"
         },
         {
          "DOI": "10.21105/joss.01704",
          "is-referenced-by-count": 1,
          "published.date-parts": "2019-10-09T00:00:00",
          "title": "AXITOM: A Python package for reconstruction of axisymmetric tomograms acquired by a conical beam"
         },
         {
          "DOI": "10.21105/joss.01674",
          "is-referenced-by-count": 1,
          "published.date-parts": "2019-09-26T00:00:00",
          "title": "LISC: A Python Package for Scientific Literature Collection and Analysis"
         },
         {
          "DOI": "10.21105/joss.01485",
          "is-referenced-by-count": 1,
          "published.date-parts": "2019-07-25T00:00:00",
          "title": "OrpailleCC: a Library for Data Stream Analysis on Embedded Systems"
         },
         {
          "DOI": "10.21105/joss.02462",
          "is-referenced-by-count": 1,
          "published.date-parts": "2020-07-28T00:00:00",
          "title": "Grama: A Grammar of Model Analysis"
         },
         {
          "DOI": "10.21105/joss.03537",
          "is-referenced-by-count": 1,
          "published.date-parts": "2021-08-26T00:00:00",
          "title": "lattice-symmetries: A package for working with quantum many-body bases"
         },
         {
          "DOI": "10.21105/joss.02945",
          "is-referenced-by-count": 1,
          "published.date-parts": "2021-07-09T00:00:00",
          "title": "libCEED: Fast algebra for high-order element-based discretizations"
         },
         {
          "DOI": "10.21105/joss.02083",
          "is-referenced-by-count": 1,
          "published.date-parts": "2020-03-31T00:00:00",
          "title": "RADWave: Python code for ocean surface wave analysis by satellite radar altimeter"
         },
         {
          "DOI": "10.21105/astro.2009.09391",
          "is-referenced-by-count": 1,
          "published.date-parts": "2020-09-15T00:00:00",
          "title": "Two-component mass models of the lensing galaxy in the quadruply imaged supernova iPTF16geu"
         },
         {
          "DOI": "10.21105/joss.02451",
          "is-referenced-by-count": 1,
          "published.date-parts": "2020-09-23T00:00:00",
          "title": "Chromatiblock: scalable whole-genome visualization of structural differences in prokaryotes"
         },
         {
          "DOI": "10.21105/joss.03022",
          "is-referenced-by-count": 1,
          "published.date-parts": "2021-04-06T00:00:00",
          "title": "Simulating instrumental systematics of Cosmic Microwave Background experiments with s4cmb"
         },
         {
          "DOI": "10.21105/astro.2003.11558",
          "is-referenced-by-count": 1,
          "published.date-parts": "2020-06-24T00:00:00",
          "title": "Source Distributions of Cosmic Shear Surveys in Efficiency Space"
         },
         {
          "DOI": "10.21105/joss.00937",
          "is-referenced-by-count": 1,
          "published.date-parts": "2018-09-20T00:00:00",
          "title": "ungroup: An R package for efficient estimation of smooth distributions from coarsely binned data"
         },
         {
          "DOI": "10.21105/joss.03097",
          "is-referenced-by-count": 1,
          "published.date-parts": "2021-04-05T00:00:00",
          "title": "epipack: An infectious disease modeling package for Python"
         },
         {
          "DOI": "10.21105/joss.00512",
          "is-referenced-by-count": 1,
          "published.date-parts": "2018-01-30T00:00:00",
          "title": "origami: A Generalized Framework for Cross-Validation in R"
         },
         {
          "DOI": "10.21105/joss.03095",
          "is-referenced-by-count": 1,
          "published.date-parts": "2021-06-10T00:00:00",
          "title": "IGRINS RV: A Python Package for Precision Radial Velocities with Near-Infrared Spectra"
         },
         {
          "DOI": "10.21105/joss.03294",
          "is-referenced-by-count": 1,
          "published.date-parts": "2021-06-24T00:00:00",
          "title": "atlite: A Lightweight Python Package for Calculating Renewable Power Potentials and Time Series"
         },
         {
          "DOI": "10.21105/joss.01269",
          "is-referenced-by-count": 1,
          "published.date-parts": "2019-03-30T00:00:00",
          "title": "riskclustr: Functions to Study Etiologic Heterogeneity"
         },
         {
          "DOI": "10.21105/joss.01643",
          "is-referenced-by-count": 1,
          "published.date-parts": "2019-09-20T00:00:00",
          "title": "SBMLtoODEpy: A software program for converting SBML models into ODE models in Python"
         },
         {
          "DOI": "10.21105/joss.00038",
          "is-referenced-by-count": 1,
          "published.date-parts": "2016-11-20T00:00:00",
          "title": "DoSOCS: A System for SPDX 2.0 Document Creation and Storage"
         },
         {
          "DOI": "10.21105/joss.00137",
          "is-referenced-by-count": 1,
          "published.date-parts": "2017-01-06T00:00:00",
          "title": "Pyret: A Python package for analysis of neurophysiology data"
         },
         {
          "DOI": "10.21105/joss.00061",
          "is-referenced-by-count": 1,
          "published.date-parts": "2017-03-20T00:00:00",
          "title": "walkr: MCMC Sampling from Non-Negative Convex Polytopes"
         },
         {
          "DOI": "10.21105/joss.00202",
          "is-referenced-by-count": 1,
          "published.date-parts": "2017-05-01T00:00:00",
          "title": "learningCurve: An implementation of Crawford's and Wright's learning curve production functions"
         },
         {
          "DOI": "10.21105/joss.00207",
          "is-referenced-by-count": 1,
          "published.date-parts": "2017-04-19T00:00:00",
          "title": "skedm: Empirical Dynamic Modeling"
         },
         {
          "DOI": "10.21105/joss.02342",
          "is-referenced-by-count": 1,
          "published.date-parts": "2020-08-31T00:00:00",
          "title": "dfba: Software for efficient simulation of dynamic flux-balance analysis models in Python"
         },
         {
          "DOI": "10.21105/joss.02744",
          "is-referenced-by-count": 1,
          "published.date-parts": "2021-03-02T00:00:00",
          "title": "PyGDH: Python Grid Discretization Helper"
         },
         {
          "DOI": "10.21105/joss.01751",
          "is-referenced-by-count": 1,
          "published.date-parts": "2019-11-21T00:00:00",
          "title": "FluxCalR: a R package for calculating CO~2~ and CH~4~ fluxes from static chambers"
         },
         {
          "DOI": "10.21105/joss.02498",
          "is-referenced-by-count": 1,
          "published.date-parts": "2021-02-07T00:00:00",
          "title": "gym-electric-motor (GEM): A Python toolbox for the simulation of electric drive systems"
         },
         {
          "DOI": "10.21105/joss.01083",
          "is-referenced-by-count": 1,
          "published.date-parts": "2019-01-22T00:00:00",
          "title": "GFAKluge: A C++ library and command line utilities for the Graphical Fragment Assembly formats"
         },
         {
          "DOI": "10.21105/joss.00489",
          "is-referenced-by-count": 1,
          "published.date-parts": "2018-02-05T00:00:00",
          "title": "CoreRobotics: An object-oriented C++ library with cross-language wrappers for cross-platform robot control"
         },
         {
          "DOI": "10.21105/joss.00016",
          "is-referenced-by-count": 1,
          "published.date-parts": "2016-05-27T00:00:00",
          "title": "R3D2: Relativistic Reactive Riemann problem solver for Deflagrations and Detonations"
         },
         {
          "DOI": "10.21105/joss.00523",
          "is-referenced-by-count": 1,
          "published.date-parts": "2018-02-23T00:00:00",
          "title": "ivporbit:An R package to estimate the instrumental variables probit model"
         },
         {
          "DOI": "10.21105/jose.00016",
          "is-referenced-by-count": 1,
          "published.date-parts": "2018-07-04T00:00:00",
          "title": "A short course about fitting models with the scipy.optimize module"
         },
         {
          "DOI": "10.21105/joss.00558",
          "is-referenced-by-count": 1,
          "published.date-parts": "2018-05-29T00:00:00",
          "title": "PetIBM: toolbox and applications of the immersed-boundary method on distributed-memory architectures"
         },
         {
          "DOI": "10.21105/joss.00741",
          "is-referenced-by-count": 1,
          "published.date-parts": "2018-06-04T00:00:00",
          "title": "PyUnfold: A Python package for iterative unfolding"
         },
         {
          "DOI": "10.21105/joss.00815",
          "is-referenced-by-count": 1,
          "published.date-parts": "2018-09-18T00:00:00",
          "title": "NeuNorm: Neutron Imaging Normalization Library"
         },
         {
          "DOI": "10.21105/jose.00033",
          "is-referenced-by-count": 1,
          "published.date-parts": "2018-10-24T00:00:00",
          "title": "ThermoState: A state manager for thermodynamics courses"
         },
         {
          "DOI": "10.21105/joss.01306",
          "is-referenced-by-count": 1,
          "published.date-parts": "2019-06-24T00:00:00",
          "title": "crystal-torture: A crystal tortuosity module"
         },
         {
          "DOI": "10.21105/joss.01349",
          "is-referenced-by-count": 1,
          "published.date-parts": "2019-05-03T00:00:00",
          "title": "x11docker: Run GUI applications in Docker containers"
         },
         {
          "DOI": "10.21105/joss.01423",
          "is-referenced-by-count": 1,
          "published.date-parts": "2019-05-08T00:00:00",
          "title": "CRED: a rapid peak caller for Chem-seq data"
         },
         {
          "DOI": "10.21105/joss.01322",
          "is-referenced-by-count": 1,
          "published.date-parts": "2019-04-22T00:00:00",
          "title": "UTDEventData: An R package to access political event data"
         },
         {
          "DOI": "10.21105/joss.01488",
          "is-referenced-by-count": 1,
          "published.date-parts": "2019-06-17T00:00:00",
          "title": "Delira: A High-Level Framework for Deep Learning in Medical Image Analysis"
         },
         {
          "DOI": "10.21105/joss.01295",
          "is-referenced-by-count": 1,
          "published.date-parts": "2019-09-19T00:00:00",
          "title": "NiBetaSeries: task related correlations in fMRI"
         },
         {
          "DOI": "10.21105/joss.01486",
          "is-referenced-by-count": 1,
          "published.date-parts": "2019-08-07T00:00:00",
          "title": "FRIDGe: Fast Reactor Input Deck Generator"
         },
         {
          "DOI": "10.21105/joss.01870",
          "is-referenced-by-count": 1,
          "published.date-parts": "2019-12-16T00:00:00",
          "title": "mwarp1d: Manual one-dimensional data warping in Python and PyQt"
         },
         {
          "DOI": "10.21105/joss.01609",
          "is-referenced-by-count": 1,
          "published.date-parts": "2020-03-09T00:00:00",
          "title": "infotheory: A C++/Python package for multivariate information theoretic analysis"
         },
         {
          "DOI": "10.21105/joss.01371",
          "is-referenced-by-count": 1,
          "published.date-parts": "2020-02-18T00:00:00",
          "title": "Manif: A micro Lie theory library for state estimation in robotics applications"
         },
         {
          "DOI": "10.21105/joss.01866",
          "is-referenced-by-count": 1,
          "published.date-parts": "2020-02-19T00:00:00",
          "title": "Economiccomplexity: Computational Methods for Economic Complexity"
         },
         {
          "DOI": "10.21105/joss.01886",
          "is-referenced-by-count": 1,
          "published.date-parts": "2019-11-13T00:00:00",
          "title": "EarthPy: A Python package that makes it easier to explore and plot raster and vector data using open source Python tools."
         },
         {
          "DOI": "10.21105/joss.01047",
          "is-referenced-by-count": 1,
          "published.date-parts": "2019-10-01T00:00:00",
          "title": "Comet Time Series Visualizer: CometTS"
         },
         {
          "DOI": "10.21105/joss.02340",
          "is-referenced-by-count": 1,
          "published.date-parts": "2020-07-15T00:00:00",
          "title": "FIPS: An R Package for Biomathematical Modelling of Human Fatigue Related Impairment"
         },
         {
          "DOI": "10.21105/joss.02250",
          "is-referenced-by-count": 1,
          "published.date-parts": "2020-06-28T00:00:00",
          "title": "mmaqshiny v1.0: R-Shiny package to explore Air-Quality Mobile-Monitoring data"
         },
         {
          "DOI": "10.21105/joss.03247",
          "is-referenced-by-count": 1,
          "published.date-parts": "2021-06-10T00:00:00",
          "title": "Eir: A Python Package for Epidemic Simulation"
         },
         {
          "DOI": "10.21105/joss.03437",
          "is-referenced-by-count": 1,
          "published.date-parts": "2021-07-18T00:00:00",
          "title": "grapesAgri1: Collection of Shiny Apps for Data Analysis in Agriculture"
         },
         {
          "DOI": "10.21105/joss.01112",
          "is-referenced-by-count": 1,
          "published.date-parts": "2019-05-13T00:00:00",
          "title": "HRDS: A Python package for hierarchical raster datasets"
         },
         {
          "DOI": "10.21105/joss.02825",
          "is-referenced-by-count": 1,
          "published.date-parts": "2021-02-20T00:00:00",
          "title": "PyAutoLens: Open-Source Strong Gravitational Lensing"
         },
         {
          "DOI": "10.21105/joss.02169",
          "is-referenced-by-count": 1,
          "published.date-parts": "2020-04-17T00:00:00",
          "title": "Matching: A Python library for solving matching games"
         },
         {
          "DOI": "10.21105/joss.02763",
          "is-referenced-by-count": 1,
          "published.date-parts": "2020-10-27T00:00:00",
          "title": "simstudy: Illuminating research methods through data generation"
         },
         {
          "DOI": "10.21105/joss.02171",
          "is-referenced-by-count": 1,
          "published.date-parts": "2021-02-26T00:00:00",
          "title": "OpenOA: An Open-Source Codebase For Operational Analysis of Wind Farms"
         },
         {
          "DOI": "10.21105/joss.01745",
          "is-referenced-by-count": 1,
          "published.date-parts": "2019-10-25T00:00:00",
          "title": "ndsplines: A Python Library for Tensor-Product B-Splines of Arbitrary Dimension"
         },
         {
          "DOI": "10.21105/joss.00674",
          "is-referenced-by-count": 1,
          "published.date-parts": "2018-05-04T00:00:00",
          "title": "MicroBenthos: a modeling framework for microbial benthic ecology"
         },
         {
          "DOI": "10.21105/joss.02952",
          "is-referenced-by-count": 1,
          "published.date-parts": "2021-03-10T00:00:00",
          "title": "RivGraph: Automatic extraction and analysis of river and delta channel network topology"
         },
         {
          "DOI": "10.21105/astro.2102.12776",
          "is-referenced-by-count": 1,
          "published.date-parts": "2021-03-23T00:00:00",
          "title": "Dwarfs from the Dark (Energy Survey): a machine learning approach to classify dwarf galaxies from multi-band images"
         },
         {
          "DOI": "10.21105/joss.02177",
          "is-referenced-by-count": 1,
          "published.date-parts": "2020-06-12T00:00:00",
          "title": "XLUR: A land use regression wizard for ArcGIS Pro"
         },
         {
          "DOI": "10.21105/joss.01969",
          "is-referenced-by-count": 1,
          "published.date-parts": "2020-06-19T00:00:00",
          "title": "CoreBreakout: Subsurface Core Images to Depth-Registered Datasets"
         },
         {
          "DOI": "10.21105/joss.00371",
          "is-referenced-by-count": 1,
          "published.date-parts": "2017-10-09T00:00:00",
          "title": "Production Function Estimation in R: The prodest Package"
         },
         {
          "DOI": "10.21105/joss.03237",
          "is-referenced-by-count": 1,
          "published.date-parts": "2021-08-10T00:00:00",
          "title": "ngsxfem: Add-on to NGSolve for geometrically unfitted finite element discretizations"
         },
         {
          "DOI": "10.21105/joss.02089",
          "is-referenced-by-count": 1,
          "published.date-parts": "2020-06-16T00:00:00",
          "title": "turtleFSI: A Robust and Monolithic FEniCS-based Fluid-Structure Interaction Solver"
         },
         {
          "DOI": "10.21105/joss.03398",
          "is-referenced-by-count": 1,
          "published.date-parts": "2021-08-26T00:00:00",
          "title": "pyDeltaRCM: a flexible numerical delta model"
         },
         {
          "DOI": "10.21105/joss.00818",
          "is-referenced-by-count": 1,
          "published.date-parts": "2018-08-20T00:00:00",
          "title": "skijumpdesign: A Ski Jump Design Tool for Specified Equivalent Fall Height"
         },
         {
          "DOI": "10.21105/joss.02120",
          "is-referenced-by-count": 1,
          "published.date-parts": "2020-04-09T00:00:00",
          "title": "ROSS - Rotordynamic Open Source Software"
         },
         {
          "DOI": "10.21105/joss.00370",
          "is-referenced-by-count": 1,
          "published.date-parts": "2017-08-18T00:00:00",
          "title": "bsym: A basic symmetry module"
         },
         {
          "DOI": "10.21105/joss.00260",
          "is-referenced-by-count": 1,
          "published.date-parts": "2017-06-04T00:00:00",
          "title": "filesstrings: An R package for file and string manipulation"
         },
         {
          "DOI": "10.21105/joss.02008",
          "is-referenced-by-count": 1,
          "published.date-parts": "2020-06-09T00:00:00",
          "title": "Enhanced software and platform for the Town Energy Balance (TEB) model"
         },
         {
          "DOI": "10.21105/joss.02241",
          "is-referenced-by-count": 1,
          "published.date-parts": "2020-06-19T00:00:00",
          "title": "Hypothesize: Robust Statistics for Python"
         },
         {
          "DOI": "10.21105/joss.02351",
          "is-referenced-by-count": 1,
          "published.date-parts": "2020-08-03T00:00:00",
          "title": "kiwiPy: Robust, high-volume, messaging for big-data and computational science workflows"
         },
         {
          "DOI": "10.21105/astro.1910.00483",
          "is-referenced-by-count": 1,
          "published.date-parts": "2021-08-17T00:00:00",
          "title": "A Detailed Description of the CAMSPEC Likelihood Pipeline and a Reanalysis of the Planck High Frequency Maps"
         },
         {
          "DOI": "10.21105/joss.00749",
          "is-referenced-by-count": 1,
          "published.date-parts": "2018-07-23T00:00:00",
          "title": "SpeechPy - A Library for Speech Processing and Recognition"
         },
         {
          "DOI": "10.21105/joss.00100",
          "is-referenced-by-count": 1,
          "published.date-parts": "2016-11-07T00:00:00",
          "title": "rucrdtw: Fast time series subsequence search in R"
         },
         {
          "DOI": "10.21105/joss.00125",
          "is-referenced-by-count": 1,
          "published.date-parts": "2016-12-05T00:00:00",
          "title": "resampy: efficient sample rate conversion in Python"
         },
         {
          "DOI": "10.21105/astro.1502.04020",
          "is-referenced-by-count": 1,
          "published.date-parts": "2016-06-29T00:00:00",
          "title": "Dynamical Analysis of Scalar Field Cosmologies with Spatial Curvature"
         },
         {
          "DOI": "10.21105/joss.02431",
          "is-referenced-by-count": 1,
          "published.date-parts": "2020-09-03T00:00:00",
          "title": "pyomeca: An Open-Source Framework for Biomechanical Analysis"
         },
         {
          "DOI": "10.21105/joss.00291",
          "is-referenced-by-count": 1,
          "published.date-parts": "2017-07-11T00:00:00",
          "title": "CLOOPSy - Copernicus Land cOver crOwdsourcing Platform for Sentinel-based mapping"
         },
         {
          "DOI": "10.21105/joss.01159",
          "is-referenced-by-count": 1,
          "published.date-parts": "2019-01-31T00:00:00",
          "title": "pytransform3d: 3D Transformations for Python"
         },
         {
          "DOI": "10.21105/joss.01203",
          "is-referenced-by-count": 1,
          "published.date-parts": "2019-02-04T00:00:00",
          "title": "BladeX: Python Blade Morphing"
         },
         {
          "DOI": "10.21105/joss.01027",
          "is-referenced-by-count": 1,
          "published.date-parts": "2019-02-06T00:00:00",
          "title": "fibergen: An introductory tool for FFT-based material homogenization"
         },
         {
          "DOI": "10.21105/joss.00243",
          "is-referenced-by-count": 1,
          "published.date-parts": "2017-05-03T00:00:00",
          "title": "SaffronTree: Fast, reference-free pseudo-phylogenomic trees from reads or contigs."
         },
         {
          "DOI": "10.21105/joss.00629",
          "is-referenced-by-count": 1,
          "published.date-parts": "2018-05-03T00:00:00",
          "title": "humanleague: a C++ microsynthesis package with R and python interfaces"
         },
         {
          "DOI": "10.21105/joss.00463",
          "is-referenced-by-count": 1,
          "published.date-parts": "2018-01-10T00:00:00",
          "title": "simpleCache: R caching for reproducible, distributed, large-scale projects"
         },
         {
          "DOI": "10.21105/joss.01091",
          "is-referenced-by-count": 1,
          "published.date-parts": "2018-11-20T00:00:00",
          "title": "rcites: An R package to access the CITES Speciesplus database"
         },
         {
          "DOI": "10.21105/joss.01107",
          "is-referenced-by-count": 1,
          "published.date-parts": "2018-12-18T00:00:00",
          "title": "Artery.FE: An implementation of the 1D blood flow equations in FEniCS"
         },
         {
          "DOI": "10.21105/joss.01856",
          "is-referenced-by-count": 1,
          "published.date-parts": "2019-11-01T00:00:00",
          "title": "workloopR: Analysis of work loops and other data from muscle physiology experiments in R"
         },
         {
          "DOI": "10.21105/joss.02384",
          "is-referenced-by-count": 1,
          "published.date-parts": "2020-10-02T00:00:00",
          "title": "SysIdentPy: A Python package for System Identification using NARMAX models"
         },
         {
          "DOI": "10.21105/joss.01530",
          "is-referenced-by-count": 1,
          "published.date-parts": "2019-07-25T00:00:00",
          "title": "bioLEC: A Python package to measure Landscape Elevational Connectivity"
         },
         {
          "DOI": "10.21105/joss.01596",
          "is-referenced-by-count": 1,
          "published.date-parts": "2019-08-06T00:00:00",
          "title": "ivis: dimensionality reduction in very large datasets using Siamese Networks"
         },
         {
          "DOI": "10.21105/joss.01262",
          "is-referenced-by-count": 1,
          "published.date-parts": "2020-02-08T00:00:00",
          "title": "Scyland3D: Processing 3D landmarks"
         },
         {
          "DOI": "10.21105/astro.2009.03944",
          "is-referenced-by-count": 1,
          "published.date-parts": "2020-09-10T00:00:00",
          "title": "Low-scatter galaxy cluster mass proxies for the eROSITA all-sky survey"
         },
         {
          "DOI": "10.21105/joss.02550",
          "is-referenced-by-count": 1,
          "published.date-parts": "2021-02-05T00:00:00",
          "title": "PyAutoFit: A Classy Probabilistic Programming Language for Model Composition and Fitting"
         },
         {
          "DOI": "10.21105/joss.02367",
          "is-referenced-by-count": 1,
          "published.date-parts": "2020-07-28T00:00:00",
          "title": "HOOMD-TF: GPU-Accelerated, Online Machine Learning in the HOOMD-blue Molecular Dynamics Engine"
         },
         {
          "DOI": "10.21105/joss.01914",
          "is-referenced-by-count": 1,
          "published.date-parts": "2019-11-25T00:00:00",
          "title": "c14bazAAR: An R package for downloading and preparing C14 dates from different source databases"
         },
         {
          "DOI": "10.21105/joss.01759",
          "is-referenced-by-count": 1,
          "published.date-parts": "2019-10-08T00:00:00",
          "title": "pentapy: A Python toolbox for pentadiagonal linear systems"
         },
         {
          "DOI": "10.21105/joss.01774",
          "is-referenced-by-count": 1,
          "published.date-parts": "2020-01-29T00:00:00",
          "title": "widgyts: Custom Jupyter Widgets for Interactive Data Exploration with yt"
         },
         {
          "DOI": "10.21105/joss.02995",
          "is-referenced-by-count": 1,
          "published.date-parts": "2021-04-05T00:00:00",
          "title": "covid19.analytics: An R Package to Obtain, Analyze and Visualize Data from the 2019 Coronavirus Disease Pandemic"
         },
         {
          "DOI": "10.21105/joss.02644",
          "is-referenced-by-count": 1,
          "published.date-parts": "2020-10-10T00:00:00",
          "title": "GENRE (GPU Elastic-Net REgression): A CUDA-Accelerated Package for Massively Parallel Linear Regression with Elastic-Net Regularization"
         },
         {
          "DOI": "10.21105/joss.01822",
          "is-referenced-by-count": 1,
          "published.date-parts": "2020-01-14T00:00:00",
          "title": "SIHR: a MATLAB/GNU Octave toolbox for single image highlight removal"
         },
         {
          "DOI": "10.21105/joss.02813",
          "is-referenced-by-count": 1,
          "published.date-parts": "2021-04-26T00:00:00",
          "title": "IndividualDisplacements.jl: a Julia package to simulate and study particle displacements within the climate system"
         },
         {
          "DOI": "10.21105/joss.01276",
          "is-referenced-by-count": 1,
          "published.date-parts": "2019-02-26T00:00:00",
          "title": "Ecological Metadata as Linked Data"
         },
         {
          "DOI": "10.21105/joss.02877",
          "is-referenced-by-count": 1,
          "published.date-parts": "2021-04-15T00:00:00",
          "title": "sntools: An event generator for supernova burst neutrinos"
         },
         {
          "DOI": "10.21105/joss.03010",
          "is-referenced-by-count": 1,
          "published.date-parts": "2021-03-31T00:00:00",
          "title": "stabm: Stability Measures for Feature Selection"
         },
         {
          "DOI": "10.21105/joss.02757",
          "is-referenced-by-count": 1,
          "published.date-parts": "2021-02-14T00:00:00",
          "title": "The Pulsar Signal Simulator: A Python package for simulating radio signal data from pulsars"
         },
         {
          "DOI": "10.21105/joss.02677",
          "is-referenced-by-count": 1,
          "published.date-parts": "2021-04-06T00:00:00",
          "title": "besos: Building and Energy Simulation, Optimization and Surrogate Modelling"
         },
         {
          "DOI": "10.21105/joss.02973",
          "is-referenced-by-count": 1,
          "published.date-parts": "2021-06-07T00:00:00",
          "title": "Tyssue: an epithelium simulation library"
         },
         {
          "DOI": "10.21105/joss.02379",
          "is-referenced-by-count": 1,
          "published.date-parts": "2020-12-04T00:00:00",
          "title": "Akmedoids R package for generating directionally-homogeneous clusters of longitudinal data sets"
         },
         {
          "DOI": "10.21105/joss.03045",
          "is-referenced-by-count": 1,
          "published.date-parts": "2021-05-01T00:00:00",
          "title": "Bayesian X-ray Analysis (BXA) v4.0"
         },
         {
          "DOI": "10.21105/joss.01850",
          "is-referenced-by-count": 1,
          "published.date-parts": "2019-12-22T00:00:00",
          "title": "simode: R Package for Statistical Inference of Ordinary Differential Equations using Separable Integral-Matching"
         },
         {
          "DOI": "10.21105/joss.00634",
          "is-referenced-by-count": 0,
          "published.date-parts": "2019-01-05T00:00:00",
          "title": "genieR: An R package for inference of demographic history of phylogenies"
         },
         {
          "DOI": "10.21105/joss.00722",
          "is-referenced-by-count": 0,
          "published.date-parts": "2019-03-19T00:00:00",
          "title": "KLRfome - Kernel Logistic Regression on Focal Mean Embeddings"
         },
         {
          "DOI": "10.21105/joss.00808",
          "is-referenced-by-count": 0,
          "published.date-parts": "2019-03-18T00:00:00",
          "title": "GMSimViz: Automated 3D Visualization of Ground Motion Simulation with Generic Mapping Tools (GMT)"
         },
         {
          "DOI": "10.21105/joss.01273",
          "is-referenced-by-count": 0,
          "published.date-parts": "2019-03-14T00:00:00",
          "title": "The Climate Equity Reference Calculator"
         },
         {
          "DOI": "10.21105/joss.02580",
          "is-referenced-by-count": 0,
          "published.date-parts": "2020-10-29T00:00:00",
          "title": "Open Source Optical Coherence Tomography Software"
         },
         {
          "DOI": "10.21105/joss.02334",
          "is-referenced-by-count": 0,
          "published.date-parts": "2021-04-16T00:00:00",
          "title": "SneakerNet: A modular quality assurance and quality check workflow for primary genomic and metagenomic read data"
         },
         {
          "DOI": "10.21105/joss.03092",
          "is-referenced-by-count": 0,
          "published.date-parts": "2021-04-10T00:00:00",
          "title": "bleiglas: An R package for interpolation and visualisation of spatiotemporal data with 3D tessellation"
         },
         {
          "DOI": "10.21105/joss.03192",
          "is-referenced-by-count": 0,
          "published.date-parts": "2021-05-04T00:00:00",
          "title": "imodels: a python package for fitting interpretable models"
         },
         {
          "DOI": "10.21105/jose.00111",
          "is-referenced-by-count": 0,
          "published.date-parts": "2021-06-01T00:00:00",
          "title": "IndeterminateBeam: A Python package for solving 1D indeterminate beams"
         },
         {
          "DOI": "10.21105/joss.00250",
          "is-referenced-by-count": 0,
          "published.date-parts": "2017-05-22T00:00:00",
          "title": "IBCAO_py: A matplotlib library for using the International Bathymetric Chart of the Arctic Ocean with cartopy and matplotlib"
         },
         {
          "DOI": "10.21105/joss.00221",
          "is-referenced-by-count": 0,
          "published.date-parts": "2017-05-09T00:00:00",
          "title": "YoungTab"
         },
         {
          "DOI": "10.21105/joss.00194",
          "is-referenced-by-count": 0,
          "published.date-parts": "2017-03-07T00:00:00",
          "title": "lawn: An R client for the Turf Javascript Library for Geospatial Analysis"
         },
         {
          "DOI": "10.21105/joss.03613",
          "is-referenced-by-count": 0,
          "published.date-parts": "2021-09-27T00:00:00",
          "title": "AuditoryStimuli.jl: A Julia package for generating real-time auditory stimuli"
         },
         {
          "DOI": "10.21105/joss.03471",
          "is-referenced-by-count": 0,
          "published.date-parts": "2021-09-28T00:00:00",
          "title": "pointcloudset: Efficient Analysis of Large Datasets of Point Clouds Recorded Over Time"
         },
         {
          "DOI": "10.21105/joss.03458",
          "is-referenced-by-count": 0,
          "published.date-parts": "2021-09-22T00:00:00",
          "title": "optimade-python-tools: a Python library for serving and consuming materials data via OPTIMADE APIs"
         },
         {
          "DOI": "10.21105/joss.03326",
          "is-referenced-by-count": 0,
          "published.date-parts": "2021-07-20T00:00:00",
          "title": "libfmp: A Python Package for Fundamentals of Music Processing"
         },
         {
          "DOI": "10.21105/joss.03071",
          "is-referenced-by-count": 0,
          "published.date-parts": "2021-07-12T00:00:00",
          "title": "starry_process: Interpretable Gaussian processes for stellar light curves"
         },
         {
          "DOI": "10.21105/joss.02741",
          "is-referenced-by-count": 0,
          "published.date-parts": "2021-05-13T00:00:00",
          "title": "ParaMonte: A high-performance serial/parallel Monte Carlo simulation library for C, C++, Fortran"
         },
         {
          "DOI": "10.21105/joss.03068",
          "is-referenced-by-count": 0,
          "published.date-parts": "2021-07-10T00:00:00",
          "title": "Nyx: A Massively Parallel AMR Code for Computational Cosmology"
         },
         {
          "DOI": "10.21105/joss.00298",
          "is-referenced-by-count": 0,
          "published.date-parts": "2018-01-08T00:00:00",
          "title": "Moltres: finite element based simulation of molten salt reactors"
         },
         {
          "DOI": "10.21105/joss.00650",
          "is-referenced-by-count": 0,
          "published.date-parts": "2018-04-15T00:00:00",
          "title": "OpenEPSim: An Open Exclusion Process Simulation Tool"
         },
         {
          "DOI": "10.21105/joss.03171",
          "is-referenced-by-count": 0,
          "published.date-parts": "2021-05-20T00:00:00",
          "title": "Surfaxe: Systematic surface calculations"
         },
         {
          "DOI": "10.21105/joss.03323",
          "is-referenced-by-count": 0,
          "published.date-parts": "2021-07-28T00:00:00",
          "title": "RENT: A Python Package for Repeated Elastic Net Feature Selection"
         },
         {
          "DOI": "10.21105/joss.03210",
          "is-referenced-by-count": 0,
          "published.date-parts": "2021-06-07T00:00:00",
          "title": "CliquePercolation: An R Package for conducting and visualizing results of the clique percolation network community detection algorithm"
         },
         {
          "DOI": "10.21105/joss.00295",
          "is-referenced-by-count": 0,
          "published.date-parts": "2017-07-26T00:00:00",
          "title": "biotmle: Targeted Learning for Biomarker Discovery"
         },
         {
          "DOI": "10.21105/joss.00413",
          "is-referenced-by-count": 0,
          "published.date-parts": "2017-11-07T00:00:00",
          "title": "MatDL: A Lightweight Deep Learning Library in MATLAB"
         },
         {
          "DOI": "10.21105/joss.00161",
          "is-referenced-by-count": 0,
          "published.date-parts": "2018-10-19T00:00:00",
          "title": "adaptest: Data-Adaptive Statistics for High-Dimensional Testing in R"
         },
         {
          "DOI": "10.21105/joss.00911",
          "is-referenced-by-count": 0,
          "published.date-parts": "2018-12-02T00:00:00",
          "title": "qsort R package: A New Tool for Scoring Q-sort Data"
         },
         {
          "DOI": "10.21105/joss.01070",
          "is-referenced-by-count": 0,
          "published.date-parts": "2018-11-26T00:00:00",
          "title": "ElGateau: A Library for Using the Elgato Stream Deck for Experimental Psychology Research"
         },
         {
          "DOI": "10.21105/joss.00984",
          "is-referenced-by-count": 0,
          "published.date-parts": "2018-11-24T00:00:00",
          "title": "Mobile Gaze Mapping: A Python package for mapping mobile gaze data to a fixed target stimulus"
         },
         {
          "DOI": "10.21105/joss.00869",
          "is-referenced-by-count": 0,
          "published.date-parts": "2018-08-22T00:00:00",
          "title": "js-emass: A flexible JavaScript implementation of the emass algorithm"
         },
         {
          "DOI": "10.21105/joss.01328",
          "is-referenced-by-count": 0,
          "published.date-parts": "2019-07-25T00:00:00",
          "title": "rdbsp: An Open Source Rock Dynamic Behavior Simulation Program"
         },
         {
          "DOI": "10.21105/joss.01587",
          "is-referenced-by-count": 0,
          "published.date-parts": "2019-08-21T00:00:00",
          "title": "studentlife: Tidy Handling and Navigation of a Valuable Mobile-Health Dataset"
         },
         {
          "DOI": "10.21105/joss.01666",
          "is-referenced-by-count": 0,
          "published.date-parts": "2019-11-01T00:00:00",
          "title": "UncertainData.jl: a Julia package for working with measurements and datasets with uncertainties."
         },
         {
          "DOI": "10.21105/joss.01544",
          "is-referenced-by-count": 0,
          "published.date-parts": "2019-07-26T00:00:00",
          "title": "PyCurious: A Python module for computing the Curie depth from the magnetic anomaly."
         },
         {
          "DOI": "10.21105/joss.01338",
          "is-referenced-by-count": 0,
          "published.date-parts": "2019-04-19T00:00:00",
          "title": "uJVM: Lightweight Java Virtual Machine for embedded systems"
         },
         {
          "DOI": "10.21105/jose.00044",
          "is-referenced-by-count": 0,
          "published.date-parts": "2019-04-09T00:00:00",
          "title": "StateMint: A Set of Tools for Determining Symbolic Dynamic System Models Using Linear Graph Methods"
         },
         {
          "DOI": "10.21105/joss.01474",
          "is-referenced-by-count": 0,
          "published.date-parts": "2019-06-14T00:00:00",
          "title": "f90nml - A Python module for Fortran namelists"
         },
         {
          "DOI": "10.21105/joss.00947",
          "is-referenced-by-count": 0,
          "published.date-parts": "2019-06-24T00:00:00",
          "title": "diwanalr: An R data analysis package for diffusing-wave spectroscopy"
         },
         {
          "DOI": "10.21105/joss.01388",
          "is-referenced-by-count": 0,
          "published.date-parts": "2019-05-09T00:00:00",
          "title": "WatchMe: Software for Reproducible Monitoring and Data Collection"
         },
         {
          "DOI": "10.21105/joss.01465",
          "is-referenced-by-count": 0,
          "published.date-parts": "2019-06-06T00:00:00",
          "title": "A reproducible Snakemake pipeline to analyse Illumina paired-end data from ChiP-Seq experiments"
         },
         {
          "DOI": "10.21105/joss.01411",
          "is-referenced-by-count": 0,
          "published.date-parts": "2019-12-18T00:00:00",
          "title": "“Blaster” – a graphical user interface for common sequence analysis tools"
         },
         {
          "DOI": "10.21105/joss.02038",
          "is-referenced-by-count": 0,
          "published.date-parts": "2020-01-23T00:00:00",
          "title": "outsider: Install and run programs, outside of R, inside of R"
         },
         {
          "DOI": "10.21105/joss.01900",
          "is-referenced-by-count": 0,
          "published.date-parts": "2020-02-05T00:00:00",
          "title": "passt: An R implementation of the Probability Associator Time (PASS-T) model"
         },
         {
          "DOI": "10.21105/joss.01720",
          "is-referenced-by-count": 0,
          "published.date-parts": "2020-06-21T00:00:00",
          "title": "Torsional Axisymmetric Core Oscillations Visualiser (TACO-VIS): A Python module for animating torsional wave data for fluid planetary cores"
         },
         {
          "DOI": "10.21105/joss.02284",
          "is-referenced-by-count": 0,
          "published.date-parts": "2020-07-05T00:00:00",
          "title": "GridTest: testing and metrics collection for Python"
         },
         {
          "DOI": "10.21105/joss.01906",
          "is-referenced-by-count": 0,
          "published.date-parts": "2020-07-04T00:00:00",
          "title": "FLAM: Fast Linear Algebra in MATLAB - Algorithms for Hierarchical Matrices"
         },
         {
          "DOI": "10.21105/joss.02074",
          "is-referenced-by-count": 0,
          "published.date-parts": "2020-03-20T00:00:00",
          "title": "pyGOURGS - global optimization of n-ary tree representable problems using uniform random global search"
         },
         {
          "DOI": "10.21105/joss.01960",
          "is-referenced-by-count": 0,
          "published.date-parts": "2020-03-20T00:00:00",
          "title": "Annotation Sniffer: A tool to Extract Code Annotations Metrics"
         },
         {
          "DOI": "10.21105/joss.02313",
          "is-referenced-by-count": 0,
          "published.date-parts": "2020-08-24T00:00:00",
          "title": "DORiE: A Discontinuous Galerkin Solver for Soil Water Flow and Passive Solute Transport Based on DUNE"
         },
         {
          "DOI": "10.21105/jcon.00059",
          "is-referenced-by-count": 0,
          "published.date-parts": "2020-08-21T00:00:00",
          "title": "Interoperating Deep Learning models with ONNX.jl"
         },
         {
          "DOI": "10.21105/joss.02165",
          "is-referenced-by-count": 0,
          "published.date-parts": "2020-09-02T00:00:00",
          "title": "Utopia: A Comprehensive and Collaborative Modeling Framework for Complex and Evolving Systems"
         },
         {
          "DOI": "10.21105/joss.02404",
          "is-referenced-by-count": 0,
          "published.date-parts": "2020-08-21T00:00:00",
          "title": "seg1d: A Python package for Automated segmentation of one-dimensional (1D) data"
         },
         {
          "DOI": "10.21105/joss.02061",
          "is-referenced-by-count": 0,
          "published.date-parts": "2020-04-26T00:00:00",
          "title": "scTree: An R package to generate antibody-compatible classifiers from single-cell sequencing data"
         },
         {
          "DOI": "10.21105/joss.02145",
          "is-referenced-by-count": 0,
          "published.date-parts": "2020-04-13T00:00:00",
          "title": "Visions: An Open-Source Library for Semantic Data"
         },
         {
          "DOI": "10.21105/joss.02157",
          "is-referenced-by-count": 0,
          "published.date-parts": "2020-04-13T00:00:00",
          "title": "pygen-structures: A Python package to generate 3D molecular structures for simulations using the CHARMM forcefield"
         },
         {
          "DOI": "10.21105/jcon.00057",
          "is-referenced-by-count": 0,
          "published.date-parts": "2020-07-27T00:00:00",
          "title": "SemanticModels.jl: A Julia Package for Scientific Model Augmentation"
         },
         {
          "DOI": "10.21105/joss.01843",
          "is-referenced-by-count": 0,
          "published.date-parts": "2020-04-03T00:00:00",
          "title": "JCOL: A Java package for solving the graph coloring problem"
         },
         {
          "DOI": "10.21105/joss.03464",
          "is-referenced-by-count": 0,
          "published.date-parts": "2021-09-09T00:00:00",
          "title": "epimargin: A Toolkit for Epidemiological Estimation, Prediction, and Policy Evaluation"
         },
         {
          "DOI": "10.21105/joss.02695",
          "is-referenced-by-count": 0,
          "published.date-parts": "2020-12-14T00:00:00",
          "title": "Multiscale Solar Water Heating"
         },
         {
          "DOI": "10.21105/joss.02948",
          "is-referenced-by-count": 0,
          "published.date-parts": "2021-03-16T00:00:00",
          "title": "rgugik: Search and Retrieve Spatial Data from the Polish Head Office of Geodesy and Cartography in R"
         },
         {
          "DOI": "10.21105/joss.02403",
          "is-referenced-by-count": 0,
          "published.date-parts": "2020-09-17T00:00:00",
          "title": "Caliban: Docker-based job manager for reproducible workflows"
         },
         {
          "DOI": "10.21105/joss.02331",
          "is-referenced-by-count": 0,
          "published.date-parts": "2020-09-07T00:00:00",
          "title": "Flint: a simulator for biological and physiological models in ordinary and stochastic differential equations"
         },
         {
          "DOI": "10.21105/joss.02630",
          "is-referenced-by-count": 0,
          "published.date-parts": "2020-10-29T00:00:00",
          "title": "StatAid: An R package with a graphical user interface for data analysis"
         },
         {
          "DOI": "10.21105/joss.02528",
          "is-referenced-by-count": 0,
          "published.date-parts": "2020-10-10T00:00:00",
          "title": "Exploring meaningful visual effects and quantities of interest from dynamic models through dynamac"
         },
         {
          "DOI": "10.21105/joss.02444",
          "is-referenced-by-count": 0,
          "published.date-parts": "2020-12-03T00:00:00",
          "title": "TBFMM: A C++ generic and parallel fast multipole method library"
         },
         {
          "DOI": "10.21105/joss.02483",
          "is-referenced-by-count": 0,
          "published.date-parts": "2020-11-20T00:00:00",
          "title": "pyveg: A Python package for analysing the time evolution of patterned vegetation using Google Earth Engine"
         },
         {
          "DOI": "10.21105/joss.02804",
          "is-referenced-by-count": 0,
          "published.date-parts": "2020-12-14T00:00:00",
          "title": "gospl: Global Scalable Paleo Landscape Evolution"
         },
         {
          "DOI": "10.21105/joss.02608",
          "is-referenced-by-count": 0,
          "published.date-parts": "2020-11-05T00:00:00",
          "title": "AstroPaint: A Python Package for Painting Halo Catalogs into Celestial Maps"
         },
         {
          "DOI": "10.21105/joss.02583",
          "is-referenced-by-count": 0,
          "published.date-parts": "2020-09-26T00:00:00",
          "title": "emba: R package for analysis and visualization of biomarkers in boolean model ensembles"
         },
         {
          "DOI": "10.21105/joss.02669",
          "is-referenced-by-count": 0,
          "published.date-parts": "2020-10-15T00:00:00",
          "title": "Psifr: Analysis and visualization of free recall data"
         },
         {
          "DOI": "10.21105/joss.03453",
          "is-referenced-by-count": 0,
          "published.date-parts": "2021-08-06T00:00:00",
          "title": "mcboost: Multi-Calibration Boosting for R"
         },
         {
          "DOI": "10.21105/joss.03452",
          "is-referenced-by-count": 0,
          "published.date-parts": "2021-08-08T00:00:00",
          "title": "bmgarch: An R-Package for Bayesian Multivariate GARCH models"
         },
         {
          "DOI": "10.21105/joss.03384",
          "is-referenced-by-count": 0,
          "published.date-parts": "2021-08-04T00:00:00",
          "title": "FURY: advanced scientific visualization"
         },
         {
          "DOI": "10.21105/joss.03392",
          "is-referenced-by-count": 0,
          "published.date-parts": "2021-10-10T00:00:00",
          "title": "LCIA Formatter"
         },
         {
          "DOI": "10.21105/joss.03313",
          "is-referenced-by-count": 0,
          "published.date-parts": "2021-08-31T00:00:00",
          "title": "diyepw: A Python package for Do-It-Yourself EnergyPlus weather file generation"
         },
         {
          "DOI": "10.21105/joss.01493",
          "is-referenced-by-count": 0,
          "published.date-parts": "2019-10-08T00:00:00",
          "title": "slurmR: A lightweight wrapper for HPC with Slurm"
         },
         {
          "DOI": "10.21105/joss.02752",
          "is-referenced-by-count": 0,
          "published.date-parts": "2021-10-05T00:00:00",
          "title": "The o80 C++ templated toolbox: Designing customized Python APIs for synchronizing realtime processes"
         },
         {
          "DOI": "10.21105/joss.03362",
          "is-referenced-by-count": 0,
          "published.date-parts": "2021-08-22T00:00:00",
          "title": "OSTIR: open source translation initiation rate prediction"
         },
         {
          "DOI": "10.21105/astro.2107.13526",
          "is-referenced-by-count": 0,
          "published.date-parts": "2021-09-14T00:00:00",
          "title": "Black Hole Shadow Drift and Photon Ring Frequency Drift"
         },
         {
          "DOI": "10.21105/joss.03539",
          "is-referenced-by-count": 0,
          "published.date-parts": "2021-10-07T00:00:00",
          "title": "individual: An R package for individual-based epidemiological models"
         },
         {
          "DOI": "10.21105/joss.02976",
          "is-referenced-by-count": 0,
          "published.date-parts": "2021-09-19T00:00:00",
          "title": "Correlation: An Analysis Tool for Liquids and for Amorphous Solids"
         },
         {
          "DOI": "10.21105/joss.02805",
          "is-referenced-by-count": 0,
          "published.date-parts": "2021-05-09T00:00:00",
          "title": "Predihood: an open-source tool for predicting neighbourhoods' information"
         },
         {
          "DOI": "10.21105/astro.2108.04348",
          "is-referenced-by-count": 0,
          "published.date-parts": "2021-09-29T00:00:00",
          "title": "Bridging the Gap Between Simply Parametrized and Free-Form Pixelated Models of Galaxy Lenses: The Case of WFI 2033-4723 Quad"
         },
         {
          "DOI": "10.21105/joss.03082",
          "is-referenced-by-count": 0,
          "published.date-parts": "2021-05-09T00:00:00",
          "title": "toqito -- Theory of quantum information toolkit: A Python package for studying quantum information"
         },
         {
          "DOI": "10.21105/joss.03598",
          "is-referenced-by-count": 0,
          "published.date-parts": "2021-09-30T00:00:00",
          "title": "bfit: A Python Application For Beta-Detected NMR"
         },
         {
          "DOI": "10.21105/joss.03679",
          "is-referenced-by-count": 0,
          "published.date-parts": "2021-10-14T00:00:00",
          "title": "Devicely: A Python package for reading, timeshifting and writing sensor data"
         },
         {
          "DOI": "10.21105/joss.03641",
          "is-referenced-by-count": 0,
          "published.date-parts": "2021-10-23T00:00:00",
          "title": "A Fast Iterative Method Python package"
         },
         {
          "DOI": "10.21105/joss.02750",
          "is-referenced-by-count": 0,
          "published.date-parts": "2020-11-15T00:00:00",
          "title": "Your: Your Unified Reader"
         },
         {
          "DOI": "10.21105/joss.02782",
          "is-referenced-by-count": 0,
          "published.date-parts": "2020-12-11T00:00:00",
          "title": "hectorui: A web-based interactive scenario builder and visualization application for the Hector climate model"
         },
         {
          "DOI": "10.21105/joss.01992",
          "is-referenced-by-count": 0,
          "published.date-parts": "2020-08-17T00:00:00",
          "title": "Cocktail Shaker: An open source drug expansion and enumeration library for peptides"
         },
         {
          "DOI": "10.21105/joss.02596",
          "is-referenced-by-count": 0,
          "published.date-parts": "2020-10-01T00:00:00",
          "title": "maxsmooth: Derivative Constrained Function Fitting"
         },
         {
          "DOI": "10.21105/jcon.00037",
          "is-referenced-by-count": 0,
          "published.date-parts": "2020-10-10T00:00:00",
          "title": "RayTracer.jl: A Differentiable Renderer that supports Parameter Optimization for Scene Reconstruction"
         },
         {
          "DOI": "10.21105/joss.02761",
          "is-referenced-by-count": 0,
          "published.date-parts": "2020-10-19T00:00:00",
          "title": "pystiche: A Framework for Neural Style Transfer"
         },
         {
          "DOI": "10.21105/joss.02480",
          "is-referenced-by-count": 0,
          "published.date-parts": "2020-09-07T00:00:00",
          "title": "pyBEMT: An implementation of the Blade Element Momentum Theory in Python"
         },
         {
          "DOI": "10.21105/joss.01542",
          "is-referenced-by-count": 0,
          "published.date-parts": "2019-09-01T00:00:00",
          "title": "modeLLtest: An R Package for Unbiased Model Comparison using Cross Validation"
         },
         {
          "DOI": "10.21105/joss.01889",
          "is-referenced-by-count": 0,
          "published.date-parts": "2020-03-06T00:00:00",
          "title": "hammurabi X: a C++ package for simulating Galactic emissions"
         },
         {
          "DOI": "10.21105/joss.01862",
          "is-referenced-by-count": 0,
          "published.date-parts": "2020-01-27T00:00:00",
          "title": "miet: an R package for region of interest analysis from magnetic reasonance images"
         },
         {
          "DOI": "10.21105/joss.01816",
          "is-referenced-by-count": 0,
          "published.date-parts": "2020-02-10T00:00:00",
          "title": "OnlineStats.jl: A Julia package for statistics on data streams"
         },
         {
          "DOI": "10.21105/joss.02073",
          "is-referenced-by-count": 0,
          "published.date-parts": "2020-02-25T00:00:00",
          "title": "COLNA: A Python Package to Analyze Complex, Linear Networks"
         },
         {
          "DOI": "10.21105/joss.01701",
          "is-referenced-by-count": 0,
          "published.date-parts": "2020-03-20T00:00:00",
          "title": "DEPP - Differential Evolution Parallel Program"
         },
         {
          "DOI": "10.21105/joss.01991",
          "is-referenced-by-count": 0,
          "published.date-parts": "2020-03-18T00:00:00",
          "title": "partition: A fast and flexible framework for data reduction in R"
         },
         {
          "DOI": "10.21105/joss.01956",
          "is-referenced-by-count": 0,
          "published.date-parts": "2020-02-19T00:00:00",
          "title": "WordTokenizers.jl: Basic tools for tokenizing natural language in Julia"
         },
         {
          "DOI": "10.21105/joss.02265",
          "is-referenced-by-count": 0,
          "published.date-parts": "2020-07-05T00:00:00",
          "title": "cmstatr: An R Package for Statistical Analysis of Composite Material\nData"
         },
         {
          "DOI": "10.21105/joss.03039",
          "is-referenced-by-count": 0,
          "published.date-parts": "2021-04-15T00:00:00",
          "title": "libecpint: A C++ library for  the efficient evaluation of integrals over effective core potentials"
         },
         {
          "DOI": "10.21105/joss.02749",
          "is-referenced-by-count": 0,
          "published.date-parts": "2021-04-08T00:00:00",
          "title": "POMDPStressTesting.jl: Adaptive Stress Testing for Black-Box Systems"
         },
         {
          "DOI": "10.21105/joss.03053",
          "is-referenced-by-count": 0,
          "published.date-parts": "2021-04-21T00:00:00",
          "title": "GeophysicalFlows.jl: Solvers for geophysical fluid dynamics problems in periodic domains on CPUs  GPUs"
         },
         {
          "DOI": "10.21105/joss.00567",
          "is-referenced-by-count": 0,
          "published.date-parts": "2018-02-12T00:00:00",
          "title": "EFAshiny: An User-Friendly Shiny Application for Exploratory Factor Analysis"
         },
         {
          "DOI": "10.21105/joss.00580",
          "is-referenced-by-count": 0,
          "published.date-parts": "2018-03-12T00:00:00",
          "title": "PyMap3D: 3-D coordinate conversions for terrestrial and geospace environments"
         },
         {
          "DOI": "10.21105/joss.00190",
          "is-referenced-by-count": 0,
          "published.date-parts": "2017-03-05T00:00:00",
          "title": "Plotrr: Functions for making visual exploratory data analysis with nested data easier."
         },
         {
          "DOI": "10.21105/joss.00153",
          "is-referenced-by-count": 0,
          "published.date-parts": "2017-02-13T00:00:00",
          "title": "SlicerITKUltrasound: A 3D Slicer extension for scan conversion of B-mode and next-generation ultrasound imaging modalities"
         },
         {
          "DOI": "10.21105/joss.03434",
          "is-referenced-by-count": 0,
          "published.date-parts": "2021-08-27T00:00:00",
          "title": "Sync Toolbox: A Python Package for Efficient, Robust, and Accurate Music Synchronization"
         },
         {
          "DOI": "10.21105/joss.00402",
          "is-referenced-by-count": 0,
          "published.date-parts": "2017-09-12T00:00:00",
          "title": "bittrex: An R client for the Bittrex Crypto-Currency Exchange"
         },
         {
          "DOI": "10.21105/joss.00351",
          "is-referenced-by-count": 0,
          "published.date-parts": "2017-08-18T00:00:00",
          "title": "Nimbus: a Ruby gem to implement Random Forest algorithms in a genomic selection context"
         },
         {
          "DOI": "10.21105/joss.03394",
          "is-referenced-by-count": 0,
          "published.date-parts": "2021-08-14T00:00:00",
          "title": "ImSwitch: Generalizing microscope control in Python"
         },
         {
          "DOI": "10.21105/joss.03526",
          "is-referenced-by-count": 0,
          "published.date-parts": "2021-08-31T00:00:00",
          "title": "NoisySignalIntegration.jl: A Julia package for uncertainty evaluation of numeric integrals"
         },
         {
          "DOI": "10.21105/joss.03439",
          "is-referenced-by-count": 0,
          "published.date-parts": "2021-08-31T00:00:00",
          "title": "torchquad: Numerical Integration in Arbitrary Dimensions with PyTorch"
         },
         {
          "DOI": "10.21105/joss.00701",
          "is-referenced-by-count": 0,
          "published.date-parts": "2018-04-27T00:00:00",
          "title": "EndoMineR for the extraction of endoscopic and associated pathology data from medical reports"
         },
         {
          "DOI": "10.21105/joss.01266",
          "is-referenced-by-count": 0,
          "published.date-parts": "2019-02-21T00:00:00",
          "title": "mitolina: MITOchondrial LINeage Analysis"
         },
         {
          "DOI": "10.21105/joss.01021",
          "is-referenced-by-count": 0,
          "published.date-parts": "2019-03-01T00:00:00",
          "title": "TipToft: detecting plasmids contained in uncorrected long read sequencing data"
         },
         {
          "DOI": "10.21105/joss.01044",
          "is-referenced-by-count": 0,
          "published.date-parts": "2019-05-12T00:00:00",
          "title": "Reasons: A digital argument mapping library for modern browsers"
         },
         {
          "DOI": "10.21105/joss.00921",
          "is-referenced-by-count": 0,
          "published.date-parts": "2018-11-06T00:00:00",
          "title": "DataDepsGenerators.jl: making reusing data easy by automatically generating DataDeps.jl registration code"
         },
         {
          "DOI": "10.21105/joss.01077",
          "is-referenced-by-count": 0,
          "published.date-parts": "2018-12-05T00:00:00",
          "title": "iRF: extracting interactions from random forests"
         },
         {
          "DOI": "10.21105/joss.01006",
          "is-referenced-by-count": 0,
          "published.date-parts": "2018-10-26T00:00:00",
          "title": "SeqTools: A python package for easy transformation, combination and evaluation of large datasets."
         },
         {
          "DOI": "10.21105/joss.00971",
          "is-referenced-by-count": 0,
          "published.date-parts": "2018-09-24T00:00:00",
          "title": "Managing Larger Data on a GitHub Repository"
         },
         {
          "DOI": "10.21105/joss.00830",
          "is-referenced-by-count": 0,
          "published.date-parts": "2018-10-01T00:00:00",
          "title": "MaDaTS: Managing Data on Tiered Storage for Scientific Workflows"
         },
         {
          "DOI": "10.21105/joss.03065",
          "is-referenced-by-count": 0,
          "published.date-parts": "2021-06-22T00:00:00",
          "title": "AgentPy: A package for agent-based modeling in Python"
         },
         {
          "DOI": "10.21105/joss.01359",
          "is-referenced-by-count": 0,
          "published.date-parts": "2019-06-27T00:00:00",
          "title": "VBLinLogit: Variational Bayesian linear and logistic regression"
         },
         {
          "DOI": "10.21105/joss.01344",
          "is-referenced-by-count": 0,
          "published.date-parts": "2019-07-07T00:00:00",
          "title": "GUESSmyLT: Software to guess the RNA-Seq library type of paired and single end read files"
         },
         {
          "DOI": "10.21105/joss.01589",
          "is-referenced-by-count": 0,
          "published.date-parts": "2019-08-02T00:00:00",
          "title": "ORIS: An interactive software tool for prediction of replication origin in prokaryotic genomes"
         },
         {
          "DOI": "10.21105/joss.01626",
          "is-referenced-by-count": 0,
          "published.date-parts": "2019-10-01T00:00:00",
          "title": "neurone_loader: A Python module for loading EEG data recorded with Bittium NeurOne"
         },
         {
          "DOI": "10.21105/joss.01453",
          "is-referenced-by-count": 0,
          "published.date-parts": "2019-11-14T00:00:00",
          "title": "PDFIO: PDF Reader Library for native Julia"
         },
         {
          "DOI": "10.21105/joss.01500",
          "is-referenced-by-count": 0,
          "published.date-parts": "2019-10-20T00:00:00",
          "title": "BCAWT: Automated tool for codon usage bias analysis for molecular evolution"
         },
         {
          "DOI": "10.21105/joss.01812",
          "is-referenced-by-count": 0,
          "published.date-parts": "2019-12-20T00:00:00",
          "title": "OwlDE: making ODEs first-class Owl citizens"
         },
         {
          "DOI": "10.21105/joss.01665",
          "is-referenced-by-count": 0,
          "published.date-parts": "2019-10-10T00:00:00",
          "title": "molic: An R package for multivariate outlier detection in contingency tables"
         },
         {
          "DOI": "10.21105/joss.01945",
          "is-referenced-by-count": 0,
          "published.date-parts": "2020-01-16T00:00:00",
          "title": "MatD^3^: A Database and Online Presentation Package for Research Data Supporting Materials Discovery, Design, and Dissemination"
         },
         {
          "DOI": "10.21105/joss.01957",
          "is-referenced-by-count": 0,
          "published.date-parts": "2020-01-17T00:00:00",
          "title": "scikit-hubness: Hubness Reduction and Approximate Neighbor Search"
         },
         {
          "DOI": "10.21105/joss.01863",
          "is-referenced-by-count": 0,
          "published.date-parts": "2019-12-04T00:00:00",
          "title": "univariateML: An R package for maximum likelihood estimation of univariate densities"
         },
         {
          "DOI": "10.21105/joss.01839",
          "is-referenced-by-count": 0,
          "published.date-parts": "2019-12-02T00:00:00",
          "title": "GAIM: A C++ library for Genetic Algorithms and Island Models"
         },
         {
          "DOI": "10.21105/jose.00070",
          "is-referenced-by-count": 0,
          "published.date-parts": "2019-11-07T00:00:00",
          "title": "DraggleSimulator: An Open Source Web Application for Teaching Genetic Drift"
         },
         {
          "DOI": "10.21105/joss.02699",
          "is-referenced-by-count": 0,
          "published.date-parts": "2021-01-24T00:00:00",
          "title": "hawen: time-harmonic wave modeling and inversion using hybridizable discontinuous Galerkin discretization"
         },
         {
          "DOI": "10.21105/joss.01942",
          "is-referenced-by-count": 0,
          "published.date-parts": "2020-12-28T00:00:00",
          "title": "The DynaGUI package"
         },
         {
          "DOI": "10.21105/joss.02474",
          "is-referenced-by-count": 0,
          "published.date-parts": "2020-12-22T00:00:00",
          "title": "DetectorChecker: analyzing patterns of defects in detector screens"
         },
         {
          "DOI": "10.21105/joss.03078",
          "is-referenced-by-count": 0,
          "published.date-parts": "2021-03-31T00:00:00",
          "title": "Metatheory.jl: Fast and Elegant Algebraic Computation in Julia with Extensible Equality Saturation"
         },
         {
          "DOI": "10.21105/joss.02975",
          "is-referenced-by-count": 0,
          "published.date-parts": "2021-03-02T00:00:00",
          "title": "forestatrisk: a Python package for modelling and forecasting deforestation in the tropics"
         },
         {
          "DOI": "10.21105/joss.02643",
          "is-referenced-by-count": 0,
          "published.date-parts": "2020-10-26T00:00:00",
          "title": "Moran Pycess: a Python package to simulate Moran processes driven by game theory"
         },
         {
          "DOI": "10.21105/joss.02554",
          "is-referenced-by-count": 0,
          "published.date-parts": "2020-10-03T00:00:00",
          "title": "The Dusty Evolved Star Kit (DESK): A Python package for fitting the Spectral Energy Distribution of Evolved Stars"
         },
         {
          "DOI": "10.21105/jcon.00020",
          "is-referenced-by-count": 0,
          "published.date-parts": "2020-07-27T00:00:00",
          "title": "Locality-Aware Message Passing with ArrayChannels.jl"
         },
         {
          "DOI": "10.21105/joss.02315",
          "is-referenced-by-count": 0,
          "published.date-parts": "2020-07-10T00:00:00",
          "title": "BiRank: Fast and Flexible Ranking on Bipartite Networks with R and Python"
         },
         {
          "DOI": "10.21105/joss.02290",
          "is-referenced-by-count": 0,
          "published.date-parts": "2020-07-16T00:00:00",
          "title": "dcgp: Differentiable Cartesian Genetic Programming made easy."
         },
         {
          "DOI": "10.21105/jcon.00054",
          "is-referenced-by-count": 0,
          "published.date-parts": "2021-01-30T00:00:00",
          "title": "Basic Threading Examples in JuliaLang v1.3"
         },
         {
          "DOI": "10.21105/joss.02641",
          "is-referenced-by-count": 0,
          "published.date-parts": "2021-02-26T00:00:00",
          "title": "astrosource: automating optical astronomy measurement, calibration and analysis for variable stellar sources from provided photometry"
         },
         {
          "DOI": "10.21105/joss.02843",
          "is-referenced-by-count": 0,
          "published.date-parts": "2020-12-17T00:00:00",
          "title": "ADI.jl: A Julia Package for High-Contrast Imaging"
         },
         {
          "DOI": "10.21105/joss.03032",
          "is-referenced-by-count": 0,
          "published.date-parts": "2021-05-20T00:00:00",
          "title": "Magicwand: A platform to provide high-quality, reliable, and reproducible data sets for low-and-slow DDoS attacks."
         },
         {
          "DOI": "10.21105/joss.03093",
          "is-referenced-by-count": 0,
          "published.date-parts": "2021-05-19T00:00:00",
          "title": "dataquieR: assessment of data quality in epidemiological research"
         },
         {
          "DOI": "10.21105/joss.03038",
          "is-referenced-by-count": 0,
          "published.date-parts": "2021-05-30T00:00:00",
          "title": "CLAIRE: Constrained Large Deformation Diffeomorphic Image Registration on Parallel Computing Architectures"
         },
         {
          "DOI": "10.21105/joss.03098",
          "is-referenced-by-count": 0,
          "published.date-parts": "2021-07-17T00:00:00",
          "title": "coxeter: A Python package for working with shapes"
         },
         {
          "DOI": "10.21105/joss.03020",
          "is-referenced-by-count": 0,
          "published.date-parts": "2021-09-29T00:00:00",
          "title": "NLMech: Implementation of finite difference/meshfree discretization of nonlocal fracture models"
         },
         {
          "DOI": "10.21105/joss.03430",
          "is-referenced-by-count": 0,
          "published.date-parts": "2021-09-29T00:00:00",
          "title": "JMcDM: A Julia package for multiple-criteria decision-making tools"
         },
         {
          "DOI": "10.21105/joss.03265",
          "is-referenced-by-count": 0,
          "published.date-parts": "2021-05-17T00:00:00",
          "title": "MCALF: Multi-Component Atmospheric Line Fitting"
         },
         {
          "DOI": "10.21105/jose.00068",
          "is-referenced-by-count": 0,
          "published.date-parts": "2021-08-26T00:00:00",
          "title": "FAIR_Bioinfo: a turnkey training course and protocol for reproducible computational biology"
         },
         {
          "DOI": "10.21105/jcon.00068",
          "is-referenced-by-count": 0,
          "published.date-parts": "2021-07-08T00:00:00",
          "title": "MPI.jl: Julia bindings for the Message Passing Interface"
         },
         {
          "DOI": "10.21105/joss.03383",
          "is-referenced-by-count": 0,
          "published.date-parts": "2021-10-21T00:00:00",
          "title": "gamut: A Geospatial R Package to Analyze Multisectoral Urban Teleconnections"
         },
         {
          "DOI": "10.21105/joss.02395",
          "is-referenced-by-count": 0,
          "published.date-parts": "2021-06-24T00:00:00",
          "title": "gobbli: A uniform interface to deep learning for text in Python"
         },
         {
          "DOI": "10.21105/joss.03079",
          "is-referenced-by-count": 0,
          "published.date-parts": "2021-06-23T00:00:00",
          "title": "eigentools: A Python package for studying differential eigenvalue problems with an emphasis on robustness"
         },
         {
          "DOI": "10.21105/joss.03168",
          "is-referenced-by-count": 0,
          "published.date-parts": "2021-06-08T00:00:00",
          "title": "eemont: A Python package that extends Google Earth Engine"
         },
         {
          "DOI": "10.21105/joss.03414",
          "is-referenced-by-count": 0,
          "published.date-parts": "2021-07-26T00:00:00",
          "title": "Leafmap: A Python package for interactive mapping and geospatial analysis with minimal coding in a Jupyter environment"
         },
         {
          "DOI": "10.21105/joss.03273",
          "is-referenced-by-count": 0,
          "published.date-parts": "2021-07-26T00:00:00",
          "title": "cvCovEst: Cross-validated covariance matrix estimator selection and evaluation in R"
         },
         {
          "DOI": "10.21105/joss.03322",
          "is-referenced-by-count": 0,
          "published.date-parts": "2021-07-20T00:00:00",
          "title": "IDCeMPy: Python Package for Inflated Discrete Choice Models"
         },
         {
          "DOI": "10.21105/joss.03456",
          "is-referenced-by-count": 0,
          "published.date-parts": "2021-08-12T00:00:00",
          "title": "Building, Importing, and Exporting GEXF Graph Files with rgexf"
         },
         {
          "DOI": "10.21105/joss.03393",
          "is-referenced-by-count": 0,
          "published.date-parts": "2021-08-06T00:00:00",
          "title": "see: An R Package for Visualizing Statistical Models"
         },
         {
          "DOI": "10.21105/astro.2105.05859",
          "is-referenced-by-count": 0,
          "published.date-parts": "2021-07-30T00:00:00",
          "title": "A Differentiable Model of the Assembly of Individual and Populations of Dark Matter Halos"
         },
         {
          "DOI": "10.21105/joss.02694",
          "is-referenced-by-count": 0,
          "published.date-parts": "2021-09-10T00:00:00",
          "title": "subMALDI: an open framework R package for processing irregularly-spaced mass spectrometry data"
         },
         {
          "DOI": "10.21105/joss.03056",
          "is-referenced-by-count": 0,
          "published.date-parts": "2021-09-10T00:00:00",
          "title": "SkyPy: A package for modelling the Universe"
         },
         {
          "DOI": "10.21105/joss.03607",
          "is-referenced-by-count": 0,
          "published.date-parts": "2021-09-21T00:00:00",
          "title": "TraViA: a Traffic data Visualization and Annotation tool in Python"
         },
         {
          "DOI": "10.21105/joss.03634",
          "is-referenced-by-count": 0,
          "published.date-parts": "2021-09-21T00:00:00",
          "title": "latentcor: An R Package for estimating latent correlations from mixed data types"
         },
         {
          "DOI": "10.21105/joss.03543",
          "is-referenced-by-count": 0,
          "published.date-parts": "2021-10-08T00:00:00",
          "title": "TidyTensor: Utilities for multidimensional arrays as named hierarchical structures"
         },
         {
          "DOI": "10.21105/joss.03523",
          "is-referenced-by-count": 0,
          "published.date-parts": "2021-10-07T00:00:00",
          "title": "Madym: A C++ toolkit for quantitative DCE-MRI analysis"
         },
         {
          "DOI": "10.21105/joss.03336",
          "is-referenced-by-count": 0,
          "published.date-parts": "2021-10-14T00:00:00",
          "title": "iharm3D: Vectorized General Relativistic Magnetohydrodynamics"
         },
         {
          "DOI": "10.21105/joss.03051",
          "is-referenced-by-count": 0,
          "published.date-parts": "2021-10-15T00:00:00",
          "title": "PyArmadillo: a streamlined linear algebra library for Python"
         },
         {
          "DOI": "10.21105/joss.01533",
          "is-referenced-by-count": 0,
          "published.date-parts": "2019-08-03T00:00:00",
          "title": "Translational Informatics Management System (TIMS): Towards OMICS based clinical data management for long term curation of clinical studies"
         },
         {
          "DOI": "10.21105/joss.01513",
          "is-referenced-by-count": 0,
          "published.date-parts": "2019-08-10T00:00:00",
          "title": "OnToCode: Template-based code-generation from ontologies"
         },
         {
          "DOI": "10.21105/joss.01524",
          "is-referenced-by-count": 0,
          "published.date-parts": "2019-10-04T00:00:00",
          "title": "RL: Generic reinforcement learning codebase in TensorFlow"
         },
         {
          "DOI": "10.21105/joss.02049",
          "is-referenced-by-count": 0,
          "published.date-parts": "2020-08-25T00:00:00",
          "title": "MF2: A Collection of Multi-Fidelity Benchmark Functions in Python"
         },
         {
          "DOI": "10.21105/jcon.00043",
          "is-referenced-by-count": 0,
          "published.date-parts": "2020-08-12T00:00:00",
          "title": "Modia3D: Modeling and Simulation of 3D-Systems in Julia"
         },
         {
          "DOI": "10.21105/joss.02394",
          "is-referenced-by-count": 0,
          "published.date-parts": "2020-08-03T00:00:00",
          "title": "Implicit measures with reproducible results: The implicitMeasures package"
         },
         {
          "DOI": "10.21105/joss.01989",
          "is-referenced-by-count": 0,
          "published.date-parts": "2020-07-20T00:00:00",
          "title": "pylustrator: code generation for reproducible figures for publication"
         },
         {
          "DOI": "10.21105/joss.02432",
          "is-referenced-by-count": 0,
          "published.date-parts": "2020-10-01T00:00:00",
          "title": "cerebra: A tool for fast and accurate summarizing of variant calling format (VCF) files"
         },
         {
          "DOI": "10.21105/joss.02717",
          "is-referenced-by-count": 0,
          "published.date-parts": "2020-10-12T00:00:00",
          "title": "cfdm: A Python reference implementation of the CF data model"
         },
         {
          "DOI": "10.21105/joss.02599",
          "is-referenced-by-count": 0,
          "published.date-parts": "2020-10-09T00:00:00",
          "title": "A Short Introduction to PF: A C++ Library for Particle Filtering"
         },
         {
          "DOI": "10.21105/joss.02450",
          "is-referenced-by-count": 0,
          "published.date-parts": "2020-09-16T00:00:00",
          "title": "arcos and arcospy: R and Python packages for accessing the DEA ARCOS database from 2006 - 2014"
         },
         {
          "DOI": "10.21105/joss.02372",
          "is-referenced-by-count": 0,
          "published.date-parts": "2020-08-25T00:00:00",
          "title": "DVRlib: A C++ library for geometric mesh improvement using Directional Vertex Relaxation"
         },
         {
          "DOI": "10.21105/joss.00020",
          "is-referenced-by-count": 0,
          "published.date-parts": "2016-05-28T00:00:00",
          "title": "Representation and Manipulation of Genomic Tuples in R"
         },
         {
          "DOI": "10.21105/joss.00042",
          "is-referenced-by-count": 0,
          "published.date-parts": "2016-07-30T00:00:00",
          "title": "Gillespie.jl: Stochastic Simulation Algorithm in Julia"
         },
         {
          "DOI": "10.21105/joss.03348",
          "is-referenced-by-count": 0,
          "published.date-parts": "2021-08-03T00:00:00",
          "title": "The SAGE Rejected Article Tracker"
         },
         {
          "DOI": "10.21105/joss.03249",
          "is-referenced-by-count": 0,
          "published.date-parts": "2021-05-09T00:00:00",
          "title": "OpenOmics: A bioinformatics API to integrate multi-omics datasets and interface with public databases."
         },
         {
          "DOI": "10.21105/joss.00093",
          "is-referenced-by-count": 0,
          "published.date-parts": "2016-12-01T00:00:00",
          "title": "Eclipse Golo"
         },
         {
          "DOI": "10.21105/joss.00169",
          "is-referenced-by-count": 0,
          "published.date-parts": "2017-01-28T00:00:00",
          "title": "Limarka: making possible Brazilian students writing dissertation and thesis with Markdown"
         },
         {
          "DOI": "10.21105/joss.00340",
          "is-referenced-by-count": 0,
          "published.date-parts": "2017-09-05T00:00:00",
          "title": "ACEInhibPKPD: An open-source MATLAB app for a pharmacokinetic/pharmacodynamic model of ACE inhibition"
         },
         {
          "DOI": "10.21105/joss.00373",
          "is-referenced-by-count": 0,
          "published.date-parts": "2017-09-12T00:00:00",
          "title": "array_split: Multi-dimensional array partitioning"
         },
         {
          "DOI": "10.21105/joss.00234",
          "is-referenced-by-count": 0,
          "published.date-parts": "2017-05-25T00:00:00",
          "title": "bíogo/ncbi: interfaces to NCBI services for the Go language"
         },
         {
          "DOI": "10.21105/joss.00208",
          "is-referenced-by-count": 0,
          "published.date-parts": "2017-03-18T00:00:00",
          "title": "VCC: A framework for building containerized reproducible cluster software environments"
         },
         {
          "DOI": "10.21105/joss.00230",
          "is-referenced-by-count": 0,
          "published.date-parts": "2017-04-06T00:00:00",
          "title": "getCRUCLdata: Use and Explore CRU CL v. 2.0 Climatology Elements in R"
         },
         {
          "DOI": "10.21105/joss.00217",
          "is-referenced-by-count": 0,
          "published.date-parts": "2017-12-08T00:00:00",
          "title": "Ensight4Matlab: read, process, and write files in EnSight® Gold format from C++ or MATLAB®"
         },
         {
          "DOI": "10.21105/joss.00185",
          "is-referenced-by-count": 0,
          "published.date-parts": "2018-01-12T00:00:00",
          "title": "highlightHTML: CSS Formatting of R Markdown Documents"
         },
         {
          "DOI": "10.21105/joss.00556",
          "is-referenced-by-count": 0,
          "published.date-parts": "2018-02-05T00:00:00",
          "title": "CheckQC: Quick quality control of Illumina sequencing runs"
         },
         {
          "DOI": "10.21105/joss.01038",
          "is-referenced-by-count": 0,
          "published.date-parts": "2018-11-19T00:00:00",
          "title": "Gravity: Estimation Methods for Gravity Models in R"
         },
         {
          "DOI": "10.21105/joss.01015",
          "is-referenced-by-count": 0,
          "published.date-parts": "2018-10-20T00:00:00",
          "title": "Prest: Open-Source Software for Computational Revealed Preference Analysis"
         },
         {
          "DOI": "10.21105/joss.00960",
          "is-referenced-by-count": 0,
          "published.date-parts": "2018-10-03T00:00:00",
          "title": "Local clustering"
         },
         {
          "DOI": "10.21105/joss.00660",
          "is-referenced-by-count": 0,
          "published.date-parts": "2018-05-04T00:00:00",
          "title": "Mapelia and friends: create 3D models from maps"
         },
         {
          "DOI": "10.21105/joss.00630",
          "is-referenced-by-count": 0,
          "published.date-parts": "2018-05-21T00:00:00",
          "title": "HSImage: A Python and C++ library to allow interaction with ENVI-BIL hyperspectral images"
         },
         {
          "DOI": "10.21105/joss.00909",
          "is-referenced-by-count": 0,
          "published.date-parts": "2018-08-28T00:00:00",
          "title": "bor: An R Package for Transforming Behavioral Observation Records into Data Matrices"
         },
         {
          "DOI": "10.21105/joss.00775",
          "is-referenced-by-count": 0,
          "published.date-parts": "2018-06-20T00:00:00",
          "title": "HelpMe Command Line Helper Utility"
         },
         {
          "DOI": "10.21105/joss.00846",
          "is-referenced-by-count": 0,
          "published.date-parts": "2018-08-08T00:00:00",
          "title": "RISE: An R package for RISE analysis"
         },
         {
          "DOI": "10.21105/joss.01207",
          "is-referenced-by-count": 0,
          "published.date-parts": "2019-01-30T00:00:00",
          "title": "cartoee: Publication quality maps using Earth Engine"
         },
         {
          "DOI": "10.21105/joss.01144",
          "is-referenced-by-count": 0,
          "published.date-parts": "2019-03-26T00:00:00",
          "title": "vcftoolz: a Python package for comparing and evaluating Variant Call Format files."
         },
         {
          "DOI": "10.21105/joss.01013",
          "is-referenced-by-count": 0,
          "published.date-parts": "2019-04-10T00:00:00",
          "title": "Embeddings.jl: easy access to pretrained word embeddings from Julia"
         },
         {
          "DOI": "10.21105/joss.00941",
          "is-referenced-by-count": 0,
          "published.date-parts": "2019-04-13T00:00:00",
          "title": "Samewords: Automatic word disambigation in critical text editions"
         },
         {
          "DOI": "10.21105/joss.01201",
          "is-referenced-by-count": 0,
          "published.date-parts": "2019-04-02T00:00:00",
          "title": "TraitDB: Web application database of phenotypic trait data."
         },
         {
          "DOI": "10.21105/joss.01392",
          "is-referenced-by-count": 0,
          "published.date-parts": "2019-05-23T00:00:00",
          "title": "Optimising Light Source Positioning for Even and Flux-Efficient Illumination"
         },
         {
          "DOI": "10.21105/joss.01404",
          "is-referenced-by-count": 0,
          "published.date-parts": "2019-05-19T00:00:00",
          "title": "hdme: High-Dimensional Regression with Measurement Error"
         },
         {
          "DOI": "10.21105/joss.02276",
          "is-referenced-by-count": 0,
          "published.date-parts": "2021-08-13T00:00:00",
          "title": "WDPM: the Wetland DEM Ponding Model"
         },
         {
          "DOI": "10.21105/joss.01005",
          "is-referenced-by-count": 0,
          "published.date-parts": "2019-10-24T00:00:00",
          "title": "Lepton: An automaton for Literate Executable Papers"
         },
         {
          "DOI": "10.21105/joss.01662",
          "is-referenced-by-count": 0,
          "published.date-parts": "2019-10-23T00:00:00",
          "title": "thurstonianIRT: Thurstonian IRT Models in R"
         },
         {
          "DOI": "10.21105/joss.01756",
          "is-referenced-by-count": 0,
          "published.date-parts": "2019-10-18T00:00:00",
          "title": "GKNAP: A Java and C++ package for solving the multidimensional knapsack problem"
         },
         {
          "DOI": "10.21105/joss.01508",
          "is-referenced-by-count": 0,
          "published.date-parts": "2019-11-17T00:00:00",
          "title": "hopit: An R Package for Analysis of Reporting Behavior Using Generalized Ordered Probit Models"
         },
         {
          "DOI": "10.21105/joss.01796",
          "is-referenced-by-count": 0,
          "published.date-parts": "2019-12-08T00:00:00",
          "title": "perccalc: An R package for estimating percentiles from categorical variables"
         },
         {
          "DOI": "10.21105/joss.01717",
          "is-referenced-by-count": 0,
          "published.date-parts": "2019-12-01T00:00:00",
          "title": "Graph Transliterator: A graph-based transliteration tool"
         },
         {
          "DOI": "10.21105/joss.01809",
          "is-referenced-by-count": 0,
          "published.date-parts": "2020-02-01T00:00:00",
          "title": "Geometric nested sampling: sampling from distributions defined on non-trivial geometries"
         },
         {
          "DOI": "10.21105/joss.01981",
          "is-referenced-by-count": 0,
          "published.date-parts": "2020-01-16T00:00:00",
          "title": "DNAtools: Tools for Analysing Forensic Genetic DNA Data"
         },
         {
          "DOI": "10.21105/joss.01312",
          "is-referenced-by-count": 0,
          "published.date-parts": "2020-02-16T00:00:00",
          "title": "Rclean: A Tool for Writing Cleaner, More Transparent Code"
         },
         {
          "DOI": "10.21105/joss.02136",
          "is-referenced-by-count": 0,
          "published.date-parts": "2020-06-11T00:00:00",
          "title": "niacin: A Python package for text data enrichment"
         },
         {
          "DOI": "10.21105/joss.01815",
          "is-referenced-by-count": 0,
          "published.date-parts": "2020-02-17T00:00:00",
          "title": "MDL Suite: A language, generator and compiler for describing mazes"
         },
         {
          "DOI": "10.21105/joss.02180",
          "is-referenced-by-count": 0,
          "published.date-parts": "2020-06-19T00:00:00",
          "title": "Sensie: Probing the sensitivity of neural networks"
         },
         {
          "DOI": "10.21105/joss.02168",
          "is-referenced-by-count": 0,
          "published.date-parts": "2020-07-01T00:00:00",
          "title": "Jabberwocky: an ontology-aware toolkit for manipulating text"
         },
         {
          "DOI": "10.21105/joss.02266",
          "is-referenced-by-count": 0,
          "published.date-parts": "2020-07-06T00:00:00",
          "title": "itmlogic: The Irregular Terrain Model by Longley and Rice"
         },
         {
          "DOI": "10.21105/jcon.00012",
          "is-referenced-by-count": 0,
          "published.date-parts": "2020-07-26T00:00:00",
          "title": "ChipSort: a SIMD and cache-aware sorting module"
         },
         {
          "DOI": "10.21105/joss.03156",
          "is-referenced-by-count": 0,
          "published.date-parts": "2021-05-18T00:00:00",
          "title": "KALMUS: tools for color analysis of films"
         },
         {
          "DOI": "10.21105/joss.03284",
          "is-referenced-by-count": 0,
          "published.date-parts": "2021-06-25T00:00:00",
          "title": "s(ound)lab: An easy to learn Python package for designing and running psychoacoustic experiments."
         },
         {
          "DOI": "10.21105/joss.02800",
          "is-referenced-by-count": 0,
          "published.date-parts": "2021-01-06T00:00:00",
          "title": "Rdataretriever: R Interface to the Data Retriever"
         },
         {
          "DOI": "10.21105/joss.02722",
          "is-referenced-by-count": 0,
          "published.date-parts": "2020-11-10T00:00:00",
          "title": "RCaller: A Java package for interfacing R"
         },
         {
          "DOI": "10.21105/joss.02585",
          "is-referenced-by-count": 0,
          "published.date-parts": "2020-10-25T00:00:00",
          "title": "dorado: A Python package for simulating passive particle transport in shallow-water flows"
         },
         {
          "DOI": "10.21105/joss.02424",
          "is-referenced-by-count": 0,
          "published.date-parts": "2020-11-15T00:00:00",
          "title": "CRBHits: From Conditional Reciprocal Best Hits to Codon Alignments and Ka/Ks in R"
         },
         {
          "DOI": "10.21105/joss.02674",
          "is-referenced-by-count": 0,
          "published.date-parts": "2020-10-25T00:00:00",
          "title": "pd-parser: A tool for Matching Photodiode Deflection Events to Time-Stamped Events"
         },
         {
          "DOI": "10.21105/joss.02872",
          "is-referenced-by-count": 0,
          "published.date-parts": "2021-01-27T00:00:00",
          "title": "SimpleSDMLayers.jl and GBIF.jl: A Framework for Species Distribution Modeling in Julia"
         },
         {
          "DOI": "10.21105/joss.02812",
          "is-referenced-by-count": 0,
          "published.date-parts": "2021-03-12T00:00:00",
          "title": "Minimalist And Customisable Optimisation Package"
         },
         {
          "DOI": "10.21105/joss.02939",
          "is-referenced-by-count": 0,
          "published.date-parts": "2021-03-30T00:00:00",
          "title": "iceFEM: A FreeFem package for wave induced ice-shelf vibrations"
         },
         {
          "DOI": "10.21105/joss.03193",
          "is-referenced-by-count": 0,
          "published.date-parts": "2021-04-21T00:00:00",
          "title": "The stantargets R package: a workflow framework for efficient reproducible Stan-powered Bayesian data analysis pipelines"
         },
         {
          "DOI": "10.21105/joss.02849",
          "is-referenced-by-count": 0,
          "published.date-parts": "2021-04-30T00:00:00",
          "title": "BetaML: The Beta Machine Learning Toolkit, a self-contained repository of Machine Learning algorithms in Julia"
         },
         {
          "DOI": "10.21105/jcon.00069",
          "is-referenced-by-count": 0,
          "published.date-parts": "2021-05-07T00:00:00",
          "title": "DFTK: A Julian approach for simulating electrons in solids"
         },
         {
          "DOI": "10.21105/astro.2010.07749",
          "is-referenced-by-count": 0,
          "published.date-parts": "2020-12-15T00:00:00",
          "title": "Propagating residual biases in masked cosmic shear power spectra"
         },
         {
          "DOI": "10.21105/joss.02405",
          "is-referenced-by-count": 0,
          "published.date-parts": "2020-11-10T00:00:00",
          "title": "Talisman: a JavaScript archive of fuzzy matching, information retrieval and record linkage building blocks"
         },
         {
          "DOI": "10.21105/joss.02408",
          "is-referenced-by-count": 0,
          "published.date-parts": "2020-11-09T00:00:00",
          "title": "VRPy: A Python package for solving a range of vehicle routing problems with a column generation approach"
         },
         {
          "DOI": "10.21105/joss.02463",
          "is-referenced-by-count": 0,
          "published.date-parts": "2020-11-17T00:00:00",
          "title": "Multitaper.jl: A Julia package for frequency domain analysis of time series"
         },
         {
          "DOI": "10.21105/joss.02646",
          "is-referenced-by-count": 0,
          "published.date-parts": "2020-12-04T00:00:00",
          "title": "CircuitGraph: A Python package for Boolean circuits"
         },
         {
          "DOI": "10.21105/joss.02548",
          "is-referenced-by-count": 0,
          "published.date-parts": "2020-11-25T00:00:00",
          "title": "ALVA: An adaptive MATLAB package for layered viscoelastic analysis"
         },
         {
          "DOI": "10.21105/joss.02816",
          "is-referenced-by-count": 0,
          "published.date-parts": "2020-11-20T00:00:00",
          "title": "secuTrialR: Seamless interaction with clinical trial databases in R"
         },
         {
          "DOI": "10.21105/joss.03075",
          "is-referenced-by-count": 0,
          "published.date-parts": "2021-04-14T00:00:00",
          "title": "Thing Directory: Simple and lightweight registry of IoT device metadata"
         },
         {
          "DOI": "10.21105/joss.02979",
          "is-referenced-by-count": 0,
          "published.date-parts": "2021-04-12T00:00:00",
          "title": "minimo: a linked data and metadata storage system for small labs"
         },
         {
          "DOI": "10.21105/joss.03091",
          "is-referenced-by-count": 0,
          "published.date-parts": "2021-04-06T00:00:00",
          "title": "imea: A Python package for extracting 2D and 3D shape measurements from images"
         },
         {
          "DOI": "10.21105/joss.02862",
          "is-referenced-by-count": 0,
          "published.date-parts": "2021-04-16T00:00:00",
          "title": "PySPOD: A Python package for Spectral Proper Orthogonal Decomposition (SPOD)"
         },
         {
          "DOI": "10.21105/joss.02940",
          "is-referenced-by-count": 0,
          "published.date-parts": "2021-03-16T00:00:00",
          "title": "fuelcell: A Python package and graphical user interface for electrochemical data analysis"
         },
         {
          "DOI": "10.21105/joss.02828",
          "is-referenced-by-count": 0,
          "published.date-parts": "2021-02-21T00:00:00",
          "title": "PySensors: A Python package for sparse sensor placement"
         },
         {
          "DOI": "10.21105/joss.02409",
          "is-referenced-by-count": 0,
          "published.date-parts": "2021-03-05T00:00:00",
          "title": "Vizumap: an R package for visualising uncertainty in spatial data"
         },
         {
          "DOI": "10.21105/joss.02743",
          "is-referenced-by-count": 0,
          "published.date-parts": "2021-03-04T00:00:00",
          "title": "REGENS: an open source Python package for simulating realistic autosomal genotypes"
         },
         {
          "DOI": "10.21105/joss.03067",
          "is-referenced-by-count": 0,
          "published.date-parts": "2021-06-05T00:00:00",
          "title": "Virgo: A Versatile Spectrometer for Radio Astronomy"
         },
         {
          "DOI": "10.21105/joss.03282",
          "is-referenced-by-count": 0,
          "published.date-parts": "2021-06-04T00:00:00",
          "title": "dataaimsr: An R Client for the Australian Institute of Marine Science Data Platform API which provides easy access to AIMS Data Platform"
         },
         {
          "DOI": "10.21105/jose.00091",
          "is-referenced-by-count": 0,
          "published.date-parts": "2021-05-25T00:00:00",
          "title": "General relativity in R: visual representation of Schwarzschild space using different coordinate systems"
         },
         {
          "DOI": "10.21105/joss.03143",
          "is-referenced-by-count": 0,
          "published.date-parts": "2021-08-31T00:00:00",
          "title": "Synch: A framework for concurrent data-structures and benchmarks"
         },
         {
          "DOI": "10.21105/joss.03440",
          "is-referenced-by-count": 0,
          "published.date-parts": "2021-10-12T00:00:00",
          "title": "Nominally: A Name Parser for Record Linkage"
         },
         {
          "DOI": "10.21105/joss.03077",
          "is-referenced-by-count": 0,
          "published.date-parts": "2021-05-19T00:00:00",
          "title": "HOODESolver.jl: A Julia package for highly oscillatory problems"
         },
         {
          "DOI": "10.21105/astro.2012.04672",
          "is-referenced-by-count": 0,
          "published.date-parts": "2021-07-26T00:00:00",
          "title": "Euclid: Forecasts for k-cut 3×2 Point Statistics"
         },
         {
          "DOI": "10.21105/joss.03457",
          "is-referenced-by-count": 0,
          "published.date-parts": "2021-08-06T00:00:00",
          "title": "CutePeaks: A modern viewer for Sanger trace file"
         },
         {
          "DOI": "10.21105/joss.03133",
          "is-referenced-by-count": 0,
          "published.date-parts": "2021-05-27T00:00:00",
          "title": "ppdiag: Diagnostic Tools for Temporal Point Processes"
         },
         {
          "DOI": "10.21105/joss.02575",
          "is-referenced-by-count": 0,
          "published.date-parts": "2021-06-16T00:00:00",
          "title": "DYCO: A Python package to dynamically detect and compensate for time lags in ecosystem time series"
         },
         {
          "DOI": "10.21105/joss.03416",
          "is-referenced-by-count": 0,
          "published.date-parts": "2021-09-01T00:00:00",
          "title": "OGRe: An Object-Oriented General Relativity Package for Mathematica"
         },
         {
          "DOI": "10.21105/joss.03238",
          "is-referenced-by-count": 0,
          "published.date-parts": "2021-06-06T00:00:00",
          "title": "wbacon: Weighted BACON algorithms for multivariate outlier nomination (detection) and robust linear regression"
         },
         {
          "DOI": "10.21105/joss.03054",
          "is-referenced-by-count": 0,
          "published.date-parts": "2021-06-06T00:00:00",
          "title": "gmr: Gaussian Mixture Regression"
         },
         {
          "DOI": "10.21105/joss.02558",
          "is-referenced-by-count": 0,
          "published.date-parts": "2021-06-23T00:00:00",
          "title": "Bacting: a next generation, command line version of Bioclipse"
         },
         {
          "DOI": "10.21105/joss.03114",
          "is-referenced-by-count": 0,
          "published.date-parts": "2021-06-10T00:00:00",
          "title": "geoclaw-landspill: an oil land-spill and overland flow simulator for pipeline rupture events"
         },
         {
          "DOI": "10.21105/joss.03297",
          "is-referenced-by-count": 0,
          "published.date-parts": "2021-06-22T00:00:00",
          "title": "tfaip - a Generic and Powerful Research Framework for Deep Learning based on Tensorflow"
         },
         {
          "DOI": "10.21105/joss.03255",
          "is-referenced-by-count": 0,
          "published.date-parts": "2021-08-23T00:00:00",
          "title": "Easy3D: a lightweight, easy-to-use, and efficient C++ library for processing and rendering 3D data"
         },
         {
          "DOI": "10.21105/joss.03575",
          "is-referenced-by-count": 0,
          "published.date-parts": "2021-08-20T00:00:00",
          "title": "The MarINvaders Toolkit"
         },
         {
          "DOI": "10.21105/joss.02978",
          "is-referenced-by-count": 0,
          "published.date-parts": "2021-09-06T00:00:00",
          "title": "Coral: a parallel spectral solver for fluid dynamics and partial differential equations"
         },
         {
          "DOI": "10.21105/joss.03429",
          "is-referenced-by-count": 0,
          "published.date-parts": "2021-10-19T00:00:00",
          "title": "ddop: A python package for data-driven operations management"
         },
         {
          "DOI": "10.21105/astro",
          "is-referenced-by-count": 0,
          "published.date-parts": "",
          "title": "The Open Journal of Astrophysics"
         },
         {
          "DOI": "10.21105/joss.03719",
          "is-referenced-by-count": 0,
          "published.date-parts": "2021-10-19T00:00:00",
          "title": "AuDoLab: Automatic document labelling and classification  for extremely unbalanced data"
         },
         {
          "DOI": "10.21105/joss.03274",
          "is-referenced-by-count": 0,
          "published.date-parts": "2021-10-02T00:00:00",
          "title": "funsies: A minimalist, distributed and dynamic workflow engine"
         },
         {
          "DOI": "10.21105/joss.03521",
          "is-referenced-by-count": 0,
          "published.date-parts": "2021-09-19T00:00:00",
          "title": "buildH: Build hydrogen atoms from united-atom molecular dynamics of lipids and calculate the order parameters"
         },
         {
          "DOI": "10.21105/joss.03617",
          "is-referenced-by-count": 0,
          "published.date-parts": "2021-10-08T00:00:00",
          "title": "eyecite: A tool for parsing legal citations"
         },
         {
          "DOI": "10.21105/joss.03625",
          "is-referenced-by-count": 0,
          "published.date-parts": "2021-10-15T00:00:00",
          "title": "elmada: Dynamic electricity carbon emission factors and prices for Europe"
         },
         {
          "DOI": "10.21105/joss.03546",
          "is-referenced-by-count": 0,
          "published.date-parts": "2021-10-16T00:00:00",
          "title": "Reel1.0 - A visualization tool for evaluating powder diffraction refinements"
         },
         {
          "DOI": "10.21105/joss.03169",
          "is-referenced-by-count": 0,
          "published.date-parts": "2021-08-28T00:00:00",
          "title": "BIDSonym: a BIDS App for the pseudo-anonymization of neuroimaging datasets"
         },
         {
          "DOI": "10.21105/joss.00028",
          "is-referenced-by-count": 0,
          "published.date-parts": "2016-06-20T00:00:00",
          "title": "Phylogemetric: A Python library for calculating phylogenetic network metrics"
         },
         {
          "DOI": "10.21105/joss.03202",
          "is-referenced-by-count": 0,
          "published.date-parts": "2021-07-18T00:00:00",
          "title": "Traja: A Python toolbox for animal trajectory analysis"
         },
         {
          "DOI": "10.21105/jcon",
          "is-referenced-by-count": 0,
          "published.date-parts": "",
          "title": "JuliaCon Proceedings"
         },
         {
          "DOI": "10.21105/joss.03351",
          "is-referenced-by-count": 0,
          "published.date-parts": "2021-07-11T00:00:00",
          "title": "neworder: a dynamic microsimulation framework for Python"
         },
         {
          "DOI": "10.21105/joss.00182",
          "is-referenced-by-count": 0,
          "published.date-parts": "2017-03-07T00:00:00",
          "title": "Cine: Line excitation by infrared fluorescence in cometary atmospheres"
         },
         {
          "DOI": "10.21105/joss.00141",
          "is-referenced-by-count": 0,
          "published.date-parts": "2016-12-20T00:00:00",
          "title": "vbvs.concurrent: Fitting Methods for the Functional Linear Concurrent Model"
         },
         {
          "DOI": "10.21105/joss.00893",
          "is-referenced-by-count": 0,
          "published.date-parts": "2018-10-08T00:00:00",
          "title": "Estimating statistics from multi-state models using simulation with multistateutils"
         },
         {
          "DOI": "10.21105/joss.01069",
          "is-referenced-by-count": 0,
          "published.date-parts": "2018-11-14T00:00:00",
          "title": "hotsub: A batch job engine for cloud services with ETL framework"
         },
         {
          "DOI": "10.21105/joss.00967",
          "is-referenced-by-count": 0,
          "published.date-parts": "2018-10-12T00:00:00",
          "title": "compboost: Modular Framework for Component-Wise Boosting"
         },
         {
          "DOI": "10.21105/joss.00988",
          "is-referenced-by-count": 0,
          "published.date-parts": "2018-11-06T00:00:00",
          "title": "ipc: An R Package for Inter-process Communication"
         },
         {
          "DOI": "10.21105/joss.00961",
          "is-referenced-by-count": 0,
          "published.date-parts": "2018-11-06T00:00:00",
          "title": "survxai: an R package for structure-agnostic explanations of survival models"
         },
         {
          "DOI": "10.21105/joss.00910",
          "is-referenced-by-count": 0,
          "published.date-parts": "2018-08-27T00:00:00",
          "title": "datastructures: An R package for organisation and storage of data"
         },
         {
          "DOI": "10.21105/joss.00244",
          "is-referenced-by-count": 0,
          "published.date-parts": "2017-05-08T00:00:00",
          "title": "Pandarus: GIS toolkit for regionalized life cycle assessment"
         },
         {
          "DOI": "10.21105/joss.00651",
          "is-referenced-by-count": 0,
          "published.date-parts": "2018-06-18T00:00:00",
          "title": "mmappickle: Python 3 module to store memory-mapped numpy array in pickle format"
         },
         {
          "DOI": "10.21105/joss.00541",
          "is-referenced-by-count": 0,
          "published.date-parts": "2018-01-31T00:00:00",
          "title": "Bitstream – Binary Data for Humans"
         },
         {
          "DOI": "10.21105/joss.00475",
          "is-referenced-by-count": 0,
          "published.date-parts": "2017-12-04T00:00:00",
          "title": "An easy-to-use p5.js 3D object picker for visual artists"
         },
         {
          "DOI": "10.21105/joss.00307",
          "is-referenced-by-count": 0,
          "published.date-parts": "2017-08-13T00:00:00",
          "title": "root_numpy: The interface between ROOT and NumPy"
         },
         {
          "DOI": "10.21105/joss.00384",
          "is-referenced-by-count": 0,
          "published.date-parts": "2017-10-08T00:00:00",
          "title": "hmis: A python tool to visualize and analyze HMIS data"
         },
         {
          "DOI": "10.21105/joss.00372",
          "is-referenced-by-count": 0,
          "published.date-parts": "2017-09-08T00:00:00",
          "title": "Go-HEP: libraries for High Energy Physics analyses in Go"
         },
         {
          "DOI": "10.21105/joss.00820",
          "is-referenced-by-count": 0,
          "published.date-parts": "2018-11-25T00:00:00",
          "title": "WEdiff: A Python and C++ package for automatic differentiation"
         },
         {
          "DOI": "10.21105/joss.01216",
          "is-referenced-by-count": 0,
          "published.date-parts": "2019-02-17T00:00:00",
          "title": "straditize: Digitizing stratigraphic diagrams"
         },
         {
          "DOI": "10.21105/joss.01240",
          "is-referenced-by-count": 0,
          "published.date-parts": "2019-02-20T00:00:00",
          "title": "HyperNaut: a navigator for the hyperbolic plane"
         },
         {
          "DOI": "10.21105/joss.01260",
          "is-referenced-by-count": 0,
          "published.date-parts": "2019-02-26T00:00:00",
          "title": "getTBinR: an R package for accessing and summarising the World Health Organisation Tuberculosis data"
         },
         {
          "DOI": "10.21105/joss.00974",
          "is-referenced-by-count": 0,
          "published.date-parts": "2019-01-20T00:00:00",
          "title": "eights: BS 8888:2011 first angle projection drawings from FreeCAD 3D model"
         },
         {
          "DOI": "10.21105/joss.00445",
          "is-referenced-by-count": 0,
          "published.date-parts": "2019-03-13T00:00:00",
          "title": "CytobankAPIstats: Computes Signaling and Population Statistics for Cytometry Data on Cytobank using CytobankAPI"
         },
         {
          "DOI": "10.21105/joss.01209",
          "is-referenced-by-count": 0,
          "published.date-parts": "2019-03-20T00:00:00",
          "title": "pyscses: a PYthon Space-Charge Site-Explicit Solver"
         },
         {
          "DOI": "10.21105/joss.01160",
          "is-referenced-by-count": 0,
          "published.date-parts": "2019-02-12T00:00:00",
          "title": "RSeqAn: Headers and wrappers for the SeqAn library in R"
         },
         {
          "DOI": "10.21105/joss.01056",
          "is-referenced-by-count": 0,
          "published.date-parts": "2019-02-12T00:00:00",
          "title": "polyCub: An R package for Integration over Polygons"
         },
         {
          "DOI": "10.21105/joss.01313",
          "is-referenced-by-count": 0,
          "published.date-parts": "2019-04-27T00:00:00",
          "title": "ggparliament: A ggplot2 extension for parliament plots in R"
         },
         {
          "DOI": "10.21105/joss.01094",
          "is-referenced-by-count": 0,
          "published.date-parts": "2019-05-20T00:00:00",
          "title": "EMViz (Early Music Visualization): MATLAB runtime application"
         },
         {
          "DOI": "10.21105/joss.01520",
          "is-referenced-by-count": 0,
          "published.date-parts": "2019-07-10T00:00:00",
          "title": "CGIMP: Real-time exploration and covariate projection for self-organizing map datasets"
         },
         {
          "DOI": "10.21105/joss.01364",
          "is-referenced-by-count": 0,
          "published.date-parts": "2019-04-19T00:00:00",
          "title": "WGS2NCBI - Toolkit for preparing genomes for submission to NCBI"
         },
         {
          "DOI": "10.21105/joss.01768",
          "is-referenced-by-count": 0,
          "published.date-parts": "2019-12-04T00:00:00",
          "title": "bbsAssistant: An R package for downloading and handling data and information from the North American Breeding Bird Survey"
         },
         {
          "DOI": "10.21105/joss.01811",
          "is-referenced-by-count": 0,
          "published.date-parts": "2019-12-02T00:00:00",
          "title": "ComplexRegions.jl: A Julia package for regions in the complex plane"
         },
         {
          "DOI": "10.21105/joss.01820",
          "is-referenced-by-count": 0,
          "published.date-parts": "2019-11-20T00:00:00",
          "title": "memochange: An R package for estimation procedures and tests for persistent time series"
         },
         {
          "DOI": "10.21105/joss.02079",
          "is-referenced-by-count": 0,
          "published.date-parts": "2020-02-25T00:00:00",
          "title": "scPCA: A toolbox for sparse contrastive principal component analysis in R"
         },
         {
          "DOI": "10.21105/joss.01986",
          "is-referenced-by-count": 0,
          "published.date-parts": "2020-02-19T00:00:00",
          "title": "DAFSA: a Python library for Deterministic Acyclic Finite State Automata"
         },
         {
          "DOI": "10.21105/joss.01773",
          "is-referenced-by-count": 0,
          "published.date-parts": "2019-10-11T00:00:00",
          "title": "PYCV: a PLUMED 2 Module Enabling the Rapid Prototyping of Collective Variables in Python"
         },
         {
          "DOI": "10.21105/joss.01531",
          "is-referenced-by-count": 0,
          "published.date-parts": "2019-07-23T00:00:00",
          "title": "Tools for Prototyping with 3D Ultrasonics in ROS"
         },
         {
          "DOI": "10.21105/joss.01539",
          "is-referenced-by-count": 0,
          "published.date-parts": "2019-09-24T00:00:00",
          "title": "pulse: A python package based on FEniCS for solving problems in cardiac mechanics"
         },
         {
          "DOI": "10.21105/joss.01337",
          "is-referenced-by-count": 0,
          "published.date-parts": "2019-10-27T00:00:00",
          "title": "LGP: A robust Linear Genetic Programming implementation on the JVM using Kotlin."
         },
         {
          "DOI": "10.21105/joss.01572",
          "is-referenced-by-count": 0,
          "published.date-parts": "2019-07-30T00:00:00",
          "title": "lfda: Local Fisher Discriminant Analysis in R"
         },
         {
          "DOI": "10.21105/joss.01592",
          "is-referenced-by-count": 0,
          "published.date-parts": "2019-08-26T00:00:00",
          "title": "Simple-Web-Server: a fast and flexible HTTP/1.1 C++ client and server library"
         },
         {
          "DOI": "10.21105/joss.02419",
          "is-referenced-by-count": 0,
          "published.date-parts": "2020-07-01T00:00:00",
          "title": "chirps: API Client for the CHIRPS Precipitation Data in R"
         },
         {
          "DOI": "10.21105/astro.2002.03890",
          "is-referenced-by-count": 0,
          "published.date-parts": "2020-04-28T00:00:00",
          "title": "Discrete Chi-square Method for Detecting Many Signals"
         },
         {
          "DOI": "10.21105/astro.2006.09391",
          "is-referenced-by-count": 0,
          "published.date-parts": "2020-09-15T00:00:00",
          "title": "Two-component mass models of the lensing galaxy in the quadruply imaged supernova iPTF16geu"
         },
         {
          "DOI": "10.21105/astro.1912.11677",
          "is-referenced-by-count": 0,
          "published.date-parts": "2020-07-31T00:00:00",
          "title": "Cosmic event horizons and the light-speed limit for relative radial motion"
         },
         {
          "DOI": "10.21105/jcon.00053",
          "is-referenced-by-count": 0,
          "published.date-parts": "2020-07-30T00:00:00",
          "title": "GlobalSearchRegression.jl: \\ Building bridges between Machine Learning and Econometrics in Fat-Data scenarios"
         },
         {
          "DOI": "10.21105/joss.02637",
          "is-referenced-by-count": 0,
          "published.date-parts": "2020-10-27T00:00:00",
          "title": "pvpumpingsystem: A Python package for modeling and sizing photovoltaic water pumping systems"
         },
         {
          "DOI": "10.21105/joss.02624",
          "is-referenced-by-count": 0,
          "published.date-parts": "2020-10-18T00:00:00",
          "title": "DiffCapAnalyzer: A Python Package for Quantitative Analysis of Total Differential Capacity Data"
         },
         {
          "DOI": "10.21105/joss.02762",
          "is-referenced-by-count": 0,
          "published.date-parts": "2020-10-26T00:00:00",
          "title": "mcbette: model comparison using babette"
         },
         {
          "DOI": "10.21105/joss.03145",
          "is-referenced-by-count": 0,
          "published.date-parts": "2021-05-30T00:00:00",
          "title": "ExaFMM: a high-performance fast multipole method library with C++ and Python interfaces"
         },
         {
          "DOI": "10.21105/joss.02407",
          "is-referenced-by-count": 0,
          "published.date-parts": "2020-11-05T00:00:00",
          "title": "IPART: A Python Package for Image-Processing based Atmospheric River Tracking"
         },
         {
          "DOI": "10.21105/joss.02685",
          "is-referenced-by-count": 0,
          "published.date-parts": "2020-11-16T00:00:00",
          "title": "DE-Sim: an object-oriented, discrete-event simulation tool for data-intensive modeling of complex systems in Python"
         },
         {
          "DOI": "10.21105/joss.02797",
          "is-referenced-by-count": 0,
          "published.date-parts": "2020-11-24T00:00:00",
          "title": "AtomNeb Python Package, an addendum to AtomNeb: IDL Library for Atomic Data of Ionized Nebulae"
         },
         {
          "DOI": "10.21105/joss.02402",
          "is-referenced-by-count": 0,
          "published.date-parts": "2020-10-10T00:00:00",
          "title": "Bioassays: a new package in R for analyzing cellular assays"
         },
         {
          "DOI": "10.21105/joss.02765",
          "is-referenced-by-count": 0,
          "published.date-parts": "2021-01-19T00:00:00",
          "title": "ELDAM: A Python software for Life Cycle Inventory data management"
         },
         {
          "DOI": "10.21105/joss.02769",
          "is-referenced-by-count": 0,
          "published.date-parts": "2021-03-31T00:00:00",
          "title": "ropenblas: Download, Compile and Link OpenBLAS Library with R"
         },
         {
          "DOI": "10.21105/joss.03002",
          "is-referenced-by-count": 0,
          "published.date-parts": "2021-04-06T00:00:00",
          "title": "NLSIG-COVID19Lab: A modern logistic-growth tool (nlogistic-sigmoid) for descriptively modelling the dynamics of the COVID-19 pandemic process"
         },
         {
          "DOI": "10.21105/joss.02810",
          "is-referenced-by-count": 0,
          "published.date-parts": "2021-02-21T00:00:00",
          "title": "PRDA: An R package for Prospective and Retrospective Design Analysis"
         },
         {
          "DOI": "10.21105/jose.00102",
          "is-referenced-by-count": 0,
          "published.date-parts": "2021-04-27T00:00:00",
          "title": "StarBLAST: a scalable BLAST+ solution for the classroom"
         },
         {
          "DOI": "10.21105/joss.02992",
          "is-referenced-by-count": 0,
          "published.date-parts": "2021-04-07T00:00:00",
          "title": "RBF: An R package to compute a robust backfitting estimator for additive models"
         },
         {
          "DOI": "10.21105/joss.02696",
          "is-referenced-by-count": 0,
          "published.date-parts": "2021-04-15T00:00:00",
          "title": "ObsPlus: A Pandas-centric ObsPy expansion pack"
         },
         {
          "DOI": "10.21105/joss.03166",
          "is-referenced-by-count": 0,
          "published.date-parts": "2021-05-02T00:00:00",
          "title": "datasailr - An R Package for Row by Row Data Processing, Using DataSailr Script"
         },
         {
          "DOI": "10.21105/joss.02676",
          "is-referenced-by-count": 0,
          "published.date-parts": "2020-12-05T00:00:00",
          "title": "SCALAR - A Platform for Real-time Machine Learning Competitions on Data Streams"
         },
         {
          "DOI": "10.21105/joss.02824",
          "is-referenced-by-count": 0,
          "published.date-parts": "2021-03-04T00:00:00",
          "title": "polypy - Analysis Tools for Solid State Molecular Dynamics and Monte Carlo Trajectories"
         },
         {
          "DOI": "10.21105/joss.02968",
          "is-referenced-by-count": 0,
          "published.date-parts": "2021-03-10T00:00:00",
          "title": "Riroriro: Simulating gravitational waves and evaluating their detectability in Python"
         },
         {
          "DOI": "10.21105/joss.02578",
          "is-referenced-by-count": 0,
          "published.date-parts": "2021-03-04T00:00:00",
          "title": "Off-resonance CorrecTion OPen soUrce Software (OCTOPUS)"
         },
         {
          "DOI": "10.21105/joss.02965",
          "is-referenced-by-count": 0,
          "published.date-parts": "2021-03-02T00:00:00",
          "title": "lidar: A Python package for delineating nested surface depressions from digital elevation data"
         },
         {
          "DOI": "10.21105/joss.02721",
          "is-referenced-by-count": 0,
          "published.date-parts": "2021-05-05T00:00:00",
          "title": "Mangal.jl and EcologicalNetworks.jl: Two complementary packages for analyzing ecological networks in Julia"
         },
         {
          "DOI": "10.21105/joss.03042",
          "is-referenced-by-count": 0,
          "published.date-parts": "2021-05-03T00:00:00",
          "title": "fastPLI: A Fiber Architecture Simulation Toolbox for 3D-PLI"
         },
         {
          "DOI": "10.21105/joss.03544",
          "is-referenced-by-count": 0,
          "published.date-parts": "2021-09-09T00:00:00",
          "title": "tidygeocoder: An R package for geocoding"
         },
         {
          "DOI": "10.21105/joss.03661",
          "is-referenced-by-count": 0,
          "published.date-parts": "2021-09-16T00:00:00",
          "title": "infer: An R package for tidyverse-friendly statistical inference"
         },
         {
          "DOI": "10.21105/joss.03191",
          "is-referenced-by-count": 0,
          "published.date-parts": "2021-05-17T00:00:00",
          "title": "Analysis of Prehistoric Iconography with the R package iconr"
         },
         {
          "DOI": "10.21105/joss.03482",
          "is-referenced-by-count": 0,
          "published.date-parts": "2021-09-28T00:00:00",
          "title": "LDDS: Python package for computing and visualizing Lagrangian Descriptors for Dynamical Systems"
         },
         {
          "DOI": "10.21105/joss.03653",
          "is-referenced-by-count": 0,
          "published.date-parts": "2021-09-28T00:00:00",
          "title": "SiSyPHE: A Python package for the Simulation of Systems of interacting mean-field Particles with High Efficiency"
         },
         {
          "DOI": "10.21105/joss.03190",
          "is-referenced-by-count": 0,
          "published.date-parts": "2021-07-29T00:00:00",
          "title": "PXO (Poly-XTAL Operations): MATLAB Codebase to Generate, Analyse and Export Complex 2D Spatio-Temporally Gradient Grain Structures"
         },
         {
          "DOI": "10.21105/joss.03484",
          "is-referenced-by-count": 0,
          "published.date-parts": "2021-08-11T00:00:00",
          "title": "SurPyval: Survival Analysis with Python"
         },
         {
          "DOI": "10.21105/joss.03419",
          "is-referenced-by-count": 0,
          "published.date-parts": "2021-09-01T00:00:00",
          "title": "mpi4jax: Zero-copy MPI communication of JAX arrays"
         },
         {
          "DOI": "10.21105/joss.03349",
          "is-referenced-by-count": 0,
          "published.date-parts": "2021-09-01T00:00:00",
          "title": "Makie.jl: Flexible high-performance data visualization for Julia"
         },
         {
          "DOI": "10.21105/joss.03221",
          "is-referenced-by-count": 0,
          "published.date-parts": "2021-06-24T00:00:00",
          "title": "mosartwmpy: A Python implementation of the MOSART-WM coupled hydrologic routing and water management model"
         },
         {
          "DOI": "10.21105/joss.02842",
          "is-referenced-by-count": 0,
          "published.date-parts": "2021-06-25T00:00:00",
          "title": "h5fortran: object-oriented polymorphic Fortran interface for HDF5 file IO"
         },
         {
          "DOI": "10.21105/joss.03311",
          "is-referenced-by-count": 0,
          "published.date-parts": "2021-07-20T00:00:00",
          "title": "Collaborative Container Modules with Singularity Registry HPC"
         },
         {
          "DOI": "10.21105/joss.03159",
          "is-referenced-by-count": 0,
          "published.date-parts": "2021-07-14T00:00:00",
          "title": "fctSnPM: Factorial ANOVA and post-hoc tests for Statistical nonParametric Mapping in MATLAB"
         },
         {
          "DOI": "10.21105/joss.02484",
          "is-referenced-by-count": 0,
          "published.date-parts": "2021-06-17T00:00:00",
          "title": "Science Capsule - Capturing the Data Life Cycle"
         },
         {
          "DOI": "10.21105/joss.02946",
          "is-referenced-by-count": 0,
          "published.date-parts": "2021-06-16T00:00:00",
          "title": "sboxgates: A program for finding low gate count implementations of S-boxes"
         },
         {
          "DOI": "10.21105/joss.03374",
          "is-referenced-by-count": 0,
          "published.date-parts": "2021-08-14T00:00:00",
          "title": "JPhyloRef: a tool for testing and resolving phyloreferences"
         },
         {
          "DOI": "10.21105/joss.02095",
          "is-referenced-by-count": 0,
          "published.date-parts": "2021-08-16T00:00:00",
          "title": "SARAS: A general-purpose PDE solver for fluid dynamics"
         },
         {
          "DOI": "10.21105/joss.03424",
          "is-referenced-by-count": 0,
          "published.date-parts": "2021-08-23T00:00:00",
          "title": "Abmarl: Connecting Agent-Based Simulations with Multi-Agent Reinforcement Learning"
         },
         {
          "DOI": "10.21105/joss.03324",
          "is-referenced-by-count": 0,
          "published.date-parts": "2021-08-23T00:00:00",
          "title": "bwsample: Processing Best-Worst Scaling data"
         },
         {
          "DOI": "10.21105/joss.03497",
          "is-referenced-by-count": 0,
          "published.date-parts": "2021-08-24T00:00:00",
          "title": "Lerche: Generating data file processors in Julia from EBNF grammars"
         },
         {
          "DOI": "10.21105/joss.03635",
          "is-referenced-by-count": 0,
          "published.date-parts": "2021-09-03T00:00:00",
          "title": "AstronomicAL: an interactive dashboard for visualisation, integration and classification of data with Active Learning"
         },
         {
          "DOI": "10.21105/joss.03173",
          "is-referenced-by-count": 0,
          "published.date-parts": "2021-10-07T00:00:00",
          "title": "Ngesh: a Python library for synthetic phylogenetic data"
         },
         {
          "DOI": "10.21105/joss.03495",
          "is-referenced-by-count": 0,
          "published.date-parts": "2021-09-13T00:00:00",
          "title": "lhorizon: geometry and targeting via JPL Horizons"
         },
         {
          "DOI": "10.21105/joss.03702",
          "is-referenced-by-count": 0,
          "published.date-parts": "2021-10-12T00:00:00",
          "title": "BioPsyKit: A Python package for the analysis of biopsychological data"
         },
         {
          "DOI": "10.21105/joss.03677",
          "is-referenced-by-count": 0,
          "published.date-parts": "2021-10-14T00:00:00",
          "title": "ShUShER: private browser-based placement of sensitive genome samples on phylogenetic trees"
         },
         {
          "DOI": "10.21105/joss.02362",
          "is-referenced-by-count": 0,
          "published.date-parts": "2021-02-04T00:00:00",
          "title": "AutoFunc: A Python package for automating and verifying functional modeling"
         },
         {
          "DOI": "10.21105/joss.02107",
          "is-referenced-by-count": 0,
          "published.date-parts": "2021-02-10T00:00:00",
          "title": "SampleDB: A sample and measurement metadata database"
         },
         {
          "DOI": "10.21105/joss.02690",
          "is-referenced-by-count": 0,
          "published.date-parts": "2021-01-28T00:00:00",
          "title": "GeoBO: Python package for Multi-Objective Bayesian Optimisation and Joint Inversion in Geosciences"
         },
         {
          "DOI": "10.21105/joss.02291",
          "is-referenced-by-count": 0,
          "published.date-parts": "2020-12-11T00:00:00",
          "title": "Frackit: a framework for stochastic fracture network generation and analysis"
         },
         {
          "DOI": "10.21105/joss.02827",
          "is-referenced-by-count": 0,
          "published.date-parts": "2021-02-21T00:00:00",
          "title": "MiTfAT: A Python-based Analysis Tool for Molecular fMRI Experiments."
         },
         {
          "DOI": "10.21105/joss.02831",
          "is-referenced-by-count": 0,
          "published.date-parts": "2021-03-21T00:00:00",
          "title": "BVPy: A FEniCS-based Python package to ease the expression and study of boundary value problems in Biology."
         },
         {
          "DOI": "10.21105/joss.00256",
          "is-referenced-by-count": 0,
          "published.date-parts": "2017-05-11T00:00:00",
          "title": "Virtual Bumblebees Artificial Life Simulation"
         },
         {
          "DOI": "10.21105/joss.00209",
          "is-referenced-by-count": 0,
          "published.date-parts": "2017-03-27T00:00:00",
          "title": "Ramble: Parser Combinator for R"
         },
         {
          "DOI": "10.21105/joss.03115",
          "is-referenced-by-count": 0,
          "published.date-parts": "2021-05-13T00:00:00",
          "title": "PyGModels: A Python package for exploring Probabilistic Graphical Models with Graph Theoretical Structures"
         },
         {
          "DOI": "10.21105/joss.00040",
          "is-referenced-by-count": 0,
          "published.date-parts": "2016-08-04T00:00:00",
          "title": "PsychoPhysioCollector: A Smartphone-Based Data Collection App for Psychophysiological Research"
         },
         {
          "DOI": "10.21105/joss.00041",
          "is-referenced-by-count": 0,
          "published.date-parts": "2016-09-09T00:00:00",
          "title": "PsychoPhysioPipeline: A Processing and Analysis Pipeline for Psychophysiological Research"
         },
         {
          "DOI": "10.21105/joss.00412",
          "is-referenced-by-count": 0,
          "published.date-parts": "2017-10-17T00:00:00",
          "title": "geneXplainR: An R interface for the geneXplain platform"
         },
         {
          "DOI": "10.21105/joss.00361",
          "is-referenced-by-count": 0,
          "published.date-parts": "2018-02-05T00:00:00",
          "title": "prisonbrief: An R package that returns tidy data from the World Prison Brief website"
         },
         {
          "DOI": "10.21105/joss.00826",
          "is-referenced-by-count": 0,
          "published.date-parts": "2018-08-09T00:00:00",
          "title": "BAMnostic: an OS-agnostic toolkit for genomic sequence analysis"
         },
         {
          "DOI": "10.21105/joss.00973",
          "is-referenced-by-count": 0,
          "published.date-parts": "2018-10-18T00:00:00",
          "title": "bem: modeling for neutron Bragg-edge imaging"
         },
         {
          "DOI": "10.21105/jose.00029",
          "is-referenced-by-count": 0,
          "published.date-parts": "2018-10-24T00:00:00",
          "title": "Mikrokosmos: an educational lambda calculus interpreter"
         },
         {
          "DOI": "10.21105/joss.00639",
          "is-referenced-by-count": 0,
          "published.date-parts": "2018-04-26T00:00:00",
          "title": "LearnSAT: A SAT Solver for Education"
         },
         {
          "DOI": "10.21105/joss.00581",
          "is-referenced-by-count": 0,
          "published.date-parts": "2018-02-20T00:00:00",
          "title": "h5preserve: Thin wrapper around h5py, inspired by camel"
         },
         {
          "DOI": "10.21105/joss.01018",
          "is-referenced-by-count": 0,
          "published.date-parts": "2018-12-06T00:00:00",
          "title": "| SWEpy: A Python Library for Quick and Easy Access and Manipulation of MEaSUREs CETB Files for SWE Analysis"
         },
         {
          "DOI": "10.21105/joss.00764",
          "is-referenced-by-count": 0,
          "published.date-parts": "2019-02-27T00:00:00",
          "title": "Sentiment Analysis of Twitter Data (saotd)"
         },
         {
          "DOI": "10.21105/joss.01130",
          "is-referenced-by-count": 0,
          "published.date-parts": "2019-02-14T00:00:00",
          "title": "arcesetc: ARC Echelle Spectrograph Exposure Time Calculator"
         },
         {
          "DOI": "10.21105/joss.01076",
          "is-referenced-by-count": 0,
          "published.date-parts": "2019-03-29T00:00:00",
          "title": "idvf: Iterative Inversion of Deformation Vector Field with Adaptive Bi-residual Feedback Control"
         },
         {
          "DOI": "10.21105/joss.03389",
          "is-referenced-by-count": 0,
          "published.date-parts": "2021-08-24T00:00:00",
          "title": "model-traits: Model attribute definitions for scientific simulations in C++"
         },
         {
          "DOI": "10.21105/joss.03298",
          "is-referenced-by-count": 0,
          "published.date-parts": "2021-08-31T00:00:00",
          "title": "RustBCA: A High-Performance Binary-Collision-Approximation Code for Ion-Material Interactions"
         },
         {
          "DOI": "10.21105/joss.01278",
          "is-referenced-by-count": 0,
          "published.date-parts": "2019-07-01T00:00:00",
          "title": "A Julia package for bilevel optimization problems"
         },
         {
          "DOI": "10.21105/joss.01505",
          "is-referenced-by-count": 0,
          "published.date-parts": "2019-07-02T00:00:00",
          "title": "fitODBOD: An R Package to Model Binomial Outcome Data using Binomial Mixture and Alternate Binomial Distributions."
         },
         {
          "DOI": "10.21105/joss.01435",
          "is-referenced-by-count": 0,
          "published.date-parts": "2019-06-30T00:00:00",
          "title": "qtl2pleio: Testing pleiotropy vs. separate QTL in multiparental populations"
         },
         {
          "DOI": "10.21105/joss.01255",
          "is-referenced-by-count": 0,
          "published.date-parts": "2019-05-01T00:00:00",
          "title": "Compare Expression Profiles for Pre-defined Gene Groups with C-REx"
         },
         {
          "DOI": "10.21105/joss.01363",
          "is-referenced-by-count": 0,
          "published.date-parts": "2019-05-28T00:00:00",
          "title": "ACHR.cu: GPU-accelerated sampling of metabolic networks"
         },
         {
          "DOI": "10.21105/joss.01445",
          "is-referenced-by-count": 0,
          "published.date-parts": "2019-06-14T00:00:00",
          "title": "FSharpGephiStreamer: An idiomatic bridge between F# and network visualization"
         },
         {
          "DOI": "10.21105/joss.01352",
          "is-referenced-by-count": 0,
          "published.date-parts": "2019-05-09T00:00:00",
          "title": "prysm: A Python optics module"
         },
         {
          "DOI": "10.21105/joss.01462",
          "is-referenced-by-count": 0,
          "published.date-parts": "2019-06-17T00:00:00",
          "title": "tidyqwi: A Tidy Approach to Accessing The US Census Bureau's Quarterly Workforce Indicators"
         },
         {
          "DOI": "10.21105/joss.02026",
          "is-referenced-by-count": 0,
          "published.date-parts": "2020-02-09T00:00:00",
          "title": "ExTemp: A computational and image-processing suite for extracting temporal barcodes"
         },
         {
          "DOI": "10.21105/astro.1905.13189",
          "is-referenced-by-count": 0,
          "published.date-parts": "2020-01-08T00:00:00",
          "title": "A Beginner's Guide to Working with Astronomical Data"
         },
         {
          "DOI": "10.21105/joss.02076",
          "is-referenced-by-count": 0,
          "published.date-parts": "2020-03-01T00:00:00",
          "title": "fqfa: A pure Python package for genomic sequence files"
         },
         {
          "DOI": "10.21105/joss.01983",
          "is-referenced-by-count": 0,
          "published.date-parts": "2020-03-18T00:00:00",
          "title": "OrNet - a Python Toolkit to Model the Diffuse Structure of Organelles as Social Networks"
         },
         {
          "DOI": "10.21105/joss.02105",
          "is-referenced-by-count": 0,
          "published.date-parts": "2020-03-09T00:00:00",
          "title": "MaterialNet: A web-based graph explorer for materials science data"
         },
         {
          "DOI": "10.21105/joss.01941",
          "is-referenced-by-count": 0,
          "published.date-parts": "2020-03-17T00:00:00",
          "title": "profileR: An R package for profile analysis"
         },
         {
          "DOI": "10.21105/joss.02043",
          "is-referenced-by-count": 0,
          "published.date-parts": "2020-03-17T00:00:00",
          "title": "SeisModels.jl: A Julia package for models of the Earth's interior"
         },
         {
          "DOI": "10.21105/joss.01761",
          "is-referenced-by-count": 0,
          "published.date-parts": "2019-12-06T00:00:00",
          "title": "xrnet: Hierarchical Regularized Regression to Incorporate External Data"
         },
         {
          "DOI": "10.21105/joss.01628",
          "is-referenced-by-count": 0,
          "published.date-parts": "2019-08-31T00:00:00",
          "title": "Pannellum: a lightweight web-based panorama viewer"
         },
         {
          "DOI": "10.21105/jose.00065",
          "is-referenced-by-count": 0,
          "published.date-parts": "2019-09-02T00:00:00",
          "title": "BeamBending: a teaching aid for 1-D shear force and bending moment diagrams"
         },
         {
          "DOI": "10.21105/joss.01620",
          "is-referenced-by-count": 0,
          "published.date-parts": "2019-11-21T00:00:00",
          "title": "Eyestream: An Open WebSocket-based Middleware for Serializing and Streaming Eye Tracker Event Data from Gazepoint GP3 HD Research Hardware"
         },
         {
          "DOI": "10.21105/joss.01777",
          "is-referenced-by-count": 0,
          "published.date-parts": "2019-10-31T00:00:00",
          "title": "pymccrgb: Color- and curvature-based classification of multispectral point clouds in Python"
         },
         {
          "DOI": "10.21105/joss.01570",
          "is-referenced-by-count": 0,
          "published.date-parts": "2019-10-29T00:00:00",
          "title": "phasespace: n-body phase space generation in Python"
         },
         {
          "DOI": "10.21105/joss.01578",
          "is-referenced-by-count": 0,
          "published.date-parts": "2019-08-26T00:00:00",
          "title": "Singularity Compose: Orchestration for Singularity Instances"
         },
         {
          "DOI": "10.21105/astro.2006.03582",
          "is-referenced-by-count": 0,
          "published.date-parts": "2020-07-29T00:00:00",
          "title": "The one that got away: a unique eclipse in the young brown dwarf Roque 12"
         },
         {
          "DOI": "10.21105/joss.02412",
          "is-referenced-by-count": 0,
          "published.date-parts": "2020-07-27T00:00:00",
          "title": "toughio: Pre- and post-processing Python library for TOUGH"
         },
         {
          "DOI": "10.21105/jcon.00015",
          "is-referenced-by-count": 0,
          "published.date-parts": "2020-07-26T00:00:00",
          "title": "A general-purpose toolbox for efficient Kronecker-based learning"
         },
         {
          "DOI": "10.21105/joss.02927",
          "is-referenced-by-count": 0,
          "published.date-parts": "2021-05-08T00:00:00",
          "title": "bcdata: An R package for searching  retrieving data from the B.C. Data Catalogue"
         },
         {
          "DOI": "10.21105/joss.02400",
          "is-referenced-by-count": 0,
          "published.date-parts": "2020-07-28T00:00:00",
          "title": "GPP, the Generic Preprocessor"
         },
         {
          "DOI": "10.21105/joss.01958",
          "is-referenced-by-count": 0,
          "published.date-parts": "2020-05-10T00:00:00",
          "title": "LFSpy: A Python Implementation of Local Feature Selection for Data Classification with scikit-learn Compatibility"
         },
         {
          "DOI": "10.21105/joss.02183",
          "is-referenced-by-count": 0,
          "published.date-parts": "2020-09-08T00:00:00",
          "title": "Scripts for Easier Use of Spice (SEUS): A Perl script package for simulating and creating batches of circuit netlists for Monte Carlo simulations when using Ngspice or Ngspice-based simulators"
         },
         {
          "DOI": "10.21105/joss.02044",
          "is-referenced-by-count": 0,
          "published.date-parts": "2020-08-31T00:00:00",
          "title": "NEEP: null empirically estimated p-values for high-throughput molecular survival analysis"
         },
         {
          "DOI": "10.21105/joss.02581",
          "is-referenced-by-count": 0,
          "published.date-parts": "2020-08-26T00:00:00",
          "title": "SALSA: A Python Package for Constructing Synthetic Quasar Absorption Line Catalogs from Astrophysical Hydrodynamic Simulations"
         },
         {
          "DOI": "10.21105/joss.02556",
          "is-referenced-by-count": 0,
          "published.date-parts": "2020-09-05T00:00:00",
          "title": "SeroTools: a Python package for Salmonella serotype data analysis"
         },
         {
          "DOI": "10.21105/joss.02182",
          "is-referenced-by-count": 0,
          "published.date-parts": "2020-09-17T00:00:00",
          "title": "VlaPy: A Python package for Eulerian Vlasov-Poisson-Fokker-Planck Simulations"
         },
         {
          "DOI": "10.21105/joss.02497",
          "is-referenced-by-count": 0,
          "published.date-parts": "2020-10-30T00:00:00",
          "title": "ocean_data_tools: A MATLAB toolbox for interacting with bulk freely-available oceanographic data"
         },
         {
          "DOI": "10.21105/joss.02598",
          "is-referenced-by-count": 0,
          "published.date-parts": "2020-11-12T00:00:00",
          "title": "set6: R6 Mathematical Sets Interface"
         },
         {
          "DOI": "10.21105/joss.02461",
          "is-referenced-by-count": 0,
          "published.date-parts": "2020-11-10T00:00:00",
          "title": "oolong: An R package for validating  automated content analysis tools"
         },
         {
          "DOI": "10.21105/joss.02654",
          "is-referenced-by-count": 0,
          "published.date-parts": "2020-09-24T00:00:00",
          "title": "PyCS3: A Python toolbox for time-delay measurements in lensed quasars"
         },
         {
          "DOI": "10.21105/joss.02473",
          "is-referenced-by-count": 0,
          "published.date-parts": "2020-10-12T00:00:00",
          "title": "CPgeneProfiler: A lightweight R package to profile the Carbapenamase genes from genome assemblies"
         },
         {
          "DOI": "10.21105/joss.02678",
          "is-referenced-by-count": 0,
          "published.date-parts": "2020-10-26T00:00:00",
          "title": "Peacock.jl: Photonic crystals in Julia"
         },
         {
          "DOI": "10.21105/joss.02673",
          "is-referenced-by-count": 0,
          "published.date-parts": "2020-10-29T00:00:00",
          "title": "DrWatson: the perfect sidekick for your scientific inquiries"
         },
         {
          "DOI": "10.21105/joss.03224",
          "is-referenced-by-count": 0,
          "published.date-parts": "2021-07-12T00:00:00",
          "title": "INCHEM-Py: An open source Python box model for indoor air chemistry"
         },
         {
          "DOI": "10.21105/jose.00059",
          "is-referenced-by-count": 0,
          "published.date-parts": "2021-07-14T00:00:00",
          "title": "mLEARn: An Implementation of Multi-layer Perceptron in C++"
         },
         {
          "DOI": "10.21105/joss.02878",
          "is-referenced-by-count": 0,
          "published.date-parts": "2021-05-01T00:00:00",
          "title": "Isoreader: An R package to read stable isotope data files for reproducible research"
         },
         {
          "DOI": "10.21105/joss.02964",
          "is-referenced-by-count": 0,
          "published.date-parts": "2021-05-06T00:00:00",
          "title": "registr 2.0: Incomplete Curve Registration for Exponential Family Functional Data"
         },
         {
          "DOI": "10.21105/joss.02693",
          "is-referenced-by-count": 0,
          "published.date-parts": "2020-11-24T00:00:00",
          "title": "PyAstroPol: A Python package for the instrumental polarization analysis of the astronomical optics."
         },
         {
          "DOI": "10.21105/joss.02890",
          "is-referenced-by-count": 0,
          "published.date-parts": "2021-03-30T00:00:00",
          "title": "ambrosia: An R package for calculating and analyzing food demand that is responsive to changing incomes and prices"
         },
         {
          "DOI": "10.21105/joss.03050",
          "is-referenced-by-count": 0,
          "published.date-parts": "2021-04-15T00:00:00",
          "title": "kallisto: A command-line interface to simplify computational modelling and the generation of atomic features"
         },
         {
          "DOI": "10.21105/joss.03118",
          "is-referenced-by-count": 0,
          "published.date-parts": "2021-04-14T00:00:00",
          "title": "presize: An R-package for precision-based sample size calculation in clinical research"
         },
         {
          "DOI": "10.21105/joss.03153",
          "is-referenced-by-count": 0,
          "published.date-parts": "2021-04-21T00:00:00",
          "title": "TRUNAJOD: A text complexity library to enhance natural language processing"
         },
         {
          "DOI": "10.21105/joss.03074",
          "is-referenced-by-count": 0,
          "published.date-parts": "2021-04-06T00:00:00",
          "title": "gaussplotR: Fit, Predict and Plot 2D-Gaussians in R"
         },
         {
          "DOI": "10.21105/joss.03009",
          "is-referenced-by-count": 0,
          "published.date-parts": "2021-03-01T00:00:00",
          "title": "Generating fragment density plots in R/Bioconductor with VplotR"
         },
         {
          "DOI": "10.21105/joss.02293",
          "is-referenced-by-count": 0,
          "published.date-parts": "2020-06-19T00:00:00",
          "title": "StoSpa2: A C++ software package for stochastic simulations of spatially extended systems"
         },
         {
          "DOI": "10.21105/astro.2103.00281",
          "is-referenced-by-count": 0,
          "published.date-parts": "2021-07-06T00:00:00",
          "title": "Gravitational Wave Direct Detection does not Constrain the Tensor Spectral Index at CMB Scales"
         },
         {
          "DOI": "10.21105/joss.03055",
          "is-referenced-by-count": 0,
          "published.date-parts": "2021-07-25T00:00:00",
          "title": "uDALES: large-eddy-simulation software for urban flow, dispersion, and microclimate modelling"
         },
         {
          "DOI": "10.21105/joss.03435",
          "is-referenced-by-count": 0,
          "published.date-parts": "2021-07-23T00:00:00",
          "title": "pollucheck v1.0: A package to explore open-source air pollution data"
         },
         {
          "DOI": "10.21105/joss.02606",
          "is-referenced-by-count": 0,
          "published.date-parts": "2021-10-19T00:00:00",
          "title": "TorchGAN: A Flexible Framework for GAN Training and Evaluation"
         },
         {
          "DOI": "10.21105/astro.2108.13418",
          "is-referenced-by-count": 0,
          "published.date-parts": "2021-10-19T00:00:00",
          "title": "The LSST-DESC 3x2pt Tomography Optimization Challenge"
         },
         {
          "DOI": "10.21105/joss.02876",
          "is-referenced-by-count": 0,
          "published.date-parts": "2021-05-23T00:00:00",
          "title": "The nnlib2 library and nnlib2Rcpp R package for implementing neural networks"
         },
         {
          "DOI": "10.21105/jose.00078",
          "is-referenced-by-count": 0,
          "published.date-parts": "2021-05-24T00:00:00",
          "title": "Game Theory and Python: An educational tutorial to game theory and repeated games using Python"
         },
         {
          "DOI": "10.21105/joss.02826",
          "is-referenced-by-count": 0,
          "published.date-parts": "2021-06-04T00:00:00",
          "title": "spaghetti: spatial network analysis in PySAL"
         },
         {
          "DOI": "10.21105/joss.02989",
          "is-referenced-by-count": 0,
          "published.date-parts": "2021-06-12T00:00:00",
          "title": "pygamma-agreement: Gamma $\\gamma$ measure for inter/intra-annotator agreement in Python"
         },
         {
          "DOI": "10.21105/joss.03203",
          "is-referenced-by-count": 0,
          "published.date-parts": "2021-08-06T00:00:00",
          "title": "autumn: A Python library for dynamic modelling of captured CO~2~ cost potential curves"
         },
         {
          "DOI": "10.21105/joss.03556",
          "is-referenced-by-count": 0,
          "published.date-parts": "2021-08-24T00:00:00",
          "title": "Symfem: a symbolic finite element definition library"
         },
         {
          "DOI": "10.21105/joss.03397",
          "is-referenced-by-count": 0,
          "published.date-parts": "2021-08-25T00:00:00",
          "title": "PyEI: A Python package for ecological inference"
         },
         {
          "DOI": "10.21105/joss.02863",
          "is-referenced-by-count": 0,
          "published.date-parts": "2021-09-24T00:00:00",
          "title": "Synthia: multidimensional synthetic data generation in Python"
         },
         {
          "DOI": "10.21105/jose.00089",
          "is-referenced-by-count": 0,
          "published.date-parts": "2021-06-27T00:00:00",
          "title": "An open source crash course on parameter estimation of computational models using a Bayesian optimization approach"
         },
         {
          "DOI": "10.21105/joss.03455",
          "is-referenced-by-count": 0,
          "published.date-parts": "2021-08-06T00:00:00",
          "title": "Biosensor Framework: A C# Library for Affective Computing"
         },
         {
          "DOI": "10.21105/joss.02766",
          "is-referenced-by-count": 0,
          "published.date-parts": "2021-06-15T00:00:00",
          "title": "OpenSCM Two Layer Model: A Python implementation of the two-layer climate model"
         },
         {
          "DOI": "10.21105/joss.03127",
          "is-referenced-by-count": 0,
          "published.date-parts": "2021-06-08T00:00:00",
          "title": "FitBenchmarking: an open source Python package comparing data fitting software"
         },
         {
          "DOI": "10.21105/joss.03296",
          "is-referenced-by-count": 0,
          "published.date-parts": "2021-06-27T00:00:00",
          "title": "Reiz: Structural Source Code Search"
         },
         {
          "DOI": "10.21105/joss.03666",
          "is-referenced-by-count": 0,
          "published.date-parts": "2021-10-13T00:00:00",
          "title": "sandpyper: A Python package for UAV-SfM beach volumetric and behavioural analysis"
         },
         {
          "DOI": "10.21105/joss.03212",
          "is-referenced-by-count": 0,
          "published.date-parts": "2021-09-20T00:00:00",
          "title": "plutus: An R package to calculate electricity investments and stranded assets from the Global Change Analysis Model (GCAM)"
         },
         {
          "DOI": "10.21105/joss.03695",
          "is-referenced-by-count": 0,
          "published.date-parts": "2021-10-06T00:00:00",
          "title": "HydDown: A Python package for calculation of hydrogen (or other gas) pressure vessel filling and discharge"
         },
         {
          "DOI": "10.21105/joss.03500",
          "is-referenced-by-count": 0,
          "published.date-parts": "2021-10-07T00:00:00",
          "title": "Radial Interstices Enable Speedy Low-volume Imaging"
         },
         {
          "DOI": "10.21105/joss.03601",
          "is-referenced-by-count": 0,
          "published.date-parts": "2021-09-26T00:00:00",
          "title": "cerf: A Python package to evaluate the feasibility and costs of power plant siting for alternative futures"
         },
         {
          "DOI": "10.21105/joss.03541",
          "is-referenced-by-count": 0,
          "published.date-parts": "2021-09-29T00:00:00",
          "title": "GeoClimate: a Geospatial processing toolbox for environmental and climate studies"
         },
         {
          "DOI": "10.21105/joss.03642",
          "is-referenced-by-count": 0,
          "published.date-parts": "2021-09-22T00:00:00",
          "title": "Feature-engine: A Python package for feature engineering for machine learning"
         },
         {
          "DOI": "10.21105/joss.03460",
          "is-referenced-by-count": 0,
          "published.date-parts": "2021-09-27T00:00:00",
          "title": "RayFlare: flexible optical modelling of solar cells"
         },
         {
          "DOI": "10.21105/joss.02783",
          "is-referenced-by-count": 0,
          "published.date-parts": "2021-05-13T00:00:00",
          "title": "SLAM Toolbox: SLAM for the dynamic world"
         },
         {
          "DOI": "10.21105/joss.03447",
          "is-referenced-by-count": 0,
          "published.date-parts": "2021-09-30T00:00:00",
          "title": "COVID-19 Lung Segmentation"
         },
         {
          "DOI": "10.21105/joss.03557",
          "is-referenced-by-count": 0,
          "published.date-parts": "2021-10-16T00:00:00",
          "title": "Inscriptis - A Python-based HTML to text conversion library optimized for knowledge extraction from the Web"
         },
         {
          "DOI": "10.21105/joss.03418",
          "is-referenced-by-count": 0,
          "published.date-parts": "2021-10-16T00:00:00",
          "title": "flux-data-qaqc: A Python Package for Energy Balance Closure and Post-Processing of Eddy Flux Data"
         },
         {
          "DOI": "10.21105/joss.03467",
          "is-referenced-by-count": 0,
          "published.date-parts": "2021-10-21T00:00:00",
          "title": "fishRman: A Shiny R Dashboard improving Global Fishing Watch data availability"
         },
         {
          "DOI": "10.21105/joss.02638",
          "is-referenced-by-count": 0,
          "published.date-parts": "2020-12-05T00:00:00",
          "title": "zalpha: an R package for the identification of regions of the genome under selection"
         },
         {
          "DOI": "10.21105/joss.02848",
          "is-referenced-by-count": 0,
          "published.date-parts": "2021-01-25T00:00:00",
          "title": "shinyssdtools: A web application for fitting Species Sensitivity Distributions (SSDs)"
         },
         {
          "DOI": "10.21105/joss.02767",
          "is-referenced-by-count": 0,
          "published.date-parts": "2021-01-07T00:00:00",
          "title": "GIMS: Graphical Interface for Materials Simulations"
         },
         {
          "DOI": "10.21105/joss.02864",
          "is-referenced-by-count": 0,
          "published.date-parts": "2021-01-23T00:00:00",
          "title": "Parent-map: analysis of parental contributions to evolved or engineered protein or DNA sequences"
         },
         {
          "DOI": "10.21105/joss.02911",
          "is-referenced-by-count": 0,
          "published.date-parts": "2021-02-21T00:00:00",
          "title": "ezc3d: An easy C3D file I/O cross-platform solution for C++, Python and MATLAB"
         },
         {
          "DOI": "10.21105/joss.02855",
          "is-referenced-by-count": 0,
          "published.date-parts": "2021-02-21T00:00:00",
          "title": "CoPro: a data-driven modelling framework for conflict risk projections"
         },
         {
          "DOI": "10.21105/astro.2007.11100",
          "is-referenced-by-count": 0,
          "published.date-parts": "2021-02-17T00:00:00",
          "title": "Characterizing the Sample Selection for Supernova Cosmology"
         },
         {
          "DOI": "10.21105/joss.02781",
          "is-referenced-by-count": 0,
          "published.date-parts": "2021-03-02T00:00:00",
          "title": "climpred: Verification of weather and climate forecasts"
         },
         {
          "DOI": "10.21105/joss.00021",
          "is-referenced-by-count": 0,
          "published.date-parts": "2016-05-18T00:00:00",
          "title": "pyuca: a Python implementation of the Unicode Collation Algorithm"
         },
         {
          "DOI": "10.21105/jose.00035",
          "is-referenced-by-count": 0,
          "published.date-parts": "2019-01-17T00:00:00",
          "title": "treesiftr: An R package and server for viewing phylogenetic trees and data"
         },
         {
          "DOI": "10.21105/joss.01146",
          "is-referenced-by-count": 0,
          "published.date-parts": "2019-01-18T00:00:00",
          "title": "swsc: A sitewise UCE partitioner"
         },
         {
          "DOI": "10.21105/joss.01063",
          "is-referenced-by-count": 0,
          "published.date-parts": "2019-01-11T00:00:00",
          "title": "3D ultrasound file reading and coordinate transformations"
         },
         {
          "DOI": "10.21105/joss.00662",
          "is-referenced-by-count": 0,
          "published.date-parts": "2018-10-08T00:00:00",
          "title": "EmissV: an R package to create vehicular and other emissions for air quality models"
         },
         {
          "DOI": "10.21105/joss.01064",
          "is-referenced-by-count": 0,
          "published.date-parts": "2018-12-10T00:00:00",
          "title": "wolfexplorer: a tool for visualization and exploration of complex multi-year multi-specimen datasets"
         },
         {
          "DOI": "10.21105/joss.00886",
          "is-referenced-by-count": 0,
          "published.date-parts": "2018-08-14T00:00:00",
          "title": "Combining a Probability and a Non-Probability Sample in a Capture-Recapture Setting"
         },
         {
          "DOI": "10.21105/joss.00766",
          "is-referenced-by-count": 0,
          "published.date-parts": "2018-06-21T00:00:00",
          "title": "General binary file parser."
         },
         {
          "DOI": "10.21105/joss.00678",
          "is-referenced-by-count": 0,
          "published.date-parts": "2018-07-27T00:00:00",
          "title": "SuchTree: Fast, thread-safe computations with phylogenetic trees"
         },
         {
          "DOI": "10.21105/jose.00015",
          "is-referenced-by-count": 0,
          "published.date-parts": "2018-06-21T00:00:00",
          "title": "Pynamical: Model and visualize discrete nonlinear dynamical systems, chaos, and fractals"
         },
         {
          "DOI": "10.21105/joss.00883",
          "is-referenced-by-count": 0,
          "published.date-parts": "2018-08-08T00:00:00",
          "title": "jstor: Import and Analyse Data from Scientific Texts"
         },
         {
          "DOI": "10.21105/joss.00676",
          "is-referenced-by-count": 0,
          "published.date-parts": "2018-07-22T00:00:00",
          "title": "OPEM : Open Source PEM Cell Simulation Tool"
         },
         {
          "DOI": "10.21105/joss.00164",
          "is-referenced-by-count": 0,
          "published.date-parts": "2017-02-12T00:00:00",
          "title": "FRIEDA: Flexible Robust Intelligent Elastic Data Management Framework"
         },
         {
          "DOI": "10.21105/joss.00332",
          "is-referenced-by-count": 0,
          "published.date-parts": "2017-08-03T00:00:00",
          "title": "The country converter coco - a Python package for converting country names between different classification schemes"
         },
         {
          "DOI": "10.21105/joss.00624",
          "is-referenced-by-count": 0,
          "published.date-parts": "2018-03-26T00:00:00",
          "title": "checkr: An R package for Assertive Programming"
         },
         {
          "DOI": "10.21105/joss.00517",
          "is-referenced-by-count": 0,
          "published.date-parts": "2018-01-15T00:00:00",
          "title": "arrgh: a Go interface to the OpenCPU R server system"
         },
         {
          "DOI": "10.21105/joss.01109",
          "is-referenced-by-count": 0,
          "published.date-parts": "2019-02-12T00:00:00",
          "title": "gtk-fortran: a GTK+ binding to build Graphical User Interfaces in Fortran"
         },
         {
          "DOI": "10.21105/joss.01145",
          "is-referenced-by-count": 0,
          "published.date-parts": "2019-02-17T00:00:00",
          "title": "strandCheckR: An R package for quantifying and removing double strand sequences for strand-specific RNA-seq"
         },
         {
          "DOI": "10.21105/joss.01189",
          "is-referenced-by-count": 0,
          "published.date-parts": "2019-02-11T00:00:00",
          "title": "The Biddy BDD package"
         },
         {
          "DOI": "10.21105/joss.01186",
          "is-referenced-by-count": 0,
          "published.date-parts": "2019-01-25T00:00:00",
          "title": "sierra-local: A lightweight standalone application for drug resistance prediction"
         },
         {
          "DOI": "10.21105/joss.01299",
          "is-referenced-by-count": 0,
          "published.date-parts": "2019-03-31T00:00:00",
          "title": "MicrobiomeR:  An R Package for Simplified and Standardized Microbiome Analysis Workflows"
         },
         {
          "DOI": "10.21105/joss.01350",
          "is-referenced-by-count": 0,
          "published.date-parts": "2019-04-30T00:00:00",
          "title": "rGUIDANCE – alignment confidence score computation in R"
         },
         {
          "DOI": "10.21105/joss.01418",
          "is-referenced-by-count": 0,
          "published.date-parts": "2019-05-19T00:00:00",
          "title": "Container Tree: Software to Model Container Filesystems, Packages, and Inheritance"
         },
         {
          "DOI": "10.21105/joss.01389",
          "is-referenced-by-count": 0,
          "published.date-parts": "2019-05-06T00:00:00",
          "title": "pyCeterisParibus: explaining Machine Learning models with Ceteris Paribus Profiles in Python"
         },
         {
          "DOI": "10.21105/joss.01225",
          "is-referenced-by-count": 0,
          "published.date-parts": "2019-05-07T00:00:00",
          "title": "DmpBbo: A versatile Python/C++ library for Function Approximation, Dynamical Movement Primitives, and Black-Box Optimization"
         },
         {
          "DOI": "10.21105/joss.01125",
          "is-referenced-by-count": 0,
          "published.date-parts": "2019-02-17T00:00:00",
          "title": "PyMS: Python for Mycorrhizal Symbiosis data analysis"
         },
         {
          "DOI": "10.21105/joss.01637",
          "is-referenced-by-count": 0,
          "published.date-parts": "2019-11-25T00:00:00",
          "title": "Virtual Scanner: MRI on a Browser"
         },
         {
          "DOI": "10.21105/joss.01642",
          "is-referenced-by-count": 0,
          "published.date-parts": "2019-11-08T00:00:00",
          "title": "PressureDrop.jl: Pressure traverses and gas lift analysis for oil & gas wells"
         },
         {
          "DOI": "10.21105/joss.01487",
          "is-referenced-by-count": 0,
          "published.date-parts": "2019-11-05T00:00:00",
          "title": "cppduals: a nestable vectorized templated dual number library for C++11"
         },
         {
          "DOI": "10.21105/joss.01111",
          "is-referenced-by-count": 0,
          "published.date-parts": "2019-02-04T00:00:00",
          "title": "Py-school-match: Matching algorithms to assign students to schools"
         },
         {
          "DOI": "10.21105/joss.01650",
          "is-referenced-by-count": 0,
          "published.date-parts": "2019-10-13T00:00:00",
          "title": "feign: a Python package to estimate geometric efficiency in passive gamma spectroscopy measurements of nuclear fuel"
         },
         {
          "DOI": "10.21105/jose.00050",
          "is-referenced-by-count": 0,
          "published.date-parts": "2019-08-04T00:00:00",
          "title": "Emacs-reveal: A software bundle to create OER presentations"
         },
         {
          "DOI": "10.21105/joss.01407",
          "is-referenced-by-count": 0,
          "published.date-parts": "2019-07-10T00:00:00",
          "title": "Lexicon-Mono-Seq, DOM Text Based Async MSA Viewer"
         },
         {
          "DOI": "10.21105/joss.01473",
          "is-referenced-by-count": 0,
          "published.date-parts": "2019-07-04T00:00:00",
          "title": "cde - R package to retrieve data from the Environment Agency Catchment Data Explorer site"
         },
         {
          "DOI": "10.21105/joss.01409",
          "is-referenced-by-count": 0,
          "published.date-parts": "2019-06-18T00:00:00",
          "title": "Multi-attribute task builder"
         },
         {
          "DOI": "10.21105/joss.01448",
          "is-referenced-by-count": 0,
          "published.date-parts": "2019-06-18T00:00:00",
          "title": "labjack-controller: Robust and Easy Data Collection with Labjack T-Series DAQs in Python"
         },
         {
          "DOI": "10.21105/joss.02523",
          "is-referenced-by-count": 0,
          "published.date-parts": "2020-08-31T00:00:00",
          "title": "causal-curve: A Python Causal Inference Package to Estimate Causal Dose-Response Curves"
         },
         {
          "DOI": "10.21105/joss.02123",
          "is-referenced-by-count": 0,
          "published.date-parts": "2020-09-04T00:00:00",
          "title": "CloudnetPy: A Python package for processing cloud remote sensing data"
         },
         {
          "DOI": "10.21105/astro.2009.13944",
          "is-referenced-by-count": 0,
          "published.date-parts": "2020-09-10T00:00:00",
          "title": "Low-scatter galaxy cluster mass proxies for the eROSITA all-sky survey"
         },
         {
          "DOI": "10.21105/joss.02436",
          "is-referenced-by-count": 0,
          "published.date-parts": "2020-09-23T00:00:00",
          "title": "CancerSim: A Cancer Simulation Package for Python 3"
         },
         {
          "DOI": "10.21105/joss.02663",
          "is-referenced-by-count": 0,
          "published.date-parts": "2020-10-20T00:00:00",
          "title": "rFBP: Replicated Focusing Belief Propagation algorithm"
         },
         {
          "DOI": "10.21105/joss.02392",
          "is-referenced-by-count": 0,
          "published.date-parts": "2020-10-02T00:00:00",
          "title": "multivar_horner: A Python package for computing Horner factorisations of multivariate polynomials"
         },
         {
          "DOI": "10.21105/joss.02670",
          "is-referenced-by-count": 0,
          "published.date-parts": "2020-11-01T00:00:00",
          "title": "Reorient: A Web tool for reorienting and cropping MRI data."
         },
         {
          "DOI": "10.21105/jcon.00035",
          "is-referenced-by-count": 0,
          "published.date-parts": "2020-07-29T00:00:00",
          "title": "HydroPowerModels.jl: A Julia/JuMP Package for Hydrothermal Economic Dispatch Optimization"
         },
         {
          "DOI": "10.21105/jcon.00038",
          "is-referenced-by-count": 0,
          "published.date-parts": "2020-07-26T00:00:00",
          "title": "Econometrics.jl"
         },
         {
          "DOI": "10.21105/joss.02135",
          "is-referenced-by-count": 0,
          "published.date-parts": "2020-08-05T00:00:00",
          "title": "audiomate: A Python package for working with audio datasets"
         },
         {
          "DOI": "10.21105/joss.02283",
          "is-referenced-by-count": 0,
          "published.date-parts": "2020-07-14T00:00:00",
          "title": "datafold: data-driven models for point clouds and time series on manifolds"
         },
         {
          "DOI": "10.21105/joss.02281",
          "is-referenced-by-count": 0,
          "published.date-parts": "2020-07-05T00:00:00",
          "title": "ExoTiC-ISM: A Python package for marginalised exoplanet transit parameters across a grid of systematic instrument models"
         },
         {
          "DOI": "10.21105/joss.02016",
          "is-referenced-by-count": 0,
          "published.date-parts": "2020-07-01T00:00:00",
          "title": "Audiometry: A model-view-viewmodel (MVVM) application framework for hearing impairment diagnosis"
         },
         {
          "DOI": "10.21105/joss.02645",
          "is-referenced-by-count": 0,
          "published.date-parts": "2020-12-14T00:00:00",
          "title": "BioGears: A C++ library for whole body physiology simulations"
         },
         {
          "DOI": "10.21105/joss.02653",
          "is-referenced-by-count": 0,
          "published.date-parts": "2020-12-04T00:00:00",
          "title": "Empirical and non-parametric copula models with the cort R package"
         },
         {
          "DOI": "10.21105/joss.02917",
          "is-referenced-by-count": 0,
          "published.date-parts": "2020-12-21T00:00:00",
          "title": "SymbiotaR2: An R Package for Accessing Symbiota2 Data"
         },
         {
          "DOI": "10.21105/joss.02506",
          "is-referenced-by-count": 0,
          "published.date-parts": "2020-11-17T00:00:00",
          "title": "DearScholar: A mobile application to conduct qualitative and quantitative diary research"
         },
         {
          "DOI": "10.21105/joss.02537",
          "is-referenced-by-count": 0,
          "published.date-parts": "2020-11-18T00:00:00",
          "title": "BigX: A geographical dataset visualisation tool"
         },
         {
          "DOI": "10.21105/joss.02175",
          "is-referenced-by-count": 0,
          "published.date-parts": "2020-06-02T00:00:00",
          "title": "taurenmd: A command-line interface for analysis of Molecular Dynamics simulations."
         },
         {
          "DOI": "10.21105/joss.03605",
          "is-referenced-by-count": 0,
          "published.date-parts": "2021-08-31T00:00:00",
          "title": "R-Opitools – An Opinion Analytical Tool for Big Digital Text Document (DTD)"
         },
         {
          "DOI": "10.21105/astro.2102.02284",
          "is-referenced-by-count": 0,
          "published.date-parts": "2021-09-21T00:00:00",
          "title": "Consequences of constant elevation scans for instrumental systematics in Cosmic Microwave Background Experiments"
         },
         {
          "DOI": "10.21105/joss.03609",
          "is-referenced-by-count": 0,
          "published.date-parts": "2021-09-20T00:00:00",
          "title": "home2park: An R package to assess the spatial provision of urban parks"
         },
         {
          "DOI": "10.21105/astro.2106.03528",
          "is-referenced-by-count": 0,
          "published.date-parts": "2021-09-28T00:00:00",
          "title": "Squeezing the Axion"
         },
         {
          "DOI": "10.21105/joss.03519",
          "is-referenced-by-count": 0,
          "published.date-parts": "2021-09-28T00:00:00",
          "title": "BisPy: Bisimulation in Python"
         },
         {
          "DOI": "10.21105/joss.03215",
          "is-referenced-by-count": 0,
          "published.date-parts": "2021-05-27T00:00:00",
          "title": "yaml2sbml: Human-readable and -writable specification of ODE models and their conversion to SBML"
         },
         {
          "DOI": "10.21105/jose.00122",
          "is-referenced-by-count": 0,
          "published.date-parts": "2021-10-09T00:00:00",
          "title": "r-cubed: Guiding the overwhelmed scientist from random wrangling to Reproducible Research in R"
         },
         {
          "DOI": "10.21105/astro.2010.11093",
          "is-referenced-by-count": 0,
          "published.date-parts": "2021-06-04T00:00:00",
          "title": "The local vertical density distribution of ultracool dwarfs M7 to L2.5 and their luminosity function"
         },
         {
          "DOI": "10.21105/joss.02990",
          "is-referenced-by-count": 0,
          "published.date-parts": "2021-06-01T00:00:00",
          "title": "netrd: A library for network reconstruction and graph distances"
         },
         {
          "DOI": "10.21105/jose.00115",
          "is-referenced-by-count": 0,
          "published.date-parts": "2021-07-21T00:00:00",
          "title": "Take a moderndive into introductory linear regression with R"
         },
         {
          "DOI": "10.21105/joss.03293",
          "is-referenced-by-count": 0,
          "published.date-parts": "2021-07-19T00:00:00",
          "title": "fitgrid: A Python package for multi-channel event-related time series regression modeling"
         },
         {
          "DOI": "10.21105/joss.03395",
          "is-referenced-by-count": 0,
          "published.date-parts": "2021-07-17T00:00:00",
          "title": "Lumen: A software for the interactive visualization of probabilistic models together with data"
         },
         {
          "DOI": "10.21105/joss.03438",
          "is-referenced-by-count": 0,
          "published.date-parts": "2021-07-19T00:00:00",
          "title": "caracas: Computer algebra in R"
         },
         {
          "DOI": "10.21105/jose",
          "is-referenced-by-count": 0,
          "published.date-parts": "",
          "title": "Journal of Open Source Education"
         },
         {
          "DOI": "10.21105/joss.03459",
          "is-referenced-by-count": 0,
          "published.date-parts": "2021-09-10T00:00:00",
          "title": "NiTransforms: A Python tool to read, represent, manipulate, and apply dimensional spatial transforms"
         },
         {
          "DOI": "10.21105/joss.03545",
          "is-referenced-by-count": 0,
          "published.date-parts": "2021-09-10T00:00:00",
          "title": "sorn: A Python package for Self Organizing Recurrent Neural Network"
         },
         {
          "DOI": "10.21105/joss.03454",
          "is-referenced-by-count": 0,
          "published.date-parts": "2021-08-25T00:00:00",
          "title": "SummationByPartsOperators.jl: A Julia library of provably stable discretization techniques with mimetic properties"
         },
         {
          "DOI": "10.21105/joss.03485",
          "is-referenced-by-count": 0,
          "published.date-parts": "2021-09-17T00:00:00",
          "title": "tbeptools: An R package for synthesizing estuarine data for environmental research"
         },
         {
          "DOI": "10.21105/joss.03669",
          "is-referenced-by-count": 0,
          "published.date-parts": "2021-10-12T00:00:00",
          "title": "TE-dependent analysis of multi-echo fMRI with tedana"
         },
         {
          "DOI": "10.21105/joss.03782",
          "is-referenced-by-count": 0,
          "published.date-parts": "2021-10-15T00:00:00",
          "title": "sbp-env: A Python Package for Sampling-based Motion Planner and Samplers"
         },
         {
          "DOI": "10.21105/joss.03540",
          "is-referenced-by-count": 0,
          "published.date-parts": "2021-10-15T00:00:00",
          "title": "RHRT: An R package to assess Heart Rate Turbulence"
         },
         {
          "DOI": "10.21105/joss.03714",
          "is-referenced-by-count": 0,
          "published.date-parts": "2021-10-23T00:00:00",
          "title": "Kinetics Toolkit: An Open-Source Python Package to Facilitate Research in Biomechanics"
         }
        ]
       },
       "encoding": {
        "x": {
         "axis": {
          "title": "Date"
         },
         "field": "published.date-parts",
         "type": "quantitative"
        },
        "y": {
         "axis": {
          "title": "Citation count"
         },
         "field": "is-referenced-by-count",
         "type": "ordinal"
        }
       },
       "height": 500,
       "mark": {
        "size": 50,
        "type": "circle"
       },
       "width": 700
      },
      "image/png": "[encoded data removed]",
      "text/plain": [
       "<VegaLite 3 object>\n",
       "\n",
       "If you see this message, it means the renderer has not been properly enabled\n",
       "for the frontend that you are using. For more information, see\n",
       "https://altair-viz.github.io/user_guide/troubleshooting.html\n"
      ]
     },
     "execution_count": 80,
     "metadata": {},
     "output_type": "execute_result"
    }
   ],
   "source": [
    "alt.Chart(df).mark_circle(size=50).encode(\n",
    "    x=alt.X('published.date-parts:Q', axis=alt.Axis(title='Date')),\n",
    "    y=alt.Y('is-referenced-by-count:O', axis=alt.Axis(title='Citation count')),\n",
    ").properties(height=500,width=700).configure_title(\n",
    "    fontSize=18\n",
    ").configure_axis(\n",
    "    grid=False,\n",
    "    labelFontSize=18,\n",
    "    titleFontSize=18\n",
    ")"
   ]
  },
  {
   "cell_type": "code",
   "execution_count": 78,
   "metadata": {},
   "outputs": [
    {
     "name": "stdout",
     "output_type": "stream",
     "text": [
      "https://api.eventdata.crossref.org/v1/events?mailto=info@front-matter.io&obj-id.prefix=10.21105&source=twitter&rows=0\n",
      "Event Data query started...\n",
      "API query complete  200\n",
      "output file written to 10.21105/ced.json\n",
      "7347 events found\n",
      "https://api.eventdata.crossref.org/v1/events?mailto=info@front-matter.io&obj-id.prefix=10.21105&source=wikipedia&rows=0\n",
      "Event Data query started...\n",
      "API query complete  200\n",
      "output file written to 10.21105/ced.json\n",
      "1841 events found\n",
      "https://api.eventdata.crossref.org/v1/events?mailto=info@front-matter.io&obj-id.prefix=10.21105&source=datacite&rows=0\n",
      "Event Data query started...\n",
      "API query complete  200\n",
      "output file written to 10.21105/ced.json\n",
      "939 events found\n",
      "https://api.eventdata.crossref.org/v1/events?mailto=info@front-matter.io&obj-id.prefix=10.21105&source=hypothesis&rows=0\n",
      "Event Data query started...\n",
      "API query complete  200\n",
      "output file written to 10.21105/ced.json\n",
      "3 events found\n",
      "https://api.eventdata.crossref.org/v1/events?mailto=info@front-matter.io&obj-id.prefix=10.21105&source=newsfeed&rows=0\n",
      "Event Data query started...\n",
      "API query complete  200\n",
      "output file written to 10.21105/ced.json\n",
      "50 events found\n"
     ]
    },
    {
     "data": {
      "application/vnd.vegalite.v3+json": {
       "$schema": "https://vega.github.io/schema/vega-lite/v3.4.0.json",
       "config": {
        "axis": {
         "grid": false,
         "labelFontSize": 18,
         "titleFontSize": 18
        },
        "mark": {
         "tooltip": null
        },
        "title": {
         "fontSize": 18
        },
        "view": {
         "height": 300,
         "strokeWidth": 0,
         "width": 400
        }
       },
       "data": {
        "name": "data-782f56d68ab5416bb1444d7e0e5b0d7e"
       },
       "datasets": {
        "data-782f56d68ab5416bb1444d7e0e5b0d7e": [
         {
          "count": 14057,
          "source": "Crossref"
         },
         {
          "count": 7347,
          "source": "Twitter"
         },
         {
          "count": 1841,
          "source": "Wikipedia"
         },
         {
          "count": 939,
          "source": "DataCite"
         },
         {
          "count": 3,
          "source": "Hypothesis"
         },
         {
          "count": 50,
          "source": "Newsfeed"
         }
        ]
       },
       "height": 200,
       "layer": [
        {
         "encoding": {
          "x": {
           "axis": {
            "title": "Event count"
           },
           "field": "count",
           "type": "quantitative"
          },
          "y": {
           "axis": {
            "title": null
           },
           "field": "source",
           "type": "ordinal"
          }
         },
         "mark": {
          "color": "#108080",
          "type": "bar"
         }
        },
        {
         "encoding": {
          "text": {
           "field": "count",
           "type": "quantitative"
          },
          "x": {
           "axis": {
            "title": "Event count"
           },
           "field": "count",
           "type": "quantitative"
          },
          "y": {
           "axis": {
            "title": null
           },
           "field": "source",
           "type": "ordinal"
          }
         },
         "mark": {
          "align": "left",
          "baseline": "middle",
          "dx": 3,
          "type": "text"
         }
        }
       ],
       "width": 700
      },
      "image/png": "[encoded data removed]",
      "text/plain": [
       "<VegaLite 3 object>\n",
       "\n",
       "If you see this message, it means the renderer has not been properly enabled\n",
       "for the frontend that you are using. For more information, see\n",
       "https://altair-viz.github.io/user_guide/troubleshooting.html\n"
      ]
     },
     "execution_count": 78,
     "metadata": {},
     "output_type": "execute_result"
    }
   ],
   "source": [
    "sources = ['Twitter', 'Wikipedia', 'DataCite', 'Hypothesis', 'Newsfeed']\n",
    "results = [{ 'source': 'Crossref', 'count': df['is-referenced-by-count'].sum()}]\n",
    "\n",
    "ed = mrced2.eventData(mailto = email)\n",
    "for source in sources:\n",
    "    ed.buildQuery({'obj-id.prefix' : prefix, 'source': source.lower(), 'rows': 0})\n",
    "    ed.runQuery(retry = 5)\n",
    "    hits = copy.deepcopy(ed.events.getHits())\n",
    "    pages = math.ceil(hits / 1000)\n",
    "    results.append({ 'source': source, 'count': hits})\n",
    "\n",
    "data = pd.DataFrame(results, columns=['source', 'count'])\n",
    "bars = alt.Chart(data).mark_bar(color='#108080').encode(\n",
    "    x=alt.X('count:Q', axis=alt.Axis(title='Event count')),\n",
    "    y=alt.Y('source:O', axis=alt.Axis(title=None))\n",
    ")\n",
    "text = bars.mark_text(\n",
    "    align='left',\n",
    "    baseline='middle',\n",
    "    dx=3  # Nudges text to right so it doesn't appear on top of the bar\n",
    ").encode(\n",
    "    text='count:Q'\n",
    ")\n",
    "(bars + text).properties(height=200,width=700).configure_title(\n",
    "    fontSize=18\n",
    ").configure_axis(\n",
    "    grid=False,\n",
    "    labelFontSize=18,\n",
    "    titleFontSize=18\n",
    ").configure_view(\n",
    "    strokeWidth=0\n",
    ")\n"
   ]
  },
  {
   "cell_type": "markdown",
   "metadata": {},
   "source": [
    "Initialisation to look at the properties of the results."
   ]
  }
 ],
 "metadata": {
  "kernelspec": {
   "display_name": "Python 3",
   "language": "python",
   "name": "python3"
  },
  "language_info": {
   "codemirror_mode": {
    "name": "ipython",
    "version": 3
   },
   "file_extension": ".py",
   "mimetype": "text/x-python",
   "name": "python",
   "nbconvert_exporter": "python",
   "pygments_lexer": "ipython3",
   "version": "3.8.8"
  },
  "nteract": {
   "version": "0.28.0"
  }
 },
 "nbformat": 4,
 "nbformat_minor": 4
}
