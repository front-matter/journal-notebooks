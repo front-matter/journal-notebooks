{
 "cells": [
  {
   "cell_type": "markdown",
   "metadata": {},
   "source": [
    "## Citation and Crossref Event Data Activity for JOSS Articles\n",
    "\n",
    "Find and display events from the Journal of Open Source Software (JOSS) prefix 10.21105."
   ]
  },
  {
   "cell_type": "code",
   "execution_count": 354,
   "metadata": {},
   "outputs": [],
   "source": [
    "import sys\n",
    "sys.path.append('../')\n",
    "sys.path.insert(0, '..')\n",
    "\n",
    "import pandas as pd # data analysis library\n",
    "import numpy as np\n",
    "import matplotlib.pyplot as plt\n",
    "import json\n",
    "import mrced2 # module to run event data queries\n",
    "import os # some file manipulations\n",
    "import math # some number manipulations\n",
    "import copy # to avoid copying references\n",
    "import requests\n",
    "import altair.vegalite.v3 as alt # some data visualizations\n",
    "from IPython.display import Markdown as md # some markdown manipulations\n",
    "from datetime import datetime, date, timedelta # some date manipulations"
   ]
  },
  {
   "cell_type": "code",
   "execution_count": 355,
   "metadata": {},
   "outputs": [
    {
     "name": "stdout",
     "output_type": "stream",
     "text": [
      "Added 500 rows.\n",
      "Added 500 rows.\n",
      "Added 500 rows.\n",
      "Added 31 rows.\n",
      "Added 0 rows.\n"
     ]
    },
    {
     "data": {
      "text/plain": [
       "DOI                               object\n",
       "published.date-parts      datetime64[ns]\n",
       "is-referenced-by-count             int64\n",
       "title                             object\n",
       "dtype: object"
      ]
     },
     "execution_count": 355,
     "metadata": {},
     "output_type": "execute_result"
    }
   ],
   "source": [
    "email = \"info@front-matter.io\"\n",
    "prefix = \"10.21105\"\n",
    "\n",
    "fname = 'works_' + prefix + '_' + str(date.today().strftime('%Y-%m-%d')) + '.csv'\n",
    "url = f'https://api.crossref.org/prefixes/{prefix}/works'\n",
    "cursor = '*'\n",
    "counter = 0\n",
    "items = [1]\n",
    "df = pd.DataFrame({'DOI': pd.Series(dtype='str'),'published.date-parts': pd.Series(dtype='datetime64[ns]'),'is-referenced-by-count': pd.Series(dtype='int'),'title': pd.Series(dtype='str')})\n",
    "\n",
    "while len(items) > 0:\n",
    "    params = {'rows': '500', 'sort': 'is-referenced-by-count', 'order': 'desc', 'cursor': cursor, 'mailto': 'info@front-matter.io'}\n",
    "    response = requests.get(url, params)\n",
    "    \n",
    "    counter += 1\n",
    "    cursor = response.json().get('message', {}).get('next-cursor', '*')\n",
    "    items = response.json().get('message', {}).get('items', [])\n",
    "    data = pd.json_normalize(items)\n",
    "    df2 = pd.DataFrame(data, columns=['DOI','published.date-parts','is-referenced-by-count','title'])\n",
    "    \n",
    "    # extract publication date from date-parts\n",
    "    def get_publication_date(x):\n",
    "        try:\n",
    "            date_as_string = str(x)\n",
    "            date_as_str = datetime.strptime(date_as_string[2:-2], \"%Y, %m, %d\")\n",
    "            return date_as_str.strftime(\"%Y-%m-%d\")\n",
    "        except:\n",
    "            return date.today().strftime(\"%Y-%m-%d\")\n",
    "\n",
    "    # clean up title        \n",
    "    def get_title(x):\n",
    "        str = x[0]\n",
    "        return str.strip()\n",
    "    \n",
    "    def get_citation_count(x):\n",
    "        try:\n",
    "            return int(x)\n",
    "        except:\n",
    "            return 0\n",
    "\n",
    "    df2['published.date-parts'] = df2['published.date-parts'].apply(get_publication_date)\n",
    "    df2['published.date-parts'] = df2['published.date-parts'].astype('datetime64[ns]')\n",
    "\n",
    "    df2['is-referenced-by-count'] = df2['is-referenced-by-count'].apply(get_citation_count)\n",
    "    df2['is-referenced-by-count'] = df2['is-referenced-by-count'].astype('int64')\n",
    "    df2['title'] = df2['title'].apply(get_title)\n",
    "    \n",
    "    df = pd.concat([df, df2], axis=0)\n",
    "    print('Added ' + str(len(items)) + ' rows.')\n",
    "\n",
    "df.to_csv(fname, index=False)\n",
    "df.dtypes"
   ]
  },
  {
   "cell_type": "code",
   "execution_count": 356,
   "metadata": {
    "tags": []
   },
   "outputs": [
    {
     "data": {
      "image/png": "[encoded data removed]",
      "text/plain": [
       "<Figure size 864x864 with 1 Axes>"
      ]
     },
     "metadata": {
      "needs_background": "light"
     },
     "output_type": "display_data"
    }
   ],
   "source": [
    "def scatterplot(df, x_dim, y_dim):\n",
    "  x = df[x_dim]\n",
    "  y = df[y_dim]\n",
    "  fig, ax = plt.subplots(figsize=(12, 12))\n",
    "\n",
    "  #defining an array of colors  \n",
    "  colors = ['#108080']\n",
    "\n",
    "  #customizes alpha for each dot in the scatter plot\n",
    "  ax.scatter(x, y, s=50, alpha=0.50, color=colors)\n",
    "    \n",
    "  #adds axes labels\n",
    "  ax.set_xlabel('Publication Year', fontsize=18)\n",
    "  ax.set_ylabel('Citation Count', fontsize=18)\n",
    "\n",
    "  ax.set_ylim([0, 2500])\n",
    "  ax.xaxis.set_tick_params(labelsize=12)\n",
    "  ax.yaxis.set_tick_params(labelsize=12)\n",
    "\n",
    "  #removing top and right borders\n",
    "  ax.spines['top'].set_visible(False)\n",
    "  ax.spines['right'].set_visible(False)\n",
    "    \n",
    "  plt.show()\n",
    "\n",
    "scatterplot(df, 'published.date-parts', 'is-referenced-by-count')"
   ]
  },
  {
   "cell_type": "code",
   "execution_count": 357,
   "metadata": {},
   "outputs": [
    {
     "name": "stdout",
     "output_type": "stream",
     "text": [
      "https://api.eventdata.crossref.org/v1/events?mailto=info@front-matter.io&obj-id.prefix=10.21105&source=twitter&rows=0\n",
      "Event Data query started...\n",
      "API query complete  200\n",
      "output file written to 10.21105/ced.json\n",
      "7348 events found\n",
      "https://api.eventdata.crossref.org/v1/events?mailto=info@front-matter.io&obj-id.prefix=10.21105&source=wikipedia&rows=0\n",
      "Event Data query started...\n",
      "API query complete  200\n",
      "output file written to 10.21105/ced.json\n",
      "1842 events found\n",
      "https://api.eventdata.crossref.org/v1/events?mailto=info@front-matter.io&obj-id.prefix=10.21105&source=datacite&rows=0\n",
      "Event Data query started...\n",
      "API query complete  200\n",
      "output file written to 10.21105/ced.json\n",
      "941 events found\n",
      "https://api.eventdata.crossref.org/v1/events?mailto=info@front-matter.io&obj-id.prefix=10.21105&source=hypothesis&rows=0\n",
      "Event Data query started...\n",
      "API query complete  200\n",
      "output file written to 10.21105/ced.json\n",
      "3 events found\n",
      "https://api.eventdata.crossref.org/v1/events?mailto=info@front-matter.io&obj-id.prefix=10.21105&source=newsfeed&rows=0\n",
      "Event Data query started...\n",
      "API query complete  200\n",
      "output file written to 10.21105/ced.json\n",
      "50 events found\n"
     ]
    },
    {
     "data": {
      "application/vnd.vegalite.v3+json": {
       "$schema": "https://vega.github.io/schema/vega-lite/v3.4.0.json",
       "config": {
        "axis": {
         "grid": false,
         "labelFontSize": 18,
         "titleFontSize": 18
        },
        "mark": {
         "tooltip": null
        },
        "title": {
         "fontSize": 18
        },
        "view": {
         "height": 300,
         "strokeWidth": 0,
         "width": 400
        }
       },
       "data": {
        "name": "data-af17c15d8adae1666d5fe7ca099dad5a"
       },
       "datasets": {
        "data-af17c15d8adae1666d5fe7ca099dad5a": [
         {
          "count": 14112,
          "source": "Crossref"
         },
         {
          "count": 7348,
          "source": "Twitter"
         },
         {
          "count": 1842,
          "source": "Wikipedia"
         },
         {
          "count": 941,
          "source": "DataCite"
         },
         {
          "count": 3,
          "source": "Hypothesis"
         },
         {
          "count": 50,
          "source": "Newsfeed"
         }
        ]
       },
       "height": 200,
       "layer": [
        {
         "encoding": {
          "x": {
           "axis": {
            "title": "Event count"
           },
           "field": "count",
           "type": "quantitative"
          },
          "y": {
           "axis": {
            "title": null
           },
           "field": "source",
           "type": "ordinal"
          }
         },
         "mark": {
          "color": "#108080",
          "type": "bar"
         }
        },
        {
         "encoding": {
          "text": {
           "field": "count",
           "type": "quantitative"
          },
          "x": {
           "axis": {
            "title": "Event count"
           },
           "field": "count",
           "type": "quantitative"
          },
          "y": {
           "axis": {
            "title": null
           },
           "field": "source",
           "type": "ordinal"
          }
         },
         "mark": {
          "align": "left",
          "baseline": "middle",
          "dx": 3,
          "type": "text"
         }
        }
       ],
       "width": 700
      },
      "image/png": "[encoded data removed]",
      "text/plain": [
       "<VegaLite 3 object>\n",
       "\n",
       "If you see this message, it means the renderer has not been properly enabled\n",
       "for the frontend that you are using. For more information, see\n",
       "https://altair-viz.github.io/user_guide/troubleshooting.html\n"
      ]
     },
     "execution_count": 357,
     "metadata": {},
     "output_type": "execute_result"
    }
   ],
   "source": [
    "sources = ['Twitter', 'Wikipedia', 'DataCite', 'Hypothesis', 'Newsfeed']\n",
    "results = [{ 'source': 'Crossref', 'count': df['is-referenced-by-count'].sum()}]\n",
    "\n",
    "ed = mrced2.eventData(mailto = email)\n",
    "for source in sources:\n",
    "    ed.buildQuery({'obj-id.prefix' : prefix, 'source': source.lower(), 'rows': 0})\n",
    "    ed.runQuery(retry = 5)\n",
    "    hits = copy.deepcopy(ed.events.getHits())\n",
    "    pages = math.ceil(hits / 1000)\n",
    "    results.append({ 'source': source, 'count': hits})\n",
    "\n",
    "data = pd.DataFrame(results, columns=['source', 'count'])\n",
    "bars = alt.Chart(data).mark_bar(color='#108080').encode(\n",
    "    x=alt.X('count:Q', axis=alt.Axis(title='Event count')),\n",
    "    y=alt.Y('source:O', axis=alt.Axis(title=None))\n",
    ")\n",
    "text = bars.mark_text(\n",
    "    align='left',\n",
    "    baseline='middle',\n",
    "    dx=3  # Nudges text to right so it doesn't appear on top of the bar\n",
    ").encode(\n",
    "    text='count:Q'\n",
    ")\n",
    "(bars + text).properties(height=200,width=700).configure_title(\n",
    "    fontSize=18\n",
    ").configure_axis(\n",
    "    grid=False,\n",
    "    labelFontSize=18,\n",
    "    titleFontSize=18\n",
    ").configure_view(\n",
    "    strokeWidth=0\n",
    ")\n"
   ]
  },
  {
   "cell_type": "markdown",
   "metadata": {},
   "source": [
    "Initialisation to look at the properties of the results."
   ]
  }
 ],
 "metadata": {
  "kernelspec": {
   "display_name": "Python 3",
   "language": "python",
   "name": "python3"
  },
  "language_info": {
   "codemirror_mode": {
    "name": "ipython",
    "version": 3
   },
   "file_extension": ".py",
   "mimetype": "text/x-python",
   "name": "python",
   "nbconvert_exporter": "python",
   "pygments_lexer": "ipython3",
   "version": "3.8.8"
  },
  "nteract": {
   "version": "0.28.0"
  }
 },
 "nbformat": 4,
 "nbformat_minor": 4
}
